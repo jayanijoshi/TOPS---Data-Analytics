{
  "nbformat": 4,
  "nbformat_minor": 0,
  "metadata": {
    "colab": {
      "provenance": []
    },
    "kernelspec": {
      "name": "python3",
      "display_name": "Python 3"
    },
    "language_info": {
      "name": "python"
    }
  },
  "cells": [
    {
      "cell_type": "markdown",
      "source": [
        "# Introduction To Python Assignment"
      ],
      "metadata": {
        "id": "Ce_fAYa2mktA"
      }
    },
    {
      "cell_type": "code",
      "source": [
        "#Question 1) What are the types of Applications?"
      ],
      "metadata": {
        "id": "GHUo71Tm0CWo"
      },
      "execution_count": null,
      "outputs": []
    },
    {
      "cell_type": "code",
      "source": [
        "#Question 2) What is programing?"
      ],
      "metadata": {
        "id": "8GBpoBCXmktB"
      },
      "execution_count": null,
      "outputs": []
    },
    {
      "cell_type": "code",
      "source": [
        "#Question 3) What is Python?"
      ],
      "metadata": {
        "id": "cuu5O9AEmktB"
      },
      "execution_count": null,
      "outputs": []
    },
    {
      "cell_type": "code",
      "source": [
        "#Question 4) Write a Python program to check if a number is positive, negative or zero.\n",
        "\n",
        "user_input = int(input(\"Enter a Number : \"))\n",
        "\n",
        "if user_input > 0 :\n",
        "  print(\"The Number is positive integer\")\n",
        "\n",
        "  if user_input < 0 :\n",
        "    print(\"The input is negative number\")\n",
        "else :\n",
        "  print(\"The input is ZERO\")"
      ],
      "metadata": {
        "id": "EwABc8696sZk"
      },
      "execution_count": null,
      "outputs": []
    },
    {
      "cell_type": "code",
      "source": [
        "#Question 5) Write a Python program to get the Factorial number of given numbers."
      ],
      "metadata": {
        "id": "XFjb4mKHmktB"
      },
      "execution_count": null,
      "outputs": []
    },
    {
      "cell_type": "code",
      "source": [
        "#Question 6) Write a Python program to get the Fibonacci series of given range."
      ],
      "metadata": {
        "id": "rCJ17qHwmktB"
      },
      "execution_count": null,
      "outputs": []
    },
    {
      "cell_type": "code",
      "source": [
        "#Question 7) How memory is managed in Python?"
      ],
      "metadata": {
        "id": "gmAwBymDmktB"
      },
      "execution_count": null,
      "outputs": []
    },
    {
      "cell_type": "code",
      "source": [
        "#Question 8) What is the purpose continuing statement in python?"
      ],
      "metadata": {
        "id": "Sx14Q1DnmktC"
      },
      "execution_count": null,
      "outputs": []
    },
    {
      "cell_type": "code",
      "source": [
        "#Question 9) Write python program that swap two number with temp variable and without temp variable."
      ],
      "metadata": {
        "id": "FrqBdiTAmktC"
      },
      "execution_count": null,
      "outputs": []
    },
    {
      "cell_type": "code",
      "source": [
        "#Question 10) Write a Python program to find whether a given number is even or odd, print out an appropriate message to the user."
      ],
      "metadata": {
        "id": "etL8ALQUmktD"
      },
      "execution_count": null,
      "outputs": []
    },
    {
      "cell_type": "code",
      "source": [
        "#Question 11) Write a Python program to test whether a passed letter is a vowel or not.\n"
      ],
      "metadata": {
        "id": "H_4CioNUmktE"
      },
      "execution_count": null,
      "outputs": []
    },
    {
      "cell_type": "code",
      "source": [
        "#Question 12) Write a Python program to sum of three given integers. However, if two values are equal sum will be zero.\n"
      ],
      "metadata": {
        "id": "Hlj5tVovmktE"
      },
      "execution_count": null,
      "outputs": []
    },
    {
      "cell_type": "code",
      "source": [
        "#Question 13) Write a Python program that will return true if the two given integer values are equal or their sum or difference is 5.\n"
      ],
      "metadata": {
        "id": "0vuAjwfZmktE"
      },
      "execution_count": null,
      "outputs": []
    },
    {
      "cell_type": "code",
      "source": [
        "#Question 14) Write a python program to sum of the first n positive integers.\n"
      ],
      "metadata": {
        "id": "vDaI2uekmktF"
      },
      "execution_count": null,
      "outputs": []
    },
    {
      "cell_type": "code",
      "source": [
        "#Question 15) Write a Python program to calculate the length of a string.\n"
      ],
      "metadata": {
        "id": "Hbr9rtdqmktF"
      },
      "execution_count": null,
      "outputs": []
    },
    {
      "cell_type": "code",
      "source": [
        "#Question 16) Write a Python program to count the number of characters (character frequency\n"
      ],
      "metadata": {
        "id": "VSXsPZqJmktG"
      },
      "execution_count": null,
      "outputs": []
    },
    {
      "cell_type": "code",
      "source": [
        "#Question 17) What are negative indexes and why are they used?\n"
      ],
      "metadata": {
        "id": "ut4uamgkmktG"
      },
      "execution_count": null,
      "outputs": []
    },
    {
      "cell_type": "code",
      "source": [
        "#Question 18) Write a Python program to count occurrences of a substring in a string.\n"
      ],
      "metadata": {
        "id": "7z8yzz_jmktG"
      },
      "execution_count": null,
      "outputs": []
    },
    {
      "cell_type": "code",
      "source": [
        "#Question 19) Write a Python program to count the occurrences of each word in a  Page 17 of 28   given sentence\n"
      ],
      "metadata": {
        "id": "nuhvlW_dmktH"
      },
      "execution_count": null,
      "outputs": []
    },
    {
      "cell_type": "code",
      "source": [
        "#Question 20) Write a Python program to get a single string from two given strings, separated by a space and swap the first two characters of each string."
      ],
      "metadata": {
        "id": "BIQ0zPHXmktH"
      },
      "execution_count": null,
      "outputs": []
    },
    {
      "cell_type": "code",
      "source": [
        "#Question 21) Write a Python program to add 'in' at the end of a given string (length should be at least 3\n"
      ],
      "metadata": {
        "id": "dxK6RxU7mktI"
      },
      "execution_count": null,
      "outputs": []
    },
    {
      "cell_type": "code",
      "source": [
        "#Question 22) Write a Python function to reverses a string if its length is a multiple of 4.\n"
      ],
      "metadata": {
        "id": "LuEBpxHWmktI"
      },
      "execution_count": null,
      "outputs": []
    },
    {
      "cell_type": "code",
      "source": [
        "#Question 23) Write a Python program to get a string made of the first 2 and the last 2 chars from a given a string. If the string length is less than 2, return instead of the empty string.\n"
      ],
      "metadata": {
        "id": "pZGWrEFImktI"
      },
      "execution_count": null,
      "outputs": []
    },
    {
      "cell_type": "code",
      "source": [
        "#Question 24) Write a Python function to insert a string in the middle of a string.\n"
      ],
      "metadata": {
        "id": "vFgWKxpcmktI"
      },
      "execution_count": null,
      "outputs": []
    },
    {
      "cell_type": "code",
      "source": [
        "#Question 25) What is List? How will you reverse a list?\n"
      ],
      "metadata": {
        "id": "YzFTPm5jmktJ"
      },
      "execution_count": null,
      "outputs": []
    },
    {
      "cell_type": "code",
      "source": [
        "#Question 26) How will you remove last object from a list?\n"
      ],
      "metadata": {
        "id": "pSJ4YTD0mktJ"
      },
      "execution_count": null,
      "outputs": []
    },
    {
      "cell_type": "code",
      "source": [
        "#Question 27)\n",
        "\n",
        "list1=[2, 33, 222, 14, 25]\n",
        "list1[-1]\n",
        "\n",
        "#Ans : Value is \"25\""
      ],
      "metadata": {
        "id": "3ZpKUeAlmktK"
      },
      "execution_count": null,
      "outputs": []
    },
    {
      "cell_type": "code",
      "source": [
        "#Question 28) Differentiate between append (\n"
      ],
      "metadata": {
        "id": "wTqaOuYI_vGU"
      },
      "execution_count": null,
      "outputs": []
    },
    {
      "cell_type": "code",
      "source": [
        "#Question 29) Write a Python function to get the largest number, smallest num and sum of all from a list.\n"
      ],
      "metadata": {
        "id": "bX8yG1uO_vC6"
      },
      "execution_count": null,
      "outputs": []
    },
    {
      "cell_type": "code",
      "source": [
        "#Question 30) How will you compare two lists?"
      ],
      "metadata": {
        "id": "66z7f0Pw_vAq"
      },
      "execution_count": null,
      "outputs": []
    },
    {
      "cell_type": "code",
      "source": [
        "#Question 31) Write a Python program to count the number of strings where the string  length is 2 or more and the first and last character are same from a given list of strings.\n"
      ],
      "metadata": {
        "id": "Z-S3sWZEw2pY"
      },
      "execution_count": null,
      "outputs": []
    },
    {
      "cell_type": "code",
      "source": [
        "#Question 32) Write a Python program to remove duplicates from a list.\n"
      ],
      "metadata": {
        "id": "8PSAqBCRw2uj"
      },
      "execution_count": null,
      "outputs": []
    },
    {
      "cell_type": "code",
      "source": [
        "#Question 33) Write a Python program to check a list is empty or not.\n"
      ],
      "metadata": {
        "id": "B4af9C9vw2z2"
      },
      "execution_count": null,
      "outputs": []
    },
    {
      "cell_type": "code",
      "source": [
        "#Question 34) Write a Python function that takes two lists and returns true if they have at least one common member.\n"
      ],
      "metadata": {
        "id": "X3sJls7Ow243"
      },
      "execution_count": null,
      "outputs": []
    },
    {
      "cell_type": "code",
      "source": [
        "#Question 35) Write a Python program to generate and print a list of first and last 5 elements where the values are square of numbers between 1 and 30.\n"
      ],
      "metadata": {
        "id": "QhUOPjPlw29f"
      },
      "execution_count": null,
      "outputs": []
    },
    {
      "cell_type": "code",
      "source": [
        "#Question 36) Write a Python function that takes a list and returns a new list with unique elements of the first list.\n"
      ],
      "metadata": {
        "id": "ML8pRFEqw3uD"
      },
      "execution_count": null,
      "outputs": []
    },
    {
      "cell_type": "code",
      "source": [
        "#Question 37) Write a Python program to convert a list of characters into a string.\n"
      ],
      "metadata": {
        "id": "rs2uIxCxw6St"
      },
      "execution_count": null,
      "outputs": []
    },
    {
      "cell_type": "code",
      "source": [
        "#Question 38) Write a Python program to select an item randomly from a list.\n"
      ],
      "metadata": {
        "id": "7e1TUqw9w6d9"
      },
      "execution_count": null,
      "outputs": []
    },
    {
      "cell_type": "code",
      "source": [
        "#Question 39) Write a Python program to find the second smallest number in a list.\n"
      ],
      "metadata": {
        "id": "yDe66jxlw6m2"
      },
      "execution_count": null,
      "outputs": []
    },
    {
      "cell_type": "code",
      "source": [
        "#Question 40) Write a Python program to get unique values from a list"
      ],
      "metadata": {
        "id": "xKYmEFuI_u-t"
      },
      "execution_count": null,
      "outputs": []
    },
    {
      "cell_type": "code",
      "source": [
        "#Question 41) Write a Python program to check whether a list contains a sub list\n"
      ],
      "metadata": {
        "id": "1zLhwakjxDoe"
      },
      "execution_count": null,
      "outputs": []
    },
    {
      "cell_type": "code",
      "source": [
        "#Question 42) Write a Python program to split a list into different variables.\n"
      ],
      "metadata": {
        "id": "Gb35ueIAxDte"
      },
      "execution_count": null,
      "outputs": []
    },
    {
      "cell_type": "code",
      "source": [
        "#Question 43) What is tuple? Difference between list and tuple.\n"
      ],
      "metadata": {
        "id": "uI1jtzyBxDzK"
      },
      "execution_count": null,
      "outputs": []
    },
    {
      "cell_type": "code",
      "source": [
        "#Questno 44) Write a Python program to create a tuple with different data types.\n"
      ],
      "metadata": {
        "id": "GNJwAMIGxD4p"
      },
      "execution_count": null,
      "outputs": []
    },
    {
      "cell_type": "code",
      "source": [
        "#Question 45) Write a Python program to unzip a list of tuples into individual lists.  Page 19 of 28\n"
      ],
      "metadata": {
        "id": "lnCAXANjxD-m"
      },
      "execution_count": null,
      "outputs": []
    },
    {
      "cell_type": "code",
      "source": [
        "#Question 46) Write a Python program to convert a list of tuples into a dictionary.\n"
      ],
      "metadata": {
        "id": "ocb7h5qnxEEz"
      },
      "execution_count": null,
      "outputs": []
    },
    {
      "cell_type": "code",
      "source": [
        "#Question 47) How will you create a dictionary using tuples in python?\n"
      ],
      "metadata": {
        "id": "goBY3zQoxEKP"
      },
      "execution_count": null,
      "outputs": []
    },
    {
      "cell_type": "code",
      "source": [
        "#Question 48) Write a Python script to sort (ascending and descending\n"
      ],
      "metadata": {
        "id": "jDOdZUkTxEPo"
      },
      "execution_count": null,
      "outputs": []
    },
    {
      "cell_type": "code",
      "source": [
        "#Question 49) Write a Python script to concatenate following dictionaries to create a new one.\n"
      ],
      "metadata": {
        "id": "lxhTKwYoxEVB"
      },
      "execution_count": null,
      "outputs": []
    },
    {
      "cell_type": "code",
      "source": [
        "#Question 50) Write a Python script to check if a given key already exists in a dictionary."
      ],
      "metadata": {
        "id": "Mw6qvY0O_u8H"
      },
      "execution_count": null,
      "outputs": []
    },
    {
      "cell_type": "code",
      "source": [
        "#Question 51) How Do You Traverse Through a Dictionary Object in Python?\n"
      ],
      "metadata": {
        "id": "bNlPyrFwxLX4"
      },
      "execution_count": null,
      "outputs": []
    },
    {
      "cell_type": "code",
      "source": [
        "#Question 52) How Do You Check the Presence of a Key in A Dictionary?\n"
      ],
      "metadata": {
        "id": "Fi17W2MnxLht"
      },
      "execution_count": null,
      "outputs": []
    },
    {
      "cell_type": "code",
      "source": [
        "#Question 53) Write a Python script to print a dictionary where the keys are numbers between 1 and 15.\n"
      ],
      "metadata": {
        "id": "UmmWqG2FxLqZ"
      },
      "execution_count": null,
      "outputs": []
    },
    {
      "cell_type": "code",
      "source": [
        "#Question 54) Write a Python program to check multiple keys exists in a dictionary\n"
      ],
      "metadata": {
        "id": "WFo76bpgxLxk"
      },
      "execution_count": null,
      "outputs": []
    },
    {
      "cell_type": "code",
      "source": [
        "#Question 55) Write a Python script to merge two Python dictionaries\n"
      ],
      "metadata": {
        "id": "z8spwbzcxL5P"
      },
      "execution_count": null,
      "outputs": []
    },
    {
      "cell_type": "code",
      "source": [
        "#Question 56) Write a Python program to map two lists into a dictionary Sample output: Counter ({'a': 400, 'b': 400,’d’: 400, 'c': 300}\n"
      ],
      "metadata": {
        "id": "AbJzGlrMxMAZ"
      },
      "execution_count": null,
      "outputs": []
    },
    {
      "cell_type": "code",
      "source": [
        "#Question 57) Write a Python program to find the highest 3 values in a dictionary\n"
      ],
      "metadata": {
        "id": "6YnGJb6txMH0"
      },
      "execution_count": null,
      "outputs": []
    },
    {
      "cell_type": "code",
      "source": [
        "#Question 58) Write a Python program to combine values in python list of dictionaries. Sample data: [{'item': 'item1', 'amount': 400}, {'item': 'item2', 'amount': 300}, o {'item': 'item1', 'amount': 750}] Expected Output: • Counter ({'item1': 1150, 'item2': 300}\n"
      ],
      "metadata": {
        "id": "3Gf25XLaxMOS"
      },
      "execution_count": null,
      "outputs": []
    },
    {
      "cell_type": "code",
      "source": [
        "#Question 59) Write a Python program to create a dictionary from a string. Note: Track the count of the letters from the string.\n"
      ],
      "metadata": {
        "id": "evX_yTxdxMVS"
      },
      "execution_count": null,
      "outputs": []
    },
    {
      "cell_type": "code",
      "source": [
        "#Question 60) Sample string: 'w3resource' Expected output: • {'3': 1,’s’: 1, 'r': 2, 'u': 1, 'w': 1, 'c': 1, 'e': 2, 'o': 1}"
      ],
      "metadata": {
        "id": "3d_E7edH_u5F"
      },
      "execution_count": null,
      "outputs": []
    },
    {
      "cell_type": "code",
      "source": [
        "#Question 61) Write a Python function to calculate the factorial of a number (a nonnegative integer\n"
      ],
      "metadata": {
        "id": "O4MadKMixSZ4"
      },
      "execution_count": null,
      "outputs": []
    },
    {
      "cell_type": "code",
      "source": [
        "#Question 62) Write a Python function to check whether a number is in a given range\n"
      ],
      "metadata": {
        "id": "q3D8dYRWxSfD"
      },
      "execution_count": null,
      "outputs": []
    },
    {
      "cell_type": "code",
      "source": [
        "#Question 63) Write a Python function to check whether a number is perfect or not.\n"
      ],
      "metadata": {
        "id": "AZBDf1EexSk5"
      },
      "execution_count": null,
      "outputs": []
    },
    {
      "cell_type": "code",
      "source": [
        "#Question 64) Write a Python function that checks whether a passed string is palindrome or not\n"
      ],
      "metadata": {
        "id": "UpiKSHigxSr2"
      },
      "execution_count": null,
      "outputs": []
    },
    {
      "cell_type": "code",
      "source": [
        "#Question 65) How Many Basic Types of Functions Are Available in Python?\n"
      ],
      "metadata": {
        "id": "pcfIyBKkxSy8"
      },
      "execution_count": null,
      "outputs": []
    },
    {
      "cell_type": "code",
      "source": [
        "#Question 66) How can you pick a random item from a list or tuple?\n"
      ],
      "metadata": {
        "id": "7FVen7bBxS5k"
      },
      "execution_count": null,
      "outputs": []
    },
    {
      "cell_type": "code",
      "source": [
        "#Question 67) How can you pick a random item from a range?\n"
      ],
      "metadata": {
        "id": "4lN2NbMrxTAf"
      },
      "execution_count": null,
      "outputs": []
    },
    {
      "cell_type": "code",
      "source": [
        "#Question 68) How can you get a random number in python?\n"
      ],
      "metadata": {
        "id": "pEoEQUNPxTIV"
      },
      "execution_count": null,
      "outputs": []
    },
    {
      "cell_type": "code",
      "source": [
        "#Question 69) How will you set the starting value in generating random numbers? Page 21 of 28\n"
      ],
      "metadata": {
        "id": "8y-TKWhIxTPU"
      },
      "execution_count": null,
      "outputs": []
    },
    {
      "cell_type": "code",
      "source": [
        "#Question 70) How will you randomize the items of a list in place?"
      ],
      "metadata": {
        "id": "r25zcE-P_u2c"
      },
      "execution_count": null,
      "outputs": []
    },
    {
      "cell_type": "code",
      "source": [
        "#Question 71) What is File function in python? What are keywords to create and write file.\n"
      ],
      "metadata": {
        "id": "-GQrH7Pgxdbl"
      },
      "execution_count": null,
      "outputs": []
    },
    {
      "cell_type": "code",
      "source": [
        "#Question 72) Write a Python program to read an entire text file.\n"
      ],
      "metadata": {
        "id": "WnA3-uhvxdgm"
      },
      "execution_count": null,
      "outputs": []
    },
    {
      "cell_type": "code",
      "source": [
        "#Question 73) Write a Python program to append text to a file and display the text.\n"
      ],
      "metadata": {
        "id": "jJJriWSHxdmS"
      },
      "execution_count": null,
      "outputs": []
    },
    {
      "cell_type": "code",
      "source": [
        "#Question 74) Write a Python program to read first n lines of a file.\n"
      ],
      "metadata": {
        "id": "enRpfgtXxdsE"
      },
      "execution_count": null,
      "outputs": []
    },
    {
      "cell_type": "code",
      "source": [
        "#Question 75) Write a Python program to read last n lines of a file.\n"
      ],
      "metadata": {
        "id": "jXSmWZrrxdx5"
      },
      "execution_count": null,
      "outputs": []
    },
    {
      "cell_type": "code",
      "source": [
        "#Question 76) Write a Python program to read a file line by line and store it into a list\n"
      ],
      "metadata": {
        "id": "RJ0-zhl3xd3w"
      },
      "execution_count": null,
      "outputs": []
    },
    {
      "cell_type": "code",
      "source": [
        "#Question 77) Write a Python program to read a file line by line store it into a variable.\n"
      ],
      "metadata": {
        "id": "T8IrdqfJxd9Y"
      },
      "execution_count": null,
      "outputs": []
    },
    {
      "cell_type": "code",
      "source": [
        "#Question 78) Write a python program to find the longest words.\n"
      ],
      "metadata": {
        "id": "yiSoIq4NxeDL"
      },
      "execution_count": null,
      "outputs": []
    },
    {
      "cell_type": "code",
      "source": [
        "#Question 79) Write a Python program to count the number of lines in a text file.\n"
      ],
      "metadata": {
        "id": "folkAysRxeJC"
      },
      "execution_count": null,
      "outputs": []
    },
    {
      "cell_type": "code",
      "source": [
        "#Question 80) Write a Python program to count the frequency of words in a file.\n"
      ],
      "metadata": {
        "id": "XmtyoFBO_u0F"
      },
      "execution_count": null,
      "outputs": []
    },
    {
      "cell_type": "code",
      "source": [
        "#Question 81) Write a Python program to write a list to a file.\n"
      ],
      "metadata": {
        "id": "YC1r13EoxjCr"
      },
      "execution_count": null,
      "outputs": []
    },
    {
      "cell_type": "code",
      "source": [
        "#Question 82) Write a Python program to copy the contents of a file to another file.\n"
      ],
      "metadata": {
        "id": "Hk2X6HGAxjKb"
      },
      "execution_count": null,
      "outputs": []
    },
    {
      "cell_type": "code",
      "source": [
        "#Question 83) Explain Exception handling? What is an Error in Python?\n"
      ],
      "metadata": {
        "id": "pzuIdjLvxjRc"
      },
      "execution_count": null,
      "outputs": []
    },
    {
      "cell_type": "code",
      "source": [
        "#Question 84) How many except statements can a try-except block have? Name Some built-in exception classes:\n"
      ],
      "metadata": {
        "id": "M4E_zaQOxjX5"
      },
      "execution_count": null,
      "outputs": []
    },
    {
      "cell_type": "code",
      "source": [
        "#Question 85) When will the else part of try-except-else be executed?\n"
      ],
      "metadata": {
        "id": "qDAx_-D5xjen"
      },
      "execution_count": null,
      "outputs": []
    },
    {
      "cell_type": "code",
      "source": [
        "#Question 86) Can one block of except statements handle multiple exception?\n"
      ],
      "metadata": {
        "id": "MeMeh2l7xjlm"
      },
      "execution_count": null,
      "outputs": []
    },
    {
      "cell_type": "code",
      "source": [
        "#Question 87) When is the finally block executed?\n"
      ],
      "metadata": {
        "id": "Bwo2kVdXxjst"
      },
      "execution_count": null,
      "outputs": []
    },
    {
      "cell_type": "code",
      "source": [
        "#Question 88)\n",
        ",,1\"==1 - would display an error as the quatations are wrong.\n",
        "\n",
        "#Correct Input to get Output -:\n",
        "\"1\"==1\n",
        "#Output : False"
      ],
      "metadata": {
        "id": "tq4i5xw1xjzg",
        "colab": {
          "base_uri": "https://localhost:8080/"
        },
        "outputId": "b8652adf-d659-4edf-f77d-67d88d55de3d"
      },
      "execution_count": null,
      "outputs": [
        {
          "output_type": "execute_result",
          "data": {
            "text/plain": [
              "False"
            ]
          },
          "metadata": {},
          "execution_count": 9
        }
      ]
    },
    {
      "cell_type": "code",
      "source": [
        "#Question 89) How Do You Handle Exceptions with Try/Except/Finally in Python? Explain with coding snippets.\n"
      ],
      "metadata": {
        "id": "-hhObQlMxodc"
      },
      "execution_count": null,
      "outputs": []
    },
    {
      "cell_type": "code",
      "source": [
        "#Question 90) Write python program that user to enter only odd numbers, else will raise an exception."
      ],
      "metadata": {
        "id": "DNoYnv7N_uxY"
      },
      "execution_count": null,
      "outputs": []
    }
  ]
}