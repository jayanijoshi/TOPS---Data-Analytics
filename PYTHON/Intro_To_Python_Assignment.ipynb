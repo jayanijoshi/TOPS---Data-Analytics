{
  "nbformat": 4,
  "nbformat_minor": 0,
  "metadata": {
    "colab": {
      "provenance": []
    },
    "kernelspec": {
      "name": "python3",
      "display_name": "Python 3"
    },
    "language_info": {
      "name": "python"
    }
  },
  "cells": [
    {
      "cell_type": "markdown",
      "source": [
        "1) What are the types of Applications?"
      ],
      "metadata": {
        "id": "RE3Tw-gritKW"
      }
    },
    {
      "cell_type": "markdown",
      "source": [
        "ANSWER 1 -:\n",
        "\n",
        "[TYPES OF APPLICATIONS IN PYTHON](https://www.python.org/about/apps/) ::\n",
        "\n",
        "In Python, there are plenty of types of applications namely\n",
        "\n",
        "**Web and Internet Development** : Python offers many choices for web development:\n",
        "\n",
        "1. Frameworks such as Django and Pyramid.\n",
        "2. Micro-frameworks such as Flask and Bottle.\n",
        "3. Advanced content management systems such as Plone and django CMS.\n",
        "\n",
        "**Scientific and Numeric** : Python is widely used in scientific and numeric computing:\n",
        "\n",
        "1. SciPy is a collection of packages for mathematics, science, and engineering.\n",
        "2. Pandas is a data analysis and modeling library.\n",
        "3. NumPy is used to perform complex and lengthy mathematical calculations in seconds.\n",
        "4. MatPlotLib and Seaborn are used for visualizing data in interactive way.\n",
        "5. IPython is a powerful interactive shell that features easy editing and recording of a work session, and supports visualizations and parallel computing.\n",
        "6. The Software Carpentry Course teaches basic skills for scientific computing, running bootcamps and providing open-access teaching materials.\n",
        "\n",
        "**Education** : Python is a superb language for teaching programming, both at the introductory level and in more advanced courses.\n",
        "\n",
        "**Software Development** : Python is often used as a support language for software developers, for build control and management, testing, and in many other ways.\n",
        "\n",
        "**Business Applications** : Python is also used to build ERP and e-commerce systems:\n",
        "\n",
        "1. Odoo is an all-in-one management software that offers a range of business applications that form a complete suite of enterprise management applications.\n",
        "2. Tryton is a three-tier high-level general purpose application platform.\n",
        "\n",
        "\n",
        "[TYPES OF APPLICATIONS IN GENERAL](https://rb.gy/61jjy5) ::\n",
        "\n",
        "The types of Software applications are list below :\n",
        "\n",
        "1. Web Applications\n",
        "2. Mobile Applications\n",
        "3. Desktop Applications\n",
        "4. Enterprise Applications\n",
        "5. Cloud Applications\n",
        "6. Other Software Applications"
      ],
      "metadata": {
        "id": "wYtNE3YSNIQO"
      }
    },
    {
      "cell_type": "markdown",
      "source": [
        "2) What is programing?"
      ],
      "metadata": {
        "id": "p3TCku8_iz-E"
      }
    },
    {
      "cell_type": "markdown",
      "source": [
        "ANSWER 2 -:\n",
        "\n",
        "The programming is the process of using coding languages to solve complex programs by assigning tasks to the computer."
      ],
      "metadata": {
        "id": "TPM58g7aya0R"
      }
    },
    {
      "cell_type": "markdown",
      "source": [
        "3) What is Python?"
      ],
      "metadata": {
        "id": "BZsdz1pdi3U6"
      }
    },
    {
      "cell_type": "markdown",
      "source": [
        "ANSWER 3 -:\n",
        "\n",
        "▶ PYTHON is the type of a high-level interpretor. This language scans the code and display errors line-by-line.\n",
        "\n",
        "▶ It's used for translating codes. It was created by Guido van Rossum, and released in 1991.\n",
        "\n",
        "▶ It contains various elements that make the complex and lengthy tasks to be done within seconds.\n",
        "\n",
        "▶ The libraries of Python helps the user perform difficult calculations, visualize data and even draw insights from the workbooks."
      ],
      "metadata": {
        "id": "Qrgg8LY_ygSX"
      }
    },
    {
      "cell_type": "markdown",
      "source": [
        "\n",
        "4) Write a Python program to check if a number is positive, negative or zero."
      ],
      "metadata": {
        "id": "vJk-t2mFi6bd"
      }
    },
    {
      "cell_type": "code",
      "source": [
        "#ANSWER 4 -:\n",
        "\n",
        "user_input = int(input(\"Enter a Number : \"))\n",
        "\n",
        "if user_input > 0 :                           #Checking for the positve number\n",
        "  print(\"The Number is a positive integer\")\n",
        "\n",
        "elif user_input < 0 :                           #Checking for the negative number\n",
        "  print(\"The Input is a negative number\")\n",
        "\n",
        "else :\n",
        "  print(\"The input is ZERO\")"
      ],
      "metadata": {
        "id": "hRQlWEGdob8u"
      },
      "execution_count": null,
      "outputs": []
    },
    {
      "cell_type": "markdown",
      "source": [
        "\n",
        "5) Write a Python program to get the Factorial number of given numbers."
      ],
      "metadata": {
        "id": "ZMvvoiVLi9mX"
      }
    },
    {
      "cell_type": "code",
      "source": [
        "#ANSWER 5 -:\n",
        "\n",
        "j = int(input(\"Enter a number here : \"))          #Taking the input from user\n",
        "i = j\n",
        "factorial = 1\n",
        "\n",
        "while i > 1 :                           #Iterating through the input to check for factorial\n",
        "    factorial *= i\n",
        "    i -= 1\n",
        "print(\"The factorial of number is \", factorial)"
      ],
      "metadata": {
        "id": "fGOVSD_ZocXO"
      },
      "execution_count": null,
      "outputs": []
    },
    {
      "cell_type": "markdown",
      "source": [
        "6) Write a Python program to get the Fibonacci series of given range."
      ],
      "metadata": {
        "id": "WIFRiiGfjCEQ"
      }
    },
    {
      "cell_type": "code",
      "source": [
        "#ANSWER 6\n",
        "\n",
        "# OPTION 1 :\n",
        "\n",
        "a=int(input(\"Enter number a : \"))     #1st Number in series\n",
        "b=int(input(\"Enter number b : \"))     #2nd Number for series\n",
        "\n",
        "\n",
        "for i in range(10):   #OR for i in range(n-2)\n",
        "    c=a+b          #calculating the next number in the series by adding the first two input\n",
        "    print(c)\n",
        "    a=b           # assigning the value a to b and b to c,\n",
        "    b=c           # to continue the series till the range is satisfied\n",
        "\n",
        "\n",
        "# OPTION 2 :\n",
        "\n",
        "num = int(input(\"Enter a num : \"))\n",
        "\n",
        "a, b = 0, 1      #assigning values to a and b to start fibonacci series\n",
        "\n",
        "for i in range(num) :\n",
        "  print (a, end=\" \")\n",
        "  a, b = b, a + b     #a1ssigning value of 'a' to b and 'b' to addition of the both numbers till the end of range\n",
        "\n",
        "\n",
        "# OPTION 3 :\n",
        "\n",
        "from sympy import fibonacci    #importing library to calcuate fibonnaci series without any code\n",
        "fibonacci(10)                   #give the final output as the sum if all the number in range"
      ],
      "metadata": {
        "id": "RIsU4zR6of-v"
      },
      "execution_count": null,
      "outputs": []
    },
    {
      "cell_type": "markdown",
      "source": [
        "7) How memory is managed in Python?"
      ],
      "metadata": {
        "id": "KqLWIttqjJ2x"
      }
    },
    {
      "cell_type": "markdown",
      "source": [
        "ANSWER 7 -:\n",
        "\n",
        "- In Python, memory management is automatic, it involves handling a private heap that contains all Python objects and data structures.\n",
        "- The Python memory manager internally ensures the efficient allocation and deallocation of this memory.\n",
        "- Python's memory management is performed through various mechanisms, including garbage collection, reference counting, and how variables are stored on the stack and heap.\n",
        "- **Private Heap** : Acts as the main storage for all Python objects and data. It is managed internally by the Python memory manager.\n",
        "- **Raw Memory Allocator** : This low-level component directly interacts with the operating system to reserve memory space in Python's private heap. It ensures there's enough room for Python's data structures and objects.\n",
        "- **Object-Specific Allocators** : On top of the raw memory allocator, several object-specific allocators manage memory for different types of objects, such as integers, strings, tuples, and dictionaries.\n",
        "\n",
        "[Reference Source](https://www.tutorialspoint.com/python/python_memory_management.html)"
      ],
      "metadata": {
        "id": "71tHLlfMbUEy"
      }
    },
    {
      "cell_type": "markdown",
      "source": [
        "8) What is the purpose continuing statement in python?"
      ],
      "metadata": {
        "id": "P2PldaPmjNsj"
      }
    },
    {
      "cell_type": "markdown",
      "source": [
        "ANSWER 8 -:\n",
        "\n",
        "The \"**CONTINUE**\" in a program is used when the iteration needs to continue till the end even if the condition is fulfilled in initial statements only.\n",
        "Or even if the code needs to continue running after encountering a false output."
      ],
      "metadata": {
        "id": "WsTGMnUUugtM"
      }
    },
    {
      "cell_type": "markdown",
      "source": [
        "9) Write python program that swap two number with temp variable and without temp variable."
      ],
      "metadata": {
        "id": "jkHmtGNFjS5Z"
      }
    },
    {
      "cell_type": "code",
      "source": [
        "#ANSWER 9 -:\n",
        "\n",
        "#WITH USING TEMPORARY VARIABLES\n",
        "v1 = 99\n",
        "v2 = 18\n",
        "\n",
        "t1 = v2  #using temporary variable to swap two numbers\n",
        "t2 = v1\n",
        "\n",
        "\n",
        "print(\"1st Option - The swapped number with using temporary variable are\", t1, \"and\" ,t2)\n",
        "\n",
        "\n",
        "#WITHOUT USING TEMPORARY VARIABLES\n",
        "var1 = 5\n",
        "var2 = 9\n",
        "\n",
        "var1, var2 = var2, var1   #swapping using only the parent variables\n",
        "\n",
        "print(\"2nd Option - The swapped number without using temporary variable are\", var1, \"and\" ,var2)"
      ],
      "metadata": {
        "id": "u1i-MDaaohdW"
      },
      "execution_count": null,
      "outputs": []
    },
    {
      "cell_type": "markdown",
      "source": [
        "\n",
        "10) Write a Python program to find whether a given number is even or odd, print out an appropriate message to the user."
      ],
      "metadata": {
        "id": "xewzOzjCjWml"
      }
    },
    {
      "cell_type": "code",
      "source": [
        "#ANSWER 10 -:\n",
        "\n",
        "number = int(input(\"Enter a number here : \"))      #taking user input\n",
        "\n",
        "if number > 0 :       #checking for the even or odd number\n",
        "    if number %2 == 0 :\n",
        "        print(\"The input is an even number\")\n",
        "    else :\n",
        "        print(\"The input is an odd number\")\n",
        "\n",
        "elif number < 0 :       #checking for the positive or negative number\n",
        "    if number %2 == 0 :\n",
        "        print(\"The input is a negative even number\")\n",
        "    else :\n",
        "        print(\"The input is a negative odd number\")\n",
        "\n",
        "else :       #output if input is ZERO and type\n",
        "    if number == 0 :\n",
        "        print(\"ZERO! Still an even number\")"
      ],
      "metadata": {
        "id": "J5M06xbwoiub"
      },
      "execution_count": null,
      "outputs": []
    },
    {
      "cell_type": "markdown",
      "source": [
        "11) Write a Python program to test whether a passed letter is a vowel or not."
      ],
      "metadata": {
        "id": "0DqCIjX5jacH"
      }
    },
    {
      "cell_type": "code",
      "source": [
        "#ANSWER 11 -:\n",
        "\n",
        "# 1st OPTION #\n",
        "entry = input(\"Enter any letter below :\\n\")         #taking user input\n",
        "vowels = [\"a\",\"e\",\"i\",\"o\",\"u\",\"A\",\"E\",\"I\",\"O\",\"U\"]         #making list if all vowels upper-lower case\n",
        "\n",
        "if entry in vowels :\n",
        "    print(\"The letter is in fact a vowel\")         #Checking for a vowel from the list\n",
        "\n",
        "if entry not in vowels :\n",
        "    print(\"The input is neither a vowel nor a consonant\")         #printing statement if not vowel\n",
        "\n",
        "else :\n",
        "  print(\"The vowel is a consonant\")\n",
        "\n",
        "\n",
        "# 2nd OPTION #\n",
        "l = str(input(\"Enter a letter : \"))         #taking user input\n",
        "\n",
        "if (l=='a' or  l=='e' or l=='i' or l=='o' or l=='u' or l==\"A\" or l=='E' or l=='I' or l=='O' or l==\"U\") :         #checking for a vowel in input\n",
        "  print (\"Letter is a vowel\")\n",
        "elif l.isnumeric() :             #checking for numeric input\n",
        "  print (\"Input is an integer\")\n",
        "elif l.isalnum() and not l.isalpha() and not l.isnumeric() :           #checkin\n",
        "g for alphanumeric input\n",
        "  print(\"The input has both letters as well as numbers\")\n",
        "else :\n",
        "  print (\"Letter is a consonant\")"
      ],
      "metadata": {
        "id": "QCkMjGT4olJQ"
      },
      "execution_count": null,
      "outputs": []
    },
    {
      "cell_type": "markdown",
      "source": [
        "12) Write a Python program to sum of three given integers. However, if two values are equal sum will be zero."
      ],
      "metadata": {
        "id": "ZhJ5qCoWjdo3"
      }
    },
    {
      "cell_type": "code",
      "source": [
        "#ANSWER 12 -:\n",
        "\n",
        "\n",
        "h = int(input(\"Enter the 1st integer : \"))          #taking user input\n",
        "i = int(input(\"Enter the 2nd integer : \"))          #for\n",
        "j = int(input(\"Enter the 3rd integer : \"))          #three integers\n",
        "\n",
        "if h != i and i != j and j != h :             #checking for unique integers\n",
        "    sum = h + i + j\n",
        "    print(\"The sum of integers is\", sum)\n",
        "\n",
        "else :\n",
        "    if h == i or h == j or i == j :          #checking for two same integers\n",
        "        print(\"The any two numbers are same and the sum is\", 0)"
      ],
      "metadata": {
        "id": "gLykrzKaoljA"
      },
      "execution_count": null,
      "outputs": []
    },
    {
      "cell_type": "markdown",
      "source": [
        "13) Write a Python program that will return true if the two given integer values are equal or their sum or difference is 5."
      ],
      "metadata": {
        "id": "6Q7JMQ4zjgdW"
      }
    },
    {
      "cell_type": "code",
      "source": [
        "#ANSWER 13 -:\n",
        "\n",
        "n1 = int(input(\"1st Number : \\n\"))    #user input\n",
        "n2 = int(input(\"2nd Number : \\n\"))    #user input\n",
        "\n",
        "if n1 == n2 :              #checking if two integers are same\n",
        "    print(\"The two integers are same so 'TruE'\")\n",
        "\n",
        "elif n1 != n2 :\n",
        "    if n1 - n2 == 5 :          #checking if two integers have difference of 5\n",
        "        print(\"The difference of two integers is 5 so 'TRUE'\")\n",
        "    elif n1 + n2 == 5 :         #checking if two integers have sum of 5\n",
        "        print(\"Sum is 5 and that's 'T.R.U.E.'\")\n",
        "    else :\n",
        "        print (\"None of the conditions are True so , F A L S E\")"
      ],
      "metadata": {
        "id": "gXCEXjncomGs"
      },
      "execution_count": null,
      "outputs": []
    },
    {
      "cell_type": "markdown",
      "source": [
        "14) Write a python program to sum of the first n positive integers."
      ],
      "metadata": {
        "id": "hB50HxEGjjeI"
      }
    },
    {
      "cell_type": "code",
      "source": [
        "#ANSWER 14 -:\n",
        "\n",
        "num = int(input(\"Enter a number : \"))          #taking user input\n",
        "\n",
        "sum = num * (num + 1)/2  #Applying the universal math formula to calculate the sum\n",
        "\n",
        "print(\"The sum of positive integers for\", num, \"is\", sum)\n",
        "\n",
        "\n",
        "## Math Formula source : https://www.cuemath.com/sum-of-natural-numbers-formula/"
      ],
      "metadata": {
        "id": "LamnHJ6Kom0A"
      },
      "execution_count": null,
      "outputs": []
    },
    {
      "cell_type": "markdown",
      "source": [
        "15) Write a Python program to calculate the length of a string."
      ],
      "metadata": {
        "id": "VF99iHNQjl6R"
      }
    },
    {
      "cell_type": "code",
      "source": [
        "#ANWER 15 -:\n",
        "\n",
        "length = input(\"Enter any string here : \")          #taking user input\n",
        "\n",
        "print(\"The length of the input is,\", len(length))      #calculating and printing the string length"
      ],
      "metadata": {
        "id": "puk77MhTonii"
      },
      "execution_count": null,
      "outputs": []
    },
    {
      "cell_type": "markdown",
      "source": [
        "16) Write a Python program to count the number of characters (character frequency) in a string"
      ],
      "metadata": {
        "id": "kCoNZOEHmn9Z"
      }
    },
    {
      "cell_type": "code",
      "source": [
        "string = \"The Beautiful World and a wonderul Life\"\n",
        "\n",
        "char = input(\"Select a character from the given string : \")\n",
        "\n",
        "char_freq = string.count(char)      #using string method to count given character frequency in the string\n",
        "\n",
        "print(\"The character\", \"|\", char, \"|\", \"appears\", char_freq, \"times in the given string\")"
      ],
      "metadata": {
        "id": "yBMwSBlaoo1M"
      },
      "execution_count": null,
      "outputs": []
    },
    {
      "cell_type": "markdown",
      "source": [
        "17) What are negative indexes and why are they used?"
      ],
      "metadata": {
        "id": "bp-XRHqTjrm9"
      }
    },
    {
      "cell_type": "markdown",
      "source": [
        "ANSWER 17 -:\n",
        "\n",
        "- The Negative Indexes are the positions of the data-structure starting from the end.\n",
        "- They are used when the user needs the items from the\n",
        "end of the data-structure where the length of the structure is unknown."
      ],
      "metadata": {
        "id": "EV4ZXpuowRax"
      }
    },
    {
      "cell_type": "code",
      "source": [
        "#ANSWER 17 -:\n",
        "\n",
        "import random\n",
        "\n",
        "#the given list has random values with 5000 elements\n",
        "n_list = random.sample(range(10, 100000),5000)\n",
        "n_list\n",
        "\n",
        "#All 5000 values are not visible in the output.\n",
        "#So, if we want to find out the items from last 100, negative indices are used to avoid going through all the elements\n",
        "n_index = n_list[-90]\n",
        "n_index"
      ],
      "metadata": {
        "id": "q1PuPqd-wX8I"
      },
      "execution_count": null,
      "outputs": []
    },
    {
      "cell_type": "markdown",
      "source": [
        "18) Write a Python program to count occurrences of a substring in a string."
      ],
      "metadata": {
        "id": "QZsSJQ72jujC"
      }
    },
    {
      "cell_type": "code",
      "source": [
        "#ANSWER 18 -:\n",
        "\n",
        "string = \"This is one spoonful of sugar. In custard there are only two spoonful of sugar and not more than that.\"\n",
        "\n",
        "sub = input(\"Enter the substring you wanna count :\")        #taking input for substring frm user\n",
        "\n",
        "occurence = string.count(sub)                #counting frequency of substring in parent string\n",
        "\n",
        "print(\"The\",sub,\"occurs\",occurence,\"times in the string\")"
      ],
      "metadata": {
        "id": "Wyw0ZT4xoqO_"
      },
      "execution_count": null,
      "outputs": []
    },
    {
      "cell_type": "markdown",
      "source": [
        "19) Write a Python program to count the occurrences of each word in a given sentence"
      ],
      "metadata": {
        "id": "NbhTnvUwjx0R"
      }
    },
    {
      "cell_type": "code",
      "source": [
        "#ANSWER 19 -:\n",
        "\n",
        "sentence = \"The world with overusing Ghibli Styyle image generating is overheating the GenAI GPU's.\"\n",
        "\n",
        "sen = sentence.split(\" \")        #splitting the string into words using seperator\n",
        "sen\n",
        "\n",
        "word_count = {}           #creating empty dictionary to store each word\n",
        "\n",
        "for i in sen :             #initiating the loop to count the frequency of each word\n",
        "    if i in word_count :\n",
        "        word_count[i] += 1      #couning each occurence\n",
        "    else :\n",
        "        word_count[i] = 1\n",
        "print(\"The word occurence for each word in the whole sentence is\", word_count)"
      ],
      "metadata": {
        "id": "UqFUoYqgoq-I"
      },
      "execution_count": null,
      "outputs": []
    },
    {
      "cell_type": "markdown",
      "source": [
        "20) Write a Python program to get a single string from two given strings, separated by a space and swap the first two characters of each string."
      ],
      "metadata": {
        "id": "dEwv-uBqj0oM"
      }
    },
    {
      "cell_type": "code",
      "source": [
        "#ANSWER 20 -:\n",
        "\n",
        "s1 = input(\"Enter a String here : \")\n",
        "s2 = input(\"Enter second string here : \")\n",
        "\n",
        "swap_s1 = s1[:2] + s2[2:]        #extracting the first two character from first and  rest of character of second after ignoring last two chars\n",
        "swap_s2 = s2[:2] + s1[2:]        #extracting the first two character from second and rest of character of first after ignoring last two chars\n",
        "\n",
        "swap_string = swap_s1 + \" \" + swap_s2      #concatenating two swapped strings into new onek\n",
        "\n",
        "print(\"The single string from given inputs, with the first two characters swapped is : \",swap_string)"
      ],
      "metadata": {
        "id": "QdHBDySgorqo"
      },
      "execution_count": null,
      "outputs": []
    },
    {
      "cell_type": "markdown",
      "source": [
        "21) Write a Python program to add 'in' at the end of a given string (length should be at least 3). If the given string already ends with 'ing' then add 'ly' instead if the string length of the given string is less than 3, leave it unchanged."
      ],
      "metadata": {
        "id": "MFO0qcgkj3ax"
      }
    },
    {
      "cell_type": "code",
      "source": [
        "#ANSWER 21 -:\n",
        "\n",
        "user_string = input(\"Enter a word : \")\n",
        "\n",
        "#check if the length of string is more than 3\n",
        "if len(user_string) >= 3 :\n",
        "\n",
        "  if user_string.endswith(\"ing\") :        #changing string if the condition if true using \"ENDSWITH\" method\n",
        "    print(user_string + \"ly\")\n",
        "  else :\n",
        "      print(user_string + \"in\")         #change in string if condiion is false\n",
        "else :\n",
        "  print(user_string)      #output if the string is less than 3 characters"
      ],
      "metadata": {
        "id": "ISQcozKEpGli"
      },
      "execution_count": null,
      "outputs": []
    },
    {
      "cell_type": "markdown",
      "source": [
        "\n",
        "22) Write a Python function to reverses a string if its length is a multiple of 4."
      ],
      "metadata": {
        "id": "8NRf8Zsmj66p"
      }
    },
    {
      "cell_type": "code",
      "source": [
        "# ANSWER 22 -:\n",
        "\n",
        "s = str(input(\"Enter a string here : \"))\n",
        "\n",
        "if len(s) % 4 == 0 :         #checking for string length of 4 and reversing string\n",
        "  print(\"The reversed string is\", s[:: -1])\n",
        "\n",
        "else :\n",
        "  print(\"The string length is not a mutliple of 4\")"
      ],
      "metadata": {
        "id": "_dbr3fjxpHIG"
      },
      "execution_count": null,
      "outputs": []
    },
    {
      "cell_type": "markdown",
      "source": [
        "  \n",
        "23) Write a Python program to get a string made of the first 2 and the last 2 chars from a given a string. If the string length is less than 2, return instead of the empty string.  "
      ],
      "metadata": {
        "id": "k_bb0JvFj9_k"
      }
    },
    {
      "cell_type": "code",
      "source": [
        "#ANSWER 23 -:\n",
        "\n",
        "str_input = input(\"Enter a word here : \")\n",
        "\n",
        "if len(str_input) > 2 :\n",
        "  s1 = str_input[:2]\n",
        "  s2 = str_input[-2:]         #using negative indexing to extract last two characters\n",
        "  print(\"The new string is\",s1 + s2)\n",
        "else :\n",
        "  print(str_input)       #if the string is less than 2 characters"
      ],
      "metadata": {
        "id": "aM7ZkG0wpHhI"
      },
      "execution_count": null,
      "outputs": []
    },
    {
      "cell_type": "markdown",
      "source": [
        "24) Write a Python function to insert a string in the middle of a string."
      ],
      "metadata": {
        "id": "f4KkrPW7kBRl"
      }
    },
    {
      "cell_type": "code",
      "source": [
        "#ANSWER 24 -:\n",
        "\n",
        "string = \"I am Jayani\"    #predefined strings\n",
        "extra = \"Joshi\"\n",
        "\n",
        "f_string = \"I am {0} Jayani\".format(extra)    #using 'FORMAT' string method to insert the string\n",
        "f_string\n",
        "\n",
        "print(f_string)"
      ],
      "metadata": {
        "id": "Do0r9ASKpH6W"
      },
      "execution_count": null,
      "outputs": []
    },
    {
      "cell_type": "markdown",
      "source": [
        "25) What is List? How will you reverse a list?"
      ],
      "metadata": {
        "id": "2PmqnoCgkD5L"
      }
    },
    {
      "cell_type": "markdown",
      "source": [
        "ANSWER 25 -:\n",
        "\n",
        "The List is one of the many datatypes of python. Lists are mutable and can be altered at any point of time. The elements of the lists are represented in \" [ ] \" square brakcets.\n",
        "\n",
        "The list can be reversed using many ways, but the sure-short way is using the \"Reverse\" list method."
      ],
      "metadata": {
        "id": "8WyVlBjnc2b-"
      }
    },
    {
      "cell_type": "code",
      "source": [
        "#ANSWER 25 -:\n",
        "\n",
        "given_list = [23, \"Hey\", 5.4, True]\n",
        "\n",
        "#1st Option\n",
        "given_list.reverse()        #using list method\n",
        "print(given_list)\n",
        "\n",
        "#2nd Option\n",
        "given_list[::-1]"
      ],
      "metadata": {
        "id": "sIcDzJ-hq7Bn"
      },
      "execution_count": null,
      "outputs": []
    },
    {
      "cell_type": "markdown",
      "source": [
        "26) How will you remove last object from a list?"
      ],
      "metadata": {
        "id": "Bvb_ty6jkHSg"
      }
    },
    {
      "cell_type": "code",
      "source": [
        "#ANSWER 26 -:\n",
        "\n",
        "#OPTION 1 :\n",
        "list = [1, 22, 333, 4444, 55555]\n",
        "\n",
        "list.pop()       #by default removes the last object\n",
        "\n",
        "print(list)\n",
        "\n",
        "#OPTION2 :\n",
        "list1 = [6, 77, 888, 9999, 11111]\n",
        "\n",
        "list1.pop(-1)     #by mentioning specific position\n",
        "\n",
        "print(list1)\n",
        "\n",
        "#OPTION 3 :\n",
        "list2 = [2222, 333, 44, 5]\n",
        "del list2[-1]    #using DEL mehod\n",
        "print(list2)"
      ],
      "metadata": {
        "id": "1z9u-qKeq7cb"
      },
      "execution_count": null,
      "outputs": []
    },
    {
      "cell_type": "markdown",
      "source": [
        "27) Suppose list1 is [2, 33, 222, 14, and 25], what is list1 [1]?"
      ],
      "metadata": {
        "id": "osc0G1UMkKRO"
      }
    },
    {
      "cell_type": "markdown",
      "source": [
        "The Value will be 25."
      ],
      "metadata": {
        "id": "UDnqOTzxmPYu"
      }
    },
    {
      "cell_type": "code",
      "source": [
        "#ANSWER 27 -:\n",
        "\n",
        "list1=[2, 33, 222, 14, 25]\n",
        "list1[-1]"
      ],
      "metadata": {
        "id": "sivoEGeUq77V"
      },
      "execution_count": null,
      "outputs": []
    },
    {
      "cell_type": "markdown",
      "source": [
        "28) Differentiate between append () and extend () methods?  "
      ],
      "metadata": {
        "id": "GOkmVdVOkNV1"
      }
    },
    {
      "cell_type": "markdown",
      "source": [
        "ANSWER 28 -:\n",
        "\n",
        "'APPEND' only allows to add one item at a time in the list while 'EXTEND' allows to add muliple items or even a whole list to an exising list."
      ],
      "metadata": {
        "id": "DH_asQe5gBJw"
      }
    },
    {
      "cell_type": "code",
      "source": [
        "#ANWER 28 -:\n",
        "\n",
        "app = [12,34,56,89,11]\n",
        "app.append(39)              #APPEND\n",
        "print(app)\n",
        "\n",
        "ext = [\"Joey\",\"Does\", \"Not\"]    #EXTEND\n",
        "ext.extend([\"Share\",\"Food\"])\n",
        "print(ext)"
      ],
      "metadata": {
        "id": "BD6qKt8HgT9N"
      },
      "execution_count": null,
      "outputs": []
    },
    {
      "cell_type": "markdown",
      "source": [
        "29) Write a Python function to get the largest number, smallest num and sum of all from a list.   "
      ],
      "metadata": {
        "id": "v8Y-9mIxkPkX"
      }
    },
    {
      "cell_type": "code",
      "source": [
        "#ANSWER 29 -:\n",
        "\n",
        "lst = [23, 87, 5, 64, 39, 72]\n",
        "\n",
        "#OPTION 1 :\n",
        "\n",
        "# OPTION 2 : With one print statement\n",
        "print(\"The given list has\", max(lst), \"as largest number\", min(lst), \"as the smallest number and\", sum(lst), \"as the sum of all items in the list\")\n",
        "\n",
        "\n",
        "# OPTION 3 : USING EXPANDED CODE (SORT and SUM function)\n",
        "lst.sort()\n",
        "\n",
        "a = lst[0]\n",
        "print(\"The Largest number in the list is\", a)\n",
        "\n",
        "b = lst[-1]\n",
        "print(\"The Smallest number in the list is\", b)\n",
        "\n",
        "s = sum(lst)\n",
        "print(\"The Sum of all items in the list is\", s)"
      ],
      "metadata": {
        "id": "FSFRkPPcq8ua"
      },
      "execution_count": null,
      "outputs": []
    },
    {
      "cell_type": "markdown",
      "source": [
        "30) How will you compare two lists?"
      ],
      "metadata": {
        "id": "kqxPfmGmkRqW"
      }
    },
    {
      "cell_type": "markdown",
      "source": [
        "Lists can be compared in various ways but the most common way is using \"==\" operator.\n"
      ],
      "metadata": {
        "id": "D0_pcfcbmYrK"
      }
    },
    {
      "cell_type": "code",
      "source": [
        "#ANSWER 30 -:\n",
        "\n",
        "list_a = [1, 3, 4, 2, 5]\n",
        "list_b = [4, 5, 6, 7, 8]\n",
        "\n",
        "list_a.sort()                 #Sorting the list to get a clear picture of numerical elements\n",
        "print(\"1st List : \", list_a)\n",
        "list_b.sort()\n",
        "print(\"2nd List : \", list_b)      #Printing the list\n",
        "\n",
        "# OPTION 1 - Checking by comapring the lists\n",
        "\n",
        "compare = list_a == list_b       #Checking if the lists are same with BOOLEAN output\n",
        "print(\"Are both the lists same?\\n\", compare)\n",
        "\n",
        "# OPTION 2 - Converting to Sets to get only Unique values from list\n",
        "\n",
        "compare1 = list(set(list_a) - set(list_b))                    #First converts the list to set and extracts the unique values\n",
        "print(compare1)        #Prints unique values from 1st list\n",
        "compare2 = list(set(list_b) - set(list_a))                    #and then converts again to list and gives the ouptput\n",
        "print(compare2)        #Prints unique values from 2nd list"
      ],
      "metadata": {
        "id": "llIrBU5Oq9dx"
      },
      "execution_count": null,
      "outputs": []
    },
    {
      "cell_type": "markdown",
      "source": [
        "31) Write a Python program to count the number of strings where the string  length is 2 or more and the first and last character are same from a given list of strings.  "
      ],
      "metadata": {
        "id": "6mu5X3ZbkT3Y"
      }
    },
    {
      "cell_type": "code",
      "source": [
        "#ANSWER 31 -:\n",
        "\n",
        "#1st Condition String Length is more than 2\n",
        "#2nd Condition First and last character of string are same\n",
        "#3rd Condition Count the number of strings where 1st and 2nd are fulfilled\n",
        "\n",
        "str_list = [\"gag\", \"help\", \"fate\", \"tat\", \"tit\"]\n",
        "str_count = 0\n",
        "\n",
        "for s in str_list :                #initiating loop to check length of string as well as the first and last character of strings\n",
        "  if len(s) > 2 and s[0] == s[-1] :\n",
        "    str_count += 1\n",
        "print(\"The total number of strings with all conditions fulfilled is\",str_count)"
      ],
      "metadata": {
        "id": "ddSIVNO77vMX"
      },
      "execution_count": null,
      "outputs": []
    },
    {
      "cell_type": "markdown",
      "source": [
        "32) Write a Python program to remove duplicates from a list."
      ],
      "metadata": {
        "id": "-jVbO14DkWc2"
      }
    },
    {
      "cell_type": "code",
      "source": [
        "#ANSWER 32 -:\n",
        "\n",
        "#OPTION 1 : Using \"SET\"\n",
        "\n",
        "og_list = [\"Kenneth\", \"Jordan\", \"Jaguar\", \"Kennedy\", \"Kenneth\"]     #list containing duplicates\n",
        "\n",
        "dup_list = set(og_list)          #removing duplicates from the list using set() concept used in previous problems\n",
        "\n",
        "print(\"Option 1 : The 'Original list' is :\\n\", og_list, \"\\nand the list with 'Unique values' is\\n\", dup_list)\n",
        "\n",
        "\n",
        "#OPTION 2 : Using \"FUNCTIONS\"\n",
        "\n",
        "duplicate = []\n",
        "\n",
        "def duplicate_fn(og_list):   #Creates a function that stores all the actions perfomred in it\n",
        "\n",
        "  for i in og_list :\n",
        "    if i not in duplicate :\n",
        "      duplicate.append(i)\n",
        "  print(\"\\nOption 2 :The updated list after removal of duplicates using function is\\n\",duplicate)\n",
        "\n",
        "duplicate_fn(og_list)"
      ],
      "metadata": {
        "id": "gGSTrZ1Fq-W_"
      },
      "execution_count": null,
      "outputs": []
    },
    {
      "cell_type": "markdown",
      "source": [
        "33) Write a Python program to check a list is empty or not.  "
      ],
      "metadata": {
        "id": "Z7SL83wCkaBM"
      }
    },
    {
      "cell_type": "markdown",
      "source": [
        "ANSWER 33 -:\n",
        "\n",
        "\n",
        "To check whether the list has any contents or not -\n",
        "- Call and print the list. If the list has any items, it will be displayed, else an empty list will be displayed as output.\n",
        "- Another way to check the same is using the Case Statements."
      ],
      "metadata": {
        "id": "Dgu6y8grhOdm"
      }
    },
    {
      "cell_type": "code",
      "source": [
        "#ANSWER 33 -:\n",
        "\n",
        "lst = [12,34,56,78,90]    #List with items\n",
        "print(lst)\n",
        "\n",
        "#Option 1 : Calling or Printing the list\n",
        "\n",
        "lst2 = []     #Empty List\n",
        "print(lst2)\n",
        "\n",
        "\n",
        "#Option 2 : Using Case statements on list\n",
        "\n",
        "lst3 = [23,45,87]\n",
        "\n",
        "if len(lst3) > 0 :                  #using case statement to check the list\n",
        "  print(\"The list contains values\")\n",
        "else :\n",
        "  print(\"The list is empty\")"
      ],
      "metadata": {
        "id": "vMKTVsUchO61"
      },
      "execution_count": null,
      "outputs": []
    },
    {
      "cell_type": "markdown",
      "source": [
        "34) Write a Python function that takes two lists and returns true if they have at least one common member.   "
      ],
      "metadata": {
        "id": "s5gf4wUDkcYE"
      }
    },
    {
      "cell_type": "code",
      "source": [
        "#ANSWER 34 -:\n",
        "\n",
        "l1 = [11,22,33,44,55,66]\n",
        "l2 = [77,88,99,00,11]\n",
        "\n",
        "l = set(l1).intersection(set(l2))    #converting the list to sets and checking for any common elements\n",
        "\n",
        "if len(l) > 0 :             #checking length of the created list\n",
        "  print(\"True,\\nThe list has at least one common member\")            #print statement if condition is fulfilled\n",
        "\n",
        "else :\n",
        "  print(\"The list has all unique values\")"
      ],
      "metadata": {
        "id": "i3fTvZZ-q_lz"
      },
      "execution_count": null,
      "outputs": []
    },
    {
      "cell_type": "markdown",
      "source": [
        "35) Write a Python program to generate and print a list of first and last 5 elements where the values are square of numbers between 1 and 30"
      ],
      "metadata": {
        "id": "Wdsjdu3LkefY"
      }
    },
    {
      "cell_type": "code",
      "source": [
        "#ANSWER 25 -:\n",
        "\n",
        "og_list = []       #creating empty list\n",
        "\n",
        "for n in range(1,31) :       #calculating squares for specified range\n",
        "  og_list.append(n**2)       #appending values to empty list\n",
        "  og_list\n",
        "\n",
        "new_list = og_list[:5] + og_list[-5:]         #exracting and storing values in new list\n",
        "new_list"
      ],
      "metadata": {
        "id": "c5w69zCCrAC5"
      },
      "execution_count": null,
      "outputs": []
    },
    {
      "cell_type": "markdown",
      "source": [
        "36) Write a Python function that takes a list and returns a new list with unique elements of the first list.   "
      ],
      "metadata": {
        "id": "Ypg7HtJ4kg9O"
      }
    },
    {
      "cell_type": "code",
      "source": [
        "#ANSWER 36 -:\n",
        "\n",
        "#OPTON 1 :\n",
        "\n",
        "lst = [\"My\", \"Name\", \"Is\", \"Is\", \"Anthony\", \"Name\", \"Gonsalves\"]\n",
        "\n",
        "unique = list(set(lst))  #converting the list to set for removing duplicates\n",
        "unique\n",
        "\n",
        "\n",
        "#OPTION 2 :\n",
        "\n",
        "l1 = [11,22,33,44,55,66,77,77,88,99,99,11,22,11]\n",
        "\n",
        "l2 = []\n",
        "\n",
        "for i in l1 :       #initiating loop to check for unique values\n",
        "  if i not in l2 :\n",
        "    l2.append(i)\n",
        "print(l2)"
      ],
      "metadata": {
        "id": "QuXIvCJKrAhP"
      },
      "execution_count": null,
      "outputs": []
    },
    {
      "cell_type": "markdown",
      "source": [
        "37) Write a Python program to convert a list of characters into a string."
      ],
      "metadata": {
        "id": "ybSbhoa7ki9L"
      }
    },
    {
      "cell_type": "code",
      "source": [
        "char = [\"D\",\"a\",\"t\",\"a\",\" \",\"A\",\"n\",\"a\",\"l\",\"y\",\"t\",\"i\",\"c\",'s']\n",
        "char\n",
        "\n",
        "print (\"The sring generated from list of characters is\", \"\".join(char))      #using String method to convert characters to a string"
      ],
      "metadata": {
        "id": "I2yS6amMrBES"
      },
      "execution_count": null,
      "outputs": []
    },
    {
      "cell_type": "markdown",
      "source": [
        "38) Write a Python program to select an item randomly from a list."
      ],
      "metadata": {
        "id": "a0VfaWh3klZt"
      }
    },
    {
      "cell_type": "code",
      "source": [
        "import random\n",
        "\n",
        "r_list = [1, \"hello\", 3.14, True, [1, 2, 3], (4, 5), {\"a\": 1}, None, 9, \"world\", 23, 'life', False, 99]\n",
        "ri = random.choice(r_list)       #Using CHOICE method from RANDOM module\n",
        "ri"
      ],
      "metadata": {
        "id": "2jVVYETjrB1n"
      },
      "execution_count": null,
      "outputs": []
    },
    {
      "cell_type": "markdown",
      "source": [
        "39) Write a Python program to find the second smallest number in a list."
      ],
      "metadata": {
        "id": "s08gGdo1knWj"
      }
    },
    {
      "cell_type": "code",
      "source": [
        "num = [42, 7, 89, 23, 65]\n",
        "num.sort()                  #sorting the list from smallest to largest\n",
        "num\n",
        "\n",
        "print(\"The second smallest number in the list is\",num[1])      #extracting and printing the second smallest number"
      ],
      "metadata": {
        "id": "pVuQLw-RrCj-"
      },
      "execution_count": null,
      "outputs": []
    },
    {
      "cell_type": "markdown",
      "source": [
        "40) Write a Python program to get unique values from a list"
      ],
      "metadata": {
        "id": "OdYpTS8Skpcr"
      }
    },
    {
      "cell_type": "code",
      "source": [
        "#ANSWER 40 -:\n",
        "\n",
        "u_list = [12,12,33,57,111,98,98,77,56,77,44,21,33]\n",
        "\n",
        "for n in u_list :\n",
        "  if u_list.count(n) == 1 :     #checking for values with only one occurence\n",
        "    print(n)"
      ],
      "metadata": {
        "id": "FhDq_R4orDHb"
      },
      "execution_count": null,
      "outputs": []
    },
    {
      "cell_type": "markdown",
      "source": [
        "41) Write a Python program to check whether a list contains a sub list"
      ],
      "metadata": {
        "id": "7uRo7zkrkrxB"
      }
    },
    {
      "cell_type": "code",
      "source": [
        "liist = [\"lie\",\"true\",\"movies\",2,90,123,\"true\"]\n",
        "sub_list = [\"movies\"]\n",
        "\n",
        "print(set(sub_list).issubset(set(liist)))    #check if sub list is in the paren list"
      ],
      "metadata": {
        "id": "069qPry1rE6k"
      },
      "execution_count": null,
      "outputs": []
    },
    {
      "cell_type": "markdown",
      "source": [
        "42) Write a Python program to split a list into different variables."
      ],
      "metadata": {
        "id": "hLQwuaYdktjL"
      }
    },
    {
      "cell_type": "code",
      "source": [
        "#ANSWER 42 -:\n",
        "\n",
        "lst_v = [1, 2, 3, 4, 5]\n",
        "\n",
        "v1 = lst_v[0:3]       #splitting by giving ratio of index\n",
        "print(v1)\n",
        "\n",
        "v2 = lst_v[3:5]\n",
        "print(v2)\n",
        "\n",
        "print(\"The first variable is\", v1, \"and the second variable is\", v2)"
      ],
      "metadata": {
        "id": "ZqMo2tnCrFge"
      },
      "execution_count": null,
      "outputs": []
    },
    {
      "cell_type": "markdown",
      "source": [
        "43) What is tuple? Difference between list and tuple."
      ],
      "metadata": {
        "id": "dNBWINGDkvZA"
      }
    },
    {
      "cell_type": "markdown",
      "source": [
        "Answer :\n",
        "* \"TUPLE\" is one of the type of datatypes used in python. They are immutable(cannot be changes once created). Tuples are store elements in \" () \" or round brackets.\n",
        "\n",
        "- The main difference between a TUPLE and a LIST is that, tuple are immutable while the lists are mutable and can be updates after creation. Another difference is that, list store elements in [] and tuples store in ().\n"
      ],
      "metadata": {
        "id": "SkLsSmVlzZbB"
      }
    },
    {
      "cell_type": "code",
      "source": [
        "t = (23,12,45,54,67,76)   #TUPLE\n",
        "\n",
        "l = [90,10,87,78,21,12]   #LIST"
      ],
      "metadata": {
        "id": "NW_6wggorGPF"
      },
      "execution_count": null,
      "outputs": []
    },
    {
      "cell_type": "markdown",
      "source": [
        "44) Write a Python program to create a tuple with different data types.  "
      ],
      "metadata": {
        "id": "EaE4uNCbk1kv"
      }
    },
    {
      "cell_type": "code",
      "source": [
        "tup1 = (98,\"World\",False,9.5)\n",
        "\n",
        "print(\"The tuple is : \", tup1)\n",
        "\n",
        "for t in tup1 :        #looping through the tuple and classifying it's dataypes\n",
        "  print(\"The datatype of the item in tuple is : \")\n",
        "  print(t, type(t))"
      ],
      "metadata": {
        "id": "UW_RQ3KOrGsZ"
      },
      "execution_count": null,
      "outputs": []
    },
    {
      "cell_type": "markdown",
      "source": [
        "\n",
        "45) Write a Python program to unzip a list of tuples into individual lists."
      ],
      "metadata": {
        "id": "gl7VYES4k35W"
      }
    },
    {
      "cell_type": "code",
      "source": [
        "#ANSWER 45 -:\n",
        "\n",
        "tup_list = [(0, 0), (1, 2), (2, 4), (3, 6), (4, 8)]\n",
        "\n",
        "for t in tup_list :\n",
        "  print(list(t))         #seperating the tuple lists into individual lists"
      ],
      "metadata": {
        "id": "ZL97fwAVrHHp"
      },
      "execution_count": null,
      "outputs": []
    },
    {
      "cell_type": "markdown",
      "source": [
        "\n",
        "46) Write a Python program to convert a list of tuples into a dictionary.   "
      ],
      "metadata": {
        "id": "R9xL8Si6k56E"
      }
    },
    {
      "cell_type": "code",
      "source": [
        "#ANSWER 46 -:\n",
        "\n",
        "list_tuples = [(12,24),(\"Helen\",\"Geller\"),(\"Jhon\", 89)]\n",
        "list_tuples\n",
        "\n",
        "tup_dict = dict(list_tuples)\n",
        "tup_dict\n",
        "\n",
        "print(\"The created dictionary has\\n\" , tup_dict.items(),\"items\\n\", tup_dict.keys(), \"keys\\n\", tup_dict.values(), \"values.\")"
      ],
      "metadata": {
        "id": "hjYoPYJurIAC"
      },
      "execution_count": null,
      "outputs": []
    },
    {
      "cell_type": "markdown",
      "source": [
        "47) How will you create a dictionary using tuples in python?  "
      ],
      "metadata": {
        "id": "HRQi6JZ2k8Os"
      }
    },
    {
      "cell_type": "code",
      "source": [
        "#ANSWER 47 -:\n",
        "\n",
        "t = ('A',12),('B',23),('C',39),('D',48)      #creating a tuples\n",
        "t\n",
        "\n",
        "d = dict(t)     #typecasting the tuple to dictionary with pairs of key & values\n",
        "d\n",
        "\n",
        "print(\"The newly created dictioary has\\n\", d.keys(),\"keys\\n and\\n\", d.values(),\"values in it.\")"
      ],
      "metadata": {
        "id": "Vd8g5uq5rIfe"
      },
      "execution_count": null,
      "outputs": []
    },
    {
      "cell_type": "markdown",
      "source": [
        "48) Write a Python script to sort (ascending and descending) a dictionary by value.   "
      ],
      "metadata": {
        "id": "a3qxdMjQk-Zm"
      }
    },
    {
      "cell_type": "code",
      "source": [
        "#ANSWER 48 -:\n",
        "\n",
        "A = {\"Jenny\": 76, \"Joe\" : 89, \"Blair\" : 95, \"Helen\" : 54}\n",
        "B = {\"George\": 59, \"Brian\" : 90, \"Joey\" : 39, \"Henry\" : 48 }\n",
        "\n",
        "##OPTION 1 ::\n",
        "print(\"OPTION 1 ::\")\n",
        "\n",
        "#Sorting in Ascending order\n",
        "asc = sorted(A.values())\n",
        "\n",
        "#Sorting in Descending Order\n",
        "dsc = sorted(B.values(), reverse = True)\n",
        "\n",
        "print(\"The dictionary sorted in ascending order by values is\", asc, \"\\n WHILE \\n\", \"The dictionary sorted in descending order by values is\", dsc, \"\\n\")\n",
        "\n",
        "\n",
        "##OPTION 2 ::\n",
        "print(\"OPTION2 ::\")\n",
        "\n",
        "#ASCENDING ORDER\n",
        "lst_asc = list(A.values())\n",
        "lst_asc.sort()\n",
        "\n",
        "#DESCENDING ORDER\n",
        "lst_dsc = list(B.values())\n",
        "lst_dsc.sort(reverse=True)\n",
        "\n",
        "print(\"The values of dictionary sorted in ascending order are\", lst_asc, \"\\n WHILE \\n\", \"The values of dictionary sorted in ascending order are\", lst_dsc)"
      ],
      "metadata": {
        "id": "eIj0tfZmrI8_"
      },
      "execution_count": null,
      "outputs": []
    },
    {
      "cell_type": "markdown",
      "source": [
        "49) Write a Python script to concatenate following dictionaries to create a new one.  "
      ],
      "metadata": {
        "id": "yEzN9kYslAxh"
      }
    },
    {
      "cell_type": "code",
      "source": [
        "#ANSWER 49 -:\n",
        "\n",
        "dict1 = {\"Hello\":1,\"My\":2,\"Name\":3,\"is\":4,\"Jayani\":5}\n",
        "dict2 = {\"I\":6,\"am\":7, \"a\":8, \"successful\":9, \"person.\":10}\n",
        "\n",
        "dict1.update(dict2)\n",
        "dict1\n",
        "\n",
        "print(\"The merged dictionary consists of\\n\", dict1.keys(), \"keys,\\n\", dict1.values(), \"values\\n\", \"and\\n\", dict1.items())"
      ],
      "metadata": {
        "id": "8dJ2bFbnrJbU"
      },
      "execution_count": null,
      "outputs": []
    },
    {
      "cell_type": "markdown",
      "source": [
        "50) Write a Python script to check if a given key already exists in a dictionary.   "
      ],
      "metadata": {
        "id": "RlQcU9LxlC81"
      }
    },
    {
      "cell_type": "code",
      "source": [
        "#ANSWER 50 -:\n",
        "\n",
        "word = {\"Doll\": 23.50, \"Car\" : 13, \"Animals\" : 30.70, \"Snakes\" : 7.90}        #Creating a dictionary\n",
        "\n",
        "## OPTION 1 ::\n",
        "\n",
        "key = word.get(\"Snakes\")        #Checking for exixtence of the key in a dictionary\n",
        "\n",
        "print(key)\n",
        "\n",
        "\"\"\"If the key is present in the dictionary, the assigned values will be displayed as the output, else 'NONE' would appear as the result\"\"\"\n",
        "\n",
        "## OPTION 2 ::\n",
        "\n",
        "key1 = \"Snakes\"     #enter a key to check if it exists\n",
        "\n",
        "if key1 in word.keys() :           #checking if the key is in dictionary using dictionary method\n",
        "  print(\"The key is present in the dictionary\")\n",
        "else :\n",
        "  print(\"The key doesn't exists in the dictionary\")"
      ],
      "metadata": {
        "id": "UciAT_rFrKE9"
      },
      "execution_count": null,
      "outputs": []
    },
    {
      "cell_type": "markdown",
      "source": [
        "51) How Do You Traverse Through a Dictionary Object in Python?  "
      ],
      "metadata": {
        "id": "gE_irBN5lE5a"
      }
    },
    {
      "cell_type": "markdown",
      "source": [
        "ANSWER 51 -:\n",
        "\n",
        "- The ditionary can be tranversed in three ways. Tranversing through keys, values and items.\n",
        "- This can be using loop, to iterate through each object in the dictionary or using dictionary methods"
      ],
      "metadata": {
        "id": "JQEKjKZL8b6i"
      }
    },
    {
      "cell_type": "code",
      "source": [
        "#ANSWER 51 -:\n",
        "\n",
        "d1 = {\"name\": \"Alice\", \"age\": 30, \"city\": \"New York\", \"occupation\": \"Engineer\", \"student\": False, \"favorite_color\": \"Blue\"}\n",
        "\n",
        "##OPTION 1 : Using LOOPS\n",
        "\n",
        "#KEYS\n",
        "for k in d1 :\n",
        "  print(k)\n",
        "\n",
        "\n",
        "#VALUES\n",
        "for v in d1.values() :\n",
        "  print(v)\n",
        "\n",
        "\n",
        "#ITEMS\n",
        "for i in d1.items() :\n",
        "  print(i)\n",
        "\n",
        "\n",
        "##OPTION 2 : Using Dictionary methods\n",
        "\n",
        "#Keys :\n",
        "print(d1.keys())\n",
        "\n",
        "#Values :\n",
        "print(d1.values())\n",
        "\n",
        "#Items :\n",
        "print(d1.items())"
      ],
      "metadata": {
        "id": "b0CvKpPhrLNw"
      },
      "execution_count": null,
      "outputs": []
    },
    {
      "cell_type": "markdown",
      "source": [
        "52) How Do You Check the Presence of a Key in A Dictionary?   "
      ],
      "metadata": {
        "id": "afgzEOINlGml"
      }
    },
    {
      "cell_type": "code",
      "source": [
        "#ANSWER 52 -:\n",
        "\n",
        "d1 = {}     #empty dictionary\n",
        "d2 = {\"A\" : 12, \"B\" : 24, \"C\" : 36, \"D\" : 48, \"E\" : 60}    #dictionary with items\n",
        "\n",
        "#To check if the dictionary has any keys is -:\n",
        "dict_1 = print(d1.keys())    #using dictionary methods\n",
        "dict_2 = print(d2.keys())\n",
        "\n",
        "\"\"\"This will diplays all the keys present in the dictionary, and if none then empty dictionary will be displayed as output \"\"\""
      ],
      "metadata": {
        "id": "dMW0oBIwrLtf"
      },
      "execution_count": null,
      "outputs": []
    },
    {
      "cell_type": "markdown",
      "source": [
        "53) Write a Python script to print a dictionary where the keys are numbers between 1 and 15.  "
      ],
      "metadata": {
        "id": "XgIz_wG3lIgY"
      }
    },
    {
      "cell_type": "code",
      "source": [
        "d = {}\n",
        "\n",
        "for i in range(1,16) :\n",
        "  d[i] = i\n",
        "\n",
        "print(d)"
      ],
      "metadata": {
        "id": "Bi4Tdc76rMnA"
      },
      "execution_count": null,
      "outputs": []
    },
    {
      "cell_type": "markdown",
      "source": [
        "54) Write a Python program to check multiple keys exists in a dictionary  "
      ],
      "metadata": {
        "id": "eyDqJkUQlKqB"
      }
    },
    {
      "cell_type": "code",
      "source": [
        "my_dict = {\"a\": 1, \"b\": 2, \"c\": 3}\n",
        "for key in my_dict.keys():\n",
        "    print(key)\n",
        "\n",
        "for value in my_dict.values():\n",
        "    print(value)"
      ],
      "metadata": {
        "id": "LPtxYWwNrNI3"
      },
      "execution_count": null,
      "outputs": []
    },
    {
      "cell_type": "markdown",
      "source": [
        "55) Write a Python script to merge two Python dictionaries"
      ],
      "metadata": {
        "id": "7Ty9llPZlMiB"
      }
    },
    {
      "cell_type": "code",
      "source": [
        "#ANSWER 55 -:\n",
        "\n",
        "A = {\"Jenny\": 76, \"Blair\" : 69, \"Joe\" : 89, \"Helen\" : 54}\n",
        "B = {\"George\": 67, \"Brian\" : 90, \"Joey\" : 39, \"Henry\" : 48 }\n",
        "\n",
        "A.update({\"George\": 67, \"Brian\" : 90, \"Joey\" : 39, \"Henry\" : 48 })   #adding the items of dic2 to dic1 and merging\n",
        "\n",
        "print(\"The output of merged dictionary is :\", A)"
      ],
      "metadata": {
        "id": "SVuGtp5HrNme"
      },
      "execution_count": null,
      "outputs": []
    },
    {
      "cell_type": "markdown",
      "source": [
        "56) Write a Python program to map two lists into a dictionary Sample output: Counter ({'a': 400, 'b': 400,’d’: 400, 'c': 300})."
      ],
      "metadata": {
        "id": "A9nC1XBClTLO"
      }
    },
    {
      "cell_type": "code",
      "source": [
        "l1 = [\"a\",\"b\",\"d\",\"c\"]\n",
        "l2 = [400,400,400,300]\n",
        "\n",
        "d = dict(zip(l1, l2))\n",
        "d"
      ],
      "metadata": {
        "id": "MkDPNOLErOGK"
      },
      "execution_count": null,
      "outputs": []
    },
    {
      "cell_type": "markdown",
      "source": [
        "57) Write a Python program to find the highest 3 values in a dictionary  "
      ],
      "metadata": {
        "id": "IWXgi7xAlVXH"
      }
    },
    {
      "cell_type": "code",
      "source": [
        "d = {'m': 23, 'f': 88, 'x': 12, 'b': 76, 'o': 47, 'k': 5, 's': 91}\n",
        "\n",
        "sort_v = sorted(d.values())    #sorted the dictionary by values\n",
        "\n",
        "top_3 = dict(zip(sort_v[-3:], d.keys()))       #extracting the top 3 values from sorted dictionary and combining with respective keys.\n",
        "print(\"The highest 3 values in a dictionary are\", top_3)"
      ],
      "metadata": {
        "id": "96aKgvxqrPKo"
      },
      "execution_count": null,
      "outputs": []
    },
    {
      "cell_type": "markdown",
      "source": [
        "58) Write a Python program to combine values in python list of dictionaries. Sample data: [{'item': 'item1', 'amount': 400}, {'item': 'item2', 'amount': 300}, {'item': 'item1', 'amount': 750}] Expected Output: • Counter ({'item1': 1150, 'item2': 300})  "
      ],
      "metadata": {
        "id": "yd55hJsulXSg"
      }
    },
    {
      "cell_type": "code",
      "source": [
        "sample = [{'item': 'item1', 'amount': 400},{'item': 'item2', 'amount': 300},{'item': 'item1', 'amount': 750}]\n",
        "\n",
        "result = {}\n",
        "\n",
        "for s in sample:\n",
        "    item = s['item']\n",
        "    amount = s['amount']\n",
        "\n",
        "    if item in result:\n",
        "        result[item] += amount\n",
        "    else:\n",
        "        result[item] = amount\n",
        "\n",
        "print(result)"
      ],
      "metadata": {
        "id": "wAD5CrwIrPxD",
        "colab": {
          "base_uri": "https://localhost:8080/"
        },
        "outputId": "d1ebe57e-55b1-484b-f803-8fdf39732a6f"
      },
      "execution_count": 75,
      "outputs": [
        {
          "output_type": "stream",
          "name": "stdout",
          "text": [
            "{'item1': 1150, 'item2': 300}\n"
          ]
        }
      ]
    },
    {
      "cell_type": "markdown",
      "source": [
        "59) Write a Python program to create a dictionary from a string. Note: Track the count of the letters from the string.  "
      ],
      "metadata": {
        "id": "wmJGkoZilZjq"
      }
    },
    {
      "cell_type": "code",
      "source": [
        "#ANSWER 59 -:\n",
        "\n",
        "string = input(\"Enter a string here : \")\n",
        "\n",
        "s_dict = {}\n",
        "\n",
        "for s in string :       #initiating loop to iterate through each character of string\n",
        "  if s in s_dict :\n",
        "    s_dict[s] += 1\n",
        "  else :\n",
        "    s_dict[s] = 1\n",
        "\n",
        "print(s_dict)"
      ],
      "metadata": {
        "id": "Z9kYyPqDrQR1",
        "colab": {
          "base_uri": "https://localhost:8080/"
        },
        "outputId": "de352a5c-b20e-444f-a00a-35cfdb923be9"
      },
      "execution_count": 93,
      "outputs": [
        {
          "output_type": "stream",
          "name": "stdout",
          "text": [
            "Enter a string here : jayani joshi\n",
            "{'j': 2, 'a': 2, 'y': 1, 'n': 1, 'i': 2, ' ': 1, 'o': 1, 's': 1, 'h': 1}\n"
          ]
        }
      ]
    },
    {
      "cell_type": "markdown",
      "source": [
        "60) Sample string: 'w3resource' Expected output: • {'3': 1,’s’: 1, 'r': 2, 'u': 1, 'w': 1, 'c': 1, 'e': 2, 'o': 1}   "
      ],
      "metadata": {
        "id": "7e92TFarlbaI"
      }
    },
    {
      "cell_type": "code",
      "source": [
        "dict_s = \"w3resource\"\n",
        "\n",
        "dict_o = {}\n",
        "\n",
        "for o in dict_s :       #initiating loop to iterate through each character of string\n",
        "  if o in dict_o :\n",
        "    dict_o[o] += 1\n",
        "  else :\n",
        "    dict_o[o] = 1\n",
        "\n",
        "print(dict_o)"
      ],
      "metadata": {
        "id": "ahc1tiP-rRF6",
        "colab": {
          "base_uri": "https://localhost:8080/"
        },
        "outputId": "6deaa3b8-f792-4cb3-ebec-ece810b63cfa"
      },
      "execution_count": 94,
      "outputs": [
        {
          "output_type": "stream",
          "name": "stdout",
          "text": [
            "{'w': 1, '3': 1, 'r': 2, 'e': 2, 's': 1, 'o': 1, 'u': 1, 'c': 1}\n"
          ]
        }
      ]
    },
    {
      "cell_type": "markdown",
      "source": [
        "61) Write a Python function to calculate the factorial of a number (a nonnegative integer)  "
      ],
      "metadata": {
        "id": "QboAMCn0ld3v"
      }
    },
    {
      "cell_type": "code",
      "source": [
        "#ANSWER 61 -:\n",
        "\n",
        "j = int(input(\"Enter a number here : \"))\n",
        "i = j\n",
        "factorial = 1\n",
        "\n",
        "if i > 0 :\n",
        "\n",
        "  while i > 1 :\n",
        "    factorial *= i\n",
        "    i -= 1\n",
        "  print(\"The factorial of number is \", factorial)\n",
        "\n",
        "else :\n",
        "  print(\"Invalid Input\")"
      ],
      "metadata": {
        "id": "isvOEabgnCnx"
      },
      "execution_count": null,
      "outputs": []
    },
    {
      "cell_type": "markdown",
      "source": [
        "62) Write a Python function to check whether a number is in a given range  "
      ],
      "metadata": {
        "id": "hQWwkiVwlfpr"
      }
    },
    {
      "cell_type": "code",
      "source": [
        "#ANSWER 62 -:\n",
        "\n",
        "num = int(input(\"Enter a number : \"))      #user input\n",
        "\n",
        "if num in range(30,95) :             #assigning a range and checking for the input in the range\n",
        "\n",
        "  print(\"The number lies in the range\")\n",
        "\n",
        "else :\n",
        "  print(\"The input is out of range\")\n"
      ],
      "metadata": {
        "id": "geDVzERLNq5Z"
      },
      "execution_count": null,
      "outputs": []
    },
    {
      "cell_type": "markdown",
      "source": [
        "63) Write a Python function to check whether a number is perfect or not.  "
      ],
      "metadata": {
        "id": "NZGEv7ZjlhsC"
      }
    },
    {
      "cell_type": "code",
      "source": [
        "#ANSWER 63 -:\n",
        "\n",
        "p_num = input(\"Enter any number : \")\n",
        "\n",
        "sum = 0\n",
        "\n",
        "for n in range(1, int(p_num)) :        #iterating number through loop\n",
        "  if int(p_num) % n == 0 :          #checking for divisors and no remainder\n",
        "    sum += n\n",
        "\n",
        "if sum == int(p_num) :\n",
        "  print(\"Perfect number\")\n",
        "\n",
        "else :\n",
        "  print(\"Imperfect number\")\n"
      ],
      "metadata": {
        "id": "R2OLPiW1Nrbv",
        "colab": {
          "base_uri": "https://localhost:8080/"
        },
        "outputId": "cdfc3ea4-7ad0-4f33-875d-7a523a26a77c"
      },
      "execution_count": 101,
      "outputs": [
        {
          "output_type": "stream",
          "name": "stdout",
          "text": [
            "Enter any number : 8\n",
            "Imperfect number\n"
          ]
        }
      ]
    },
    {
      "cell_type": "markdown",
      "source": [
        "64) Write a Python function that checks whether a passed string is palindrome or not"
      ],
      "metadata": {
        "id": "MEDXocaQlkev"
      }
    },
    {
      "cell_type": "code",
      "source": [
        "#ANSWER 64 -:\n",
        "\n",
        "string = input(\"Enter your string here :\")      #user input\n",
        "palindrome = string[:: -1]       #assigning variable\n",
        "\n",
        "if string == palindrome :            #checking for the palindorme in the string\n",
        "  print (\"The string is a palindorme\")\n",
        "\n",
        "else :\n",
        "  print (\"The input is not a palindorme\")"
      ],
      "metadata": {
        "id": "qbJ1cdptNr7P"
      },
      "execution_count": null,
      "outputs": []
    },
    {
      "cell_type": "markdown",
      "source": [
        "65) How Many Basic Types of Functions Are Available in Python?"
      ],
      "metadata": {
        "id": "BAT7OsrulmAW"
      }
    },
    {
      "cell_type": "markdown",
      "source": [
        "###Answer 65 :\n",
        "- There are mainly two types of functions available in python.\n",
        "- a) Built-In Functions   \n",
        "- b) User-Defined Functions\n",
        "- The built-in function are already stored in python by th developers, and does'nt need to created and can be directly used as required.\n",
        "- The user-defined functions are created by the user as they want the functions to work in their code specifically when called. Basically, they're like the macros in MS-Excel in which the functions are recorded and saved for any future use, but created by user and not default-ones.\n",
        "\n",
        "- The other one is LAMBDA. But this is more of an expression than a function, which is used when one wants to display a multi-line code in only one line and execute it."
      ],
      "metadata": {
        "id": "g7_YVu3nG9DA"
      }
    },
    {
      "cell_type": "markdown",
      "source": [
        "66) How can you pick a random item from a list or tuple?"
      ],
      "metadata": {
        "id": "F858Sbwmlngm"
      }
    },
    {
      "cell_type": "code",
      "source": [
        "#ANSWER 66 -:\n",
        "\n",
        "import random               #importing random module\n",
        "\n",
        "tup = (42, 17, 89, 3, 76, 54)        #tuple for reference\n",
        "\n",
        "rt = random.sample(tup,1)\n",
        "print(\"The random element from the tuple is\",rt)\n",
        "\n",
        "lst = [34, 76, 12, 59, 87, 21]         #list for reference\n",
        "\n",
        "rl = random.sample(lst,2)\n",
        "\n",
        "print(\"The random elements from the list are \",rl)"
      ],
      "metadata": {
        "id": "p87mM1V7NtVd"
      },
      "execution_count": null,
      "outputs": []
    },
    {
      "cell_type": "markdown",
      "source": [
        "67) How can you pick a random item from a range?"
      ],
      "metadata": {
        "id": "N5IMYZbclpB6"
      }
    },
    {
      "cell_type": "code",
      "source": [
        "#ANSWER 67 -:\n",
        "\n",
        "import random\n",
        "\n",
        "#OPTION 1 :: Using Random.Sample()\n",
        "\n",
        "r = random.sample(range(23,974),2)\n",
        "print(\"The random items from the given range are\", r)\n",
        "\n",
        "\n",
        "#OPION 2 :: Using Random.randit()\n",
        "\n",
        "r1 = random.randint(37,100)\n",
        "print(\"The random item from the given range is\", r1)"
      ],
      "metadata": {
        "id": "8Pc8q-S0X5jd"
      },
      "execution_count": null,
      "outputs": []
    },
    {
      "cell_type": "markdown",
      "source": [
        "68) How can you get a random number in python?"
      ],
      "metadata": {
        "id": "D0kr4b1LlqrC"
      }
    },
    {
      "cell_type": "code",
      "source": [
        "#ANSWER 68 -:\n",
        "\n",
        "import random\n",
        "\n",
        "ran = random.random()\n",
        "\n",
        "print(\"The random number is\", ran)"
      ],
      "metadata": {
        "id": "Geo5UVSjNuMr"
      },
      "execution_count": null,
      "outputs": []
    },
    {
      "cell_type": "markdown",
      "source": [
        "69) How will you set the starting value in generating random numbers?"
      ],
      "metadata": {
        "id": "5Lx3q7qRlsJg"
      }
    },
    {
      "cell_type": "markdown",
      "source": [
        "If we want to generate random numbers with a specific start value, then we'll use RANDINT() method from RANDOM module."
      ],
      "metadata": {
        "id": "NpLlkCy-iM0x"
      }
    },
    {
      "cell_type": "code",
      "source": [
        "#ANSWER 69 -:\n",
        "\n",
        "import random\n",
        "\n",
        "r = random.randint(25, 1008)        #setting the start value as well as the range to generate randum numbers\n",
        "r\n",
        "\n",
        "r1 = random.randint(10,100**1000)     #giving a range close to inifnity by assigning exponentiation operator\n",
        "r1"
      ],
      "metadata": {
        "id": "U1h-pqIANupA"
      },
      "execution_count": null,
      "outputs": []
    },
    {
      "cell_type": "markdown",
      "source": [
        "70) How will you randomize the items of a list in place?  "
      ],
      "metadata": {
        "id": "zed7VkFjltoU"
      }
    },
    {
      "cell_type": "markdown",
      "source": [
        "To randomize the list sequence, SHUFFLE() from RANDOM Module is used."
      ],
      "metadata": {
        "id": "Jml8SyAGrAmU"
      }
    },
    {
      "cell_type": "code",
      "source": [
        "#ANSWER 70\n",
        "\n",
        "l = [5, 9, 12, 23, 30 ,34, 39, 49, 64, 72, 87, 99]\n",
        "\n",
        "random.shuffle(l)        #randomize the original list\n",
        "l"
      ],
      "metadata": {
        "id": "ca8Lo3XYNvIF"
      },
      "execution_count": null,
      "outputs": []
    },
    {
      "cell_type": "markdown",
      "source": [
        "71) What is File function in python? What are keywords to create and write file."
      ],
      "metadata": {
        "id": "fF64FZBtlv_w"
      }
    },
    {
      "cell_type": "markdown",
      "source": [
        "ANSWER 71 -:\n",
        "\n",
        "- File function are used to handle various types of file formats in python.\n",
        "- There are various methods to manipulate the files in python\n",
        "- File handling and specifically \"CREATE\" and \"WRITE\" is done through keywords :: 'x' & 'w'\n",
        "- \"x\" is used to create a new file if not there, and replaces the if one esixts.\n",
        "- \"w\" allows to insert content into the file."
      ],
      "metadata": {
        "id": "OH_-of6aaEwz"
      }
    },
    {
      "cell_type": "code",
      "source": [
        "#ANSWER 71 -:\n",
        "\n",
        "f = open(\"trial.txt\",\"x\") #create a non-existent file OR checks for an existing file\n",
        "\n",
        "## Since the file is already created by me, this code will display error stating file already exists ##\n",
        "\n",
        "f = open(\"trial.txt\",\"w\")    #writing content into created file or existing file\n",
        "f.write(\"This is the trial file.\\n All the file executions will be done in this file.\\n ~Jayani Joshi\")\n",
        "\n",
        "# Always open the file in the required mode after completing previously applied mode, before execution\n",
        "f = open(\"trial.txt\",\"r\")\n",
        "print(f.read())\n",
        "\n",
        "## In the output of the write funcion, after execution, total number of character written in the code will be displayed. ##"
      ],
      "metadata": {
        "id": "BpGyCexnNv3Z"
      },
      "execution_count": null,
      "outputs": []
    },
    {
      "cell_type": "markdown",
      "source": [
        "72) Write a Python program to read an entire text file."
      ],
      "metadata": {
        "id": "xvD0Rxtqlx2A"
      }
    },
    {
      "cell_type": "code",
      "source": [
        "f = open(\"trial.txt\", \"r\")       #assigning the keyword to handle the specified file\n",
        "print(f.read())"
      ],
      "metadata": {
        "id": "rhYdqDCMNwRc"
      },
      "execution_count": null,
      "outputs": []
    },
    {
      "cell_type": "markdown",
      "source": [
        "73) Write a Python program to append text to a file and display the text."
      ],
      "metadata": {
        "id": "ij7uRDOGl0XP"
      }
    },
    {
      "cell_type": "code",
      "source": [
        "#ANSWER 73 -:\n",
        "\n",
        "#OPTION 1 :: Using \"append\" method\n",
        "\n",
        "f = open(\"trial.txt\", \"a\")\n",
        "f.write(\"\\n \\t Task for Q73 - Appending texts using the append keyword 'a' for 1st Option.\")\n",
        "\n",
        "f = open(\"trial.txt\", \"r\")\n",
        "print(f.read())\n",
        "\n",
        "#OPTION 2 :: Using \"Writelines\" method\n",
        "\n",
        "f = open(\"trial.txt\", \"a\")\n",
        "f.writelines([\"\\nThis is done using 'WRITLINES method. Check out the result\"])\n",
        "\n",
        "f = open(\"trial.txt\", \"r\")\n",
        "print(f.read())"
      ],
      "metadata": {
        "id": "J330xuNONw7P"
      },
      "execution_count": null,
      "outputs": []
    },
    {
      "cell_type": "markdown",
      "source": [
        "74) Write a Python program to read first n lines of a file."
      ],
      "metadata": {
        "id": "Ni5JvVp1l12A"
      }
    },
    {
      "cell_type": "code",
      "source": [
        "#ANSWER 74 -:\n",
        "\n",
        "fl = open(\"trial.txt\", \"r\")\n",
        "n = 4\n",
        "\n",
        "for i in range(n):\n",
        "    line = fl.readline()\n",
        "    print(line)"
      ],
      "metadata": {
        "id": "abe5RZ6Ve_Vx"
      },
      "execution_count": null,
      "outputs": []
    },
    {
      "cell_type": "markdown",
      "source": [
        "75) Write a Python program to read last n lines of a file."
      ],
      "metadata": {
        "id": "7kb7I4O-l4CT"
      }
    },
    {
      "cell_type": "code",
      "source": [
        "#ANSWER 75 -:\n",
        "\n",
        "fl = open(\"trial.txt\", \"r\")\n",
        "n = 5\n",
        "\n",
        "for i in (fl.readlines() [-n:]):\n",
        "    print(i)"
      ],
      "metadata": {
        "id": "zPae2XfYNx82"
      },
      "execution_count": null,
      "outputs": []
    },
    {
      "cell_type": "markdown",
      "source": [
        "76) Write a Python program to read a file line by line and store it into a list"
      ],
      "metadata": {
        "id": "Leafk76Gl53N"
      }
    },
    {
      "cell_type": "code",
      "source": [
        "#ANSWER 76 -:\n",
        "\n",
        "f_list = open(\"trial.txt\", \"r\")\n",
        "lst = []\n",
        "\n",
        "for i in f_list:\n",
        "  lst.append(i)\n",
        "\n",
        "print(lst)"
      ],
      "metadata": {
        "id": "h9dtFK3eNymu"
      },
      "execution_count": null,
      "outputs": []
    },
    {
      "cell_type": "markdown",
      "source": [
        "77) Write a Python program to read a file line by line store it into a variable."
      ],
      "metadata": {
        "id": "GhSFUNjwl87w"
      }
    },
    {
      "cell_type": "code",
      "source": [
        "#ANSWER 77 -:\n",
        "\n",
        "f = open(\"trial.txt\", \"r\")\n",
        "\n",
        "fv = f.read()      #storing the file in a temp variable\n",
        "print(fv)"
      ],
      "metadata": {
        "id": "joOAfdoyNzJB"
      },
      "execution_count": null,
      "outputs": []
    },
    {
      "cell_type": "markdown",
      "source": [
        "78) Write a python program to find the longest words."
      ],
      "metadata": {
        "id": "N-HwthqbmBrf"
      }
    },
    {
      "cell_type": "code",
      "source": [
        "#ANSWER 78 -:\n",
        "\n",
        "words = [\"alpha\",\"omega\",\"up\",\"down\",\"over\",\"under\",\"purple\",\"red\",\"blue\",\"green\",\"meringue\"]\n",
        "\n",
        "length = len(words)     #extracting length of the items in the list\n",
        "length\n",
        "\n",
        "longest_word = max(words, key=len)    #checking longest word in list using 'len' parameter\n",
        "print(\"The longest word in the list is\", longest_word)"
      ],
      "metadata": {
        "id": "wtfcbGAIN0KO"
      },
      "execution_count": null,
      "outputs": []
    },
    {
      "cell_type": "markdown",
      "source": [
        ":79) Write a Python program to count the number of lines in a text file."
      ],
      "metadata": {
        "id": "Ntlu_LxDmGX4"
      }
    },
    {
      "cell_type": "code",
      "source": [
        "#ANSWER 79 -:\n",
        "\n",
        "f = open(\"trial.txt\", \"r\")\n",
        "count = 0\n",
        "\n",
        "for i in f :       #initiating loop through the file\n",
        "  count += 1     #count the lines in the file\n",
        "\n",
        "print(\"The file has total\", count, \"lines\")\n",
        "\n",
        "## TO check if our ouput is correct for total lines, execute the code used to display the last n lines of the file."
      ],
      "metadata": {
        "id": "3z7hkEkiN0jl"
      },
      "execution_count": null,
      "outputs": []
    },
    {
      "cell_type": "markdown",
      "source": [
        "80) Write a Python program to count the frequency of words in a file."
      ],
      "metadata": {
        "id": "nS68zB6ymIUX"
      }
    },
    {
      "cell_type": "code",
      "source": [
        "#ANSWER 80 -:\n",
        "\n",
        "f = open(\"trial.txt\", \"r\")\n",
        "\n",
        "fd = {}     #creating empty dictionary\n",
        "\n",
        "for word in f :\n",
        "  keys = word.split()      #spliting each line word-by-word\n",
        "\n",
        "  for i in keys :   #staring loop thorugh each word\n",
        "    if i in fd :\n",
        "      fd[i] += 1    #storing each word in empty dictionary\n",
        "    else :\n",
        "      fd[i] = 1\n",
        "\n",
        "print(fd)"
      ],
      "metadata": {
        "id": "sULTxyd8N05w"
      },
      "execution_count": null,
      "outputs": []
    },
    {
      "cell_type": "markdown",
      "source": [
        "81) Write a Python program to write a list to a file."
      ],
      "metadata": {
        "id": "Ivwx2FnVmKFZ"
      }
    },
    {
      "cell_type": "code",
      "source": [
        "#ANSWER 81 -:\n",
        "\n",
        "lst = [\"Name\", \"file\", \"for\", \"Assignment\", \"questions\"]       #creating list to append in the file\n",
        "\n",
        "f = open(\"trial.txt\", \"a\")    #assigning append keyword\n",
        "f.write(str(lst))            #converting and writing list to file (without conversion to stirng an \"ERROR\" will be displayed)\n",
        "\n",
        "f = open(\"trial.txt\", \"r\")    #reading the file\n",
        "print(f.read())"
      ],
      "metadata": {
        "id": "VMzLfdHyN1oH"
      },
      "execution_count": null,
      "outputs": []
    },
    {
      "cell_type": "markdown",
      "source": [
        "82) Write a Python program to copy the contents of a file to another file."
      ],
      "metadata": {
        "id": "9Ok91CNEmNbt"
      }
    },
    {
      "cell_type": "code",
      "source": [
        "#ANSWER 82 -:\n",
        "\n",
        "f2 = open(\"trial2.txt\",\"x\")       #crating the new file to inser the content from parent file\n",
        "f2.write(\"This is the copy of 'trial.txt named' file.\")  #writing some content into new file.\n",
        "\n",
        "f = open(\"trial.txt\", \"r\")\n",
        "\n",
        "f2 = open(\"trial2.txt\", \"a\")   #assigning append action\n",
        "\n",
        "for c in f :     #starting the loop to copy content\n",
        "  f2.write(c)\n",
        "\n",
        "f2 = open(\"trial2.txt\", \"r\")\n",
        "print(f2.read())      #reading the newly created file"
      ],
      "metadata": {
        "id": "j6c0XHU7N1UC"
      },
      "execution_count": null,
      "outputs": []
    },
    {
      "cell_type": "markdown",
      "source": [
        "83) Explain Exception handling? What is an Error in Python?"
      ],
      "metadata": {
        "id": "B00jVkKwmPLe"
      }
    },
    {
      "cell_type": "code",
      "source": [
        "#ANSWER 83 -:\n",
        "\n"
      ],
      "metadata": {
        "id": "Vmgvu40wN3Zt"
      },
      "execution_count": null,
      "outputs": []
    },
    {
      "cell_type": "markdown",
      "source": [
        "84) How many except statements can a try-except block have? Name Some built-in exception classes:"
      ],
      "metadata": {
        "id": "DbimtqC7mQwf"
      }
    },
    {
      "cell_type": "code",
      "source": [
        "#ANSWER 84 -:\n",
        "\n"
      ],
      "metadata": {
        "id": "ykCUYQpYN3wa"
      },
      "execution_count": null,
      "outputs": []
    },
    {
      "cell_type": "markdown",
      "source": [
        "85) When will the else part of try-except-else be executed?"
      ],
      "metadata": {
        "id": "oZVSeWWamS8w"
      }
    },
    {
      "cell_type": "code",
      "source": [
        "#ANSWER 85 -:"
      ],
      "metadata": {
        "id": "U1u8Z-KMN6t7"
      },
      "execution_count": null,
      "outputs": []
    },
    {
      "cell_type": "markdown",
      "source": [
        "86) Can one block of except statements handle multiple exception?"
      ],
      "metadata": {
        "id": "JoXJQ90TmUgv"
      }
    },
    {
      "cell_type": "code",
      "source": [
        "#ANSWER 86 -:"
      ],
      "metadata": {
        "id": "76QTjHE2N7Nx"
      },
      "execution_count": null,
      "outputs": []
    },
    {
      "cell_type": "markdown",
      "source": [
        "87) When is the finally block executed?"
      ],
      "metadata": {
        "id": "84Jm_MwhmWB7"
      }
    },
    {
      "cell_type": "code",
      "source": [
        "#ANSWER 87 -:"
      ],
      "metadata": {
        "id": "yzqy0jZPN77j"
      },
      "execution_count": null,
      "outputs": []
    },
    {
      "cell_type": "markdown",
      "source": [
        "88) What happens when „1‟== 1 is executed?"
      ],
      "metadata": {
        "id": "HFJK_HbfmXvl"
      }
    },
    {
      "cell_type": "code",
      "source": [
        "#ANSWER 88 -:\n",
        "\n",
        "## ,,1\"==1 would display an error as the quatations are wrong.\n",
        "\n",
        "\"\"\"Correct Input to get Boolean Output -:\"\"\"\n",
        "\"1\"==1     #Output : False\n",
        "\n",
        "\"1\"==\"1\"    #Output : True"
      ],
      "metadata": {
        "id": "MKcOhpl5N8hC"
      },
      "execution_count": null,
      "outputs": []
    },
    {
      "cell_type": "markdown",
      "source": [
        "89) How Do You Handle Exceptions with Try/Except/Finally in Python? Explain with coding snippets."
      ],
      "metadata": {
        "id": "a1LHn0lnmZOZ"
      }
    },
    {
      "cell_type": "code",
      "source": [
        "#ANSWER 89 -:"
      ],
      "metadata": {
        "id": "37SKIhX_N9Te"
      },
      "execution_count": null,
      "outputs": []
    },
    {
      "cell_type": "markdown",
      "source": [
        "90) Write python program that user to enter only odd numbers, else will raise an exception."
      ],
      "metadata": {
        "id": "7iUEJPRHmbHw"
      }
    },
    {
      "cell_type": "code",
      "source": [
        "#ANSWER 90 -:\n",
        "\n",
        "u_input = int(input(\"Enter an odd number : \"))\n",
        "\n",
        "if u_input %2 != 0 :    #chekcs if the number is odd before using it\n",
        "  print(u_input)\n",
        "\n",
        "else :\n",
        "  print(\"Invalid number\")   #ends the cycle if not an odd number1"
      ],
      "metadata": {
        "id": "m3cnjdm1N9rP"
      },
      "execution_count": null,
      "outputs": []
    },
    {
      "cell_type": "markdown",
      "source": [
        "##REFERENCES -:\n",
        "\n",
        "1. https://www.w3schools.com/python/python_ref_file.asp\n",
        "2. https://www.w3schools.com/python/python_ref_string.asp\n",
        "3. https://www.w3schools.com/python/python_ref_list.asp\n",
        "4. https://www.w3schools.com/python/python_ref_set.asp\n",
        "5. https://www.w3schools.com/python/ref_dictionary_values.asp\n",
        "6. https://www.w3schools.com/python/python_ref_tuple.asp\n",
        "7. https://www.w3schools.com/Python/module_random.asp\n",
        "8. https://www.w3schools.com/python/default.asp\n",
        "9. https://www.geeksforgeeks.org/python-programming-language-tutorial/"
      ],
      "metadata": {
        "id": "s9t1TAVBshI-"
      }
    }
  ]
}