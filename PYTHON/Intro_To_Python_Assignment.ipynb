{
  "cells": [
    {
      "cell_type": "markdown",
      "metadata": {
        "id": "RE3Tw-gritKW"
      },
      "source": [
        "1) What are the types of Applications?"
      ]
    },
    {
      "cell_type": "markdown",
      "metadata": {
        "id": "wYtNE3YSNIQO"
      },
      "source": [
        "ANSWER 1 -:\n",
        "\n",
        "[TYPES OF APPLICATIONS IN PYTHON](https://www.python.org/about/apps/) ::\n",
        "\n",
        "In Python, there are plenty of types of applications namely\n",
        "\n",
        "**Web and Internet Development** : Python offers many choices for web development:\n",
        "\n",
        "1. Frameworks such as Django and Pyramid.\n",
        "2. Micro-frameworks such as Flask and Bottle.\n",
        "3. Advanced content management systems such as Plone and django CMS.\n",
        "\n",
        "**Scientific and Numeric** : Python is widely used in scientific and numeric computing:\n",
        "\n",
        "1. SciPy is a collection of packages for mathematics, science, and engineering.\n",
        "2. Pandas is a data analysis and modeling library.\n",
        "3. NumPy is used to perform complex and lengthy mathematical calculations in seconds.\n",
        "4. MatPlotLib and Seaborn are used for visualizing data in interactive way.\n",
        "5. IPython is a powerful interactive shell that features easy editing and recording of a work session, and supports visualizations and parallel computing.\n",
        "6. The Software Carpentry Course teaches basic skills for scientific computing, running bootcamps and providing open-access teaching materials.\n",
        "\n",
        "**Education** : Python is a superb language for teaching programming, both at the introductory level and in more advanced courses.\n",
        "\n",
        "**Software Development** : Python is often used as a support language for software developers, for build control and management, testing, and in many other ways.\n",
        "\n",
        "**Business Applications** : Python is also used to build ERP and e-commerce systems:\n",
        "\n",
        "1. Odoo is an all-in-one management software that offers a range of business applications that form a complete suite of enterprise management applications.\n",
        "2. Tryton is a three-tier high-level general purpose application platform.\n",
        "\n",
        "\n",
        "[TYPES OF APPLICATIONS IN GENERAL](https://rb.gy/61jjy5) ::\n",
        "\n",
        "The types of Software applications are list below :\n",
        "\n",
        "1. Web Applications\n",
        "2. Mobile Applications\n",
        "3. Desktop Applications\n",
        "4. Enterprise Applications\n",
        "5. Cloud Applications\n",
        "6. Other Software Applications"
      ]
    },
    {
      "cell_type": "markdown",
      "metadata": {
        "id": "p3TCku8_iz-E"
      },
      "source": [
        "2) What is programing?"
      ]
    },
    {
      "cell_type": "markdown",
      "metadata": {
        "id": "TPM58g7aya0R"
      },
      "source": [
        "ANSWER 2 -:\n",
        "\n",
        "The programming is the process of using coding languages to solve complex programs by assigning tasks to the computer."
      ]
    },
    {
      "cell_type": "markdown",
      "metadata": {
        "id": "BZsdz1pdi3U6"
      },
      "source": [
        "3) What is Python?"
      ]
    },
    {
      "cell_type": "markdown",
      "metadata": {
        "id": "Qrgg8LY_ygSX"
      },
      "source": [
        "ANSWER 3 -:\n",
        "\n",
        "▶ PYTHON is the type of a high-level interpretor. This language scans the code and display errors line-by-line.\n",
        "\n",
        "▶ It's used for translating codes. It was created by Guido van Rossum, and released in 1991.\n",
        "\n",
        "▶ It contains various elements that make the complex and lengthy tasks to be done within seconds.\n",
        "\n",
        "▶ The libraries of Python helps the user perform difficult calculations, visualize data and even draw insights from the workbooks."
      ]
    },
    {
      "cell_type": "markdown",
      "metadata": {
        "id": "vJk-t2mFi6bd"
      },
      "source": [
        "\n",
        "4) Write a Python program to check if a number is positive, negative or zero."
      ]
    },
    {
      "cell_type": "code",
      "execution_count": null,
      "metadata": {
        "colab": {
          "base_uri": "https://localhost:8080/"
        },
        "id": "hRQlWEGdob8u",
        "outputId": "7b01c57a-59ad-44c0-80fe-173ea9d99652"
      },
      "outputs": [
        {
          "name": "stdout",
          "output_type": "stream",
          "text": [
            "Enter a Number : 0000\n",
            "The input is ZERO\n"
          ]
        }
      ],
      "source": [
        "#ANSWER 4 -:\n",
        "\n",
        "user_input = int(input(\"Enter a Number : \"))\n",
        "\n",
        "if user_input > 0 :                           #Checking for the positve number\n",
        "  print(\"The Number is a positive integer\")\n",
        "\n",
        "elif user_input < 0 :                           #Checking for the negative number\n",
        "  print(\"The Input is a negative number\")\n",
        "\n",
        "else :\n",
        "  print(\"The input is ZERO\")"
      ]
    },
    {
      "cell_type": "markdown",
      "metadata": {
        "id": "ZMvvoiVLi9mX"
      },
      "source": [
        "\n",
        "5) Write a Python program to get the Factorial number of given numbers."
      ]
    },
    {
      "cell_type": "code",
      "execution_count": null,
      "metadata": {
        "colab": {
          "base_uri": "https://localhost:8080/"
        },
        "id": "fGOVSD_ZocXO",
        "outputId": "48e84aa3-6d13-40bc-9976-c8a085023641"
      },
      "outputs": [
        {
          "name": "stdout",
          "output_type": "stream",
          "text": [
            "Enter a number here : 1298\n",
            "The factorial of number is  187097709594146813833954925639463419664515773785986917621757408483426667166909379339462331003388945523214961648510961090112220306613355694957770918671850553022593315588835130394253118660974148016494181317245197711615402201209496729399859472351985910790851456491410910669546510181777591032911103818513359448364662754465371766170383805580624866730595149970987679366702285234527893400153607382695563656010225755943854969098278144273490086217230491028509913087047386224707000581143271807968323602485523174294723240552092549112924795331836805618219090196516096560108258855119977824181331952654975674157109899665150946774385959857907888795597399183617916639457078824120358253472510593742684024818200799446222575681312041743067140299094646015262866942333354063284866393478017518521136724162464156894216411925318199188356529864557874345176567137957745864415845938408533080222335352192197124561279209233042419964551867079966143391611554042831859529406213625773119808417002361195412341985158374455900686493488647522843395490798275868676898238235553070373454759365848267669551681877947244924935096673642750681131765041341179350684525046773117159170319851025013193540341209422665423491247079000444061324427217225187763064643837742307503080980640498511434169462536879268831193441168968137511913468950826042402754557176656815890504475250065623027692236945424777613638037534769559627619701843979483548963848705042917322645612893258345671055408317537280611159462382544192433531060033564878248290663818067481577687773199139087216043656044995666461321068417299790562090932734148545468072124689211139695706110054367251727791571510023310912814175179377873106692170817468195434672797021168355158639859931991974732980681992792801971704611853389042321394345718182650760901729068902994885664411601144491493307360455883193025340830914248032968475200493970413695654816321308476815524460923739391336016786175999372874205171449311548884330349873785544589286832307301536367055261015778840219809855141250480721395937027625529444487977053709472865900246868136862467559609499136054613237257218640671633760250935629357410206003557189366683263244174300236444612399990219754782566533138074989416009424542687602561018325389240484119663128357083917320244434082669418025909808080350848094149269533243475301501016229043946612839496899569680769010730284247910420002844457305294857542015262223336834099009846521648138225735217994690992750437664164334594774016868451776695114936286242687141575242766010777958329080300375223025498182036930050608147714854541729129519126116763540556855993558891702820300809350377430633008612051973924936651263714762532228146457630069578144430310846573976826041552225327278187435072873597669802680980820703126871741086640631959196987057418806141067203310489315217690108573043329286960242582881757003679363788433854974891516430300204650102163601934526748551870048771736756413792522210800466731261482228567759300502844837565610687910932470024133775890961447666042247795316351848260573139632324799817972624766809492214407717434343827589365018878079416514287759759671109090468921590486366788316152661263426329157941601582657077408530243870509741330960294872205462869240709120000000000000000000000000000000000000000000000000000000000000000000000000000000000000000000000000000000000000000000000000000000000000000000000000000000000000000000000000000000000000000000000000000000000000000000000000000000000000000000000000000000000000000000000000000000000000000000000000000000000000000000000000000000000\n"
          ]
        }
      ],
      "source": [
        "#ANSWER 5 -:\n",
        "\n",
        "j = int(input(\"Enter a number here : \"))          #Taking the input from user\n",
        "i = j\n",
        "factorial = 1\n",
        "\n",
        "while i > 1 :                           #Iterating through the input to check for factorial\n",
        "    factorial *= i\n",
        "    i -= 1\n",
        "print(\"The factorial of number is \", factorial)"
      ]
    },
    {
      "cell_type": "markdown",
      "metadata": {
        "id": "WIFRiiGfjCEQ"
      },
      "source": [
        "6) Write a Python program to get the Fibonacci series of given range."
      ]
    },
    {
      "cell_type": "code",
      "execution_count": 146,
      "metadata": {
        "colab": {
          "base_uri": "https://localhost:8080/",
          "height": 1000
        },
        "id": "RIsU4zR6of-v",
        "outputId": "12d4c7cf-4640-493f-bf95-3a91147eff6c"
      },
      "outputs": [
        {
          "name": "stdout",
          "output_type": "stream",
          "text": [
            "Enter number a : 123\n",
            "Enter number b : 540\n",
            "Enter maximum items to display in the series :90\n",
            "663\n",
            "1203\n",
            "1866\n",
            "3069\n",
            "4935\n",
            "8004\n",
            "12939\n",
            "20943\n",
            "33882\n",
            "54825\n",
            "88707\n",
            "143532\n",
            "232239\n",
            "375771\n",
            "608010\n",
            "983781\n",
            "1591791\n",
            "2575572\n",
            "4167363\n",
            "6742935\n",
            "10910298\n",
            "17653233\n",
            "28563531\n",
            "46216764\n",
            "74780295\n",
            "120997059\n",
            "195777354\n",
            "316774413\n",
            "512551767\n",
            "829326180\n",
            "1341877947\n",
            "2171204127\n",
            "3513082074\n",
            "5684286201\n",
            "9197368275\n",
            "14881654476\n",
            "24079022751\n",
            "38960677227\n",
            "63039699978\n",
            "102000377205\n",
            "165040077183\n",
            "267040454388\n",
            "432080531571\n",
            "699120985959\n",
            "1131201517530\n",
            "1830322503489\n",
            "2961524021019\n",
            "4791846524508\n",
            "7753370545527\n",
            "12545217070035\n",
            "20298587615562\n",
            "32843804685597\n",
            "53142392301159\n",
            "85986196986756\n",
            "139128589287915\n",
            "225114786274671\n",
            "364243375562586\n",
            "589358161837257\n",
            "953601537399843\n",
            "1542959699237100\n",
            "2496561236636943\n",
            "4039520935874043\n",
            "6536082172510986\n",
            "10575603108385029\n",
            "17111685280896015\n",
            "27687288389281044\n",
            "44798973670177059\n",
            "72486262059458103\n",
            "117285235729635162\n",
            "189771497789093265\n",
            "307056733518728427\n",
            "496828231307821692\n",
            "803884964826550119\n",
            "1300713196134371811\n",
            "2104598160960921930\n",
            "3405311357095293741\n",
            "5509909518056215671\n",
            "8915220875151509412\n",
            "14425130393207725083\n",
            "23340351268359234495\n",
            "37765481661566959578\n",
            "61105832929926194073\n",
            "98871314591493153651\n",
            "159977147521419347724\n",
            "258848462112912501375\n",
            "418825609634331849099\n",
            "677674071747244350474\n",
            "1096499681381576199573\n",
            "1774173753128820550047\n",
            "2870673434510396749620\n",
            "Enter a num : 234\n",
            "0 1 1 2 3 5 8 13 21 34 55 89 144 233 377 610 987 1597 2584 4181 6765 10946 17711 28657 46368 75025 121393 196418 317811 514229 832040 1346269 2178309 3524578 5702887 9227465 14930352 24157817 39088169 63245986 102334155 165580141 267914296 433494437 701408733 1134903170 1836311903 2971215073 4807526976 7778742049 12586269025 20365011074 32951280099 53316291173 86267571272 139583862445 225851433717 365435296162 591286729879 956722026041 1548008755920 2504730781961 4052739537881 6557470319842 10610209857723 17167680177565 27777890035288 44945570212853 72723460248141 117669030460994 190392490709135 308061521170129 498454011879264 806515533049393 1304969544928657 2111485077978050 3416454622906707 5527939700884757 8944394323791464 14472334024676221 23416728348467685 37889062373143906 61305790721611591 99194853094755497 160500643816367088 259695496911122585 420196140727489673 679891637638612258 1100087778366101931 1779979416004714189 2880067194370816120 4660046610375530309 7540113804746346429 12200160415121876738 19740274219868223167 31940434634990099905 51680708854858323072 83621143489848422977 135301852344706746049 218922995834555169026 354224848179261915075 573147844013817084101 927372692193078999176 1500520536206896083277 2427893228399975082453 3928413764606871165730 6356306993006846248183 10284720757613717413913 16641027750620563662096 26925748508234281076009 43566776258854844738105 70492524767089125814114 114059301025943970552219 184551825793033096366333 298611126818977066918552 483162952612010163284885 781774079430987230203437 1264937032042997393488322 2046711111473984623691759 3311648143516982017180081 5358359254990966640871840 8670007398507948658051921 14028366653498915298923761 22698374052006863956975682 36726740705505779255899443 59425114757512643212875125 96151855463018422468774568 155576970220531065681649693 251728825683549488150424261 407305795904080553832073954 659034621587630041982498215 1066340417491710595814572169 1725375039079340637797070384 2791715456571051233611642553 4517090495650391871408712937 7308805952221443105020355490 11825896447871834976429068427 19134702400093278081449423917 30960598847965113057878492344 50095301248058391139327916261 81055900096023504197206408605 131151201344081895336534324866 212207101440105399533740733471 343358302784187294870275058337 555565404224292694404015791808 898923707008479989274290850145 1454489111232772683678306641953 2353412818241252672952597492098 3807901929474025356630904134051 6161314747715278029583501626149 9969216677189303386214405760200 16130531424904581415797907386349 26099748102093884802012313146549 42230279526998466217810220532898 68330027629092351019822533679447 110560307156090817237632754212345 178890334785183168257455287891792 289450641941273985495088042104137 468340976726457153752543329995929 757791618667731139247631372100066 1226132595394188293000174702095995 1983924214061919432247806074196061 3210056809456107725247980776292056 5193981023518027157495786850488117 8404037832974134882743767626780173 13598018856492162040239554477268290 22002056689466296922983322104048463 35600075545958458963222876581316753 57602132235424755886206198685365216 93202207781383214849429075266681969 150804340016807970735635273952047185 244006547798191185585064349218729154 394810887814999156320699623170776339 638817435613190341905763972389505493 1033628323428189498226463595560281832 1672445759041379840132227567949787325 2706074082469569338358691163510069157 4378519841510949178490918731459856482 7084593923980518516849609894969925639 11463113765491467695340528626429782121 18547707689471986212190138521399707760 30010821454963453907530667147829489881 48558529144435440119720805669229197641 78569350599398894027251472817058687522 127127879743834334146972278486287885163 205697230343233228174223751303346572685 332825110087067562321196029789634457848 538522340430300790495419781092981030533 871347450517368352816615810882615488381 1409869790947669143312035591975596518914 2281217241465037496128651402858212007295 3691087032412706639440686994833808526209 5972304273877744135569338397692020533504 9663391306290450775010025392525829059713 15635695580168194910579363790217849593217 25299086886458645685589389182743678652930 40934782466626840596168752972961528246147 66233869353085486281758142155705206899077 107168651819712326877926895128666735145224 173402521172797813159685037284371942044301 280571172992510140037611932413038677189525 453973694165307953197296969697410619233826 734544867157818093234908902110449296423351 1188518561323126046432205871807859915657177 1923063428480944139667114773918309212080528 3111581989804070186099320645726169127737705 5034645418285014325766435419644478339818233 8146227408089084511865756065370647467555938 13180872826374098837632191485015125807374171 21327100234463183349497947550385773274930109 34507973060837282187130139035400899082304280 55835073295300465536628086585786672357234389 90343046356137747723758225621187571439538669 146178119651438213260386312206974243796773058 236521166007575960984144537828161815236311727 382699285659014174244530850035136059033084785 619220451666590135228675387863297874269396512 1001919737325604309473206237898433933302481297 1621140188992194444701881625761731807571877809 2623059926317798754175087863660165740874359106 4244200115309993198876969489421897548446236915 6867260041627791953052057353082063289320596021 11111460156937785151929026842503960837766832936 17978720198565577104981084195586024127087428957 29090180355503362256910111038089984964854261893 47068900554068939361891195233676009091941690850 76159080909572301618801306271765994056795952743 123227981463641240980692501505442003148737643593 199387062373213542599493807777207997205533596336 322615043836854783580186309282650000354271239929 522002106210068326179680117059857997559804836265 844617150046923109759866426342507997914076076194 1366619256256991435939546543402365995473880912459 2211236406303914545699412969744873993387956988653 Enter 3rd Input : 501\n"
          ]
        },
        {
          "output_type": "execute_result",
          "data": {
            "text/plain": [
              "225591516161936330872512695036072072046011324913758190588638866418474627738686883405015987052796968498626"
            ],
            "text/latex": "$\\displaystyle 225591516161936330872512695036072072046011324913758190588638866418474627738686883405015987052796968498626$"
          },
          "metadata": {},
          "execution_count": 146
        }
      ],
      "source": [
        "#ANSWER 6\n",
        "\n",
        "# OPTION 1 :\n",
        "\n",
        "a=int(input(\"Enter number a : \"))     #1st Number in series\n",
        "b=int(input(\"Enter number b : \"))     #2nd Number for series\n",
        "r=int(input(\"Enter maximum items to display in the series :\"))\n",
        "\n",
        "\n",
        "for i in range(r):   #OR for i in range(n-2)\n",
        "    c=a+b\n",
        "    print(c)        #calculating the next number in the series by adding the first two input\n",
        "    a=b           # assigning the value a to b and b to c,\n",
        "    b=c           # to continue the series till the range is satisfied\n",
        "\n",
        "\n",
        "# OPTION 2 :\n",
        "\n",
        "num = int(input(\"Enter a num : \"))\n",
        "\n",
        "a, b = 0, 1      #assigning values to a and b to start fibonacci series\n",
        "\n",
        "for i in range(num) :\n",
        "  print (a, end=\" \")\n",
        "  a, b = b, a + b     #a1ssigning value of 'a' to b and 'b' to addition of the both numbers till the end of range\n",
        "\n",
        "\n",
        "# OPTION 3 :\n",
        "from sympy import fibonacci    #importing library to calcuate fibonnaci series without any code\n",
        "\n",
        "n = int(input(\"Enter 3rd Input : \"))\n",
        "\n",
        "fibonacci(n)                   #give the final output as the sum if all the number in range"
      ]
    },
    {
      "cell_type": "markdown",
      "metadata": {
        "id": "KqLWIttqjJ2x"
      },
      "source": [
        "7) How memory is managed in Python?"
      ]
    },
    {
      "cell_type": "markdown",
      "metadata": {
        "id": "71tHLlfMbUEy"
      },
      "source": [
        "ANSWER 7 -:\n",
        "\n",
        "- In Python, memory management is automatic, it involves handling a private heap that contains all Python objects and data structures.\n",
        "- The Python memory manager internally ensures the efficient allocation and deallocation of this memory.\n",
        "- Python's memory management is performed through various mechanisms, including garbage collection, reference counting, and how variables are stored on the stack and heap.\n",
        "- **Private Heap** : Acts as the main storage for all Python objects and data. It is managed internally by the Python memory manager.\n",
        "- **Raw Memory Allocator** : This low-level component directly interacts with the operating system to reserve memory space in Python's private heap. It ensures there's enough room for Python's data structures and objects.\n",
        "- **Object-Specific Allocators** : On top of the raw memory allocator, several object-specific allocators manage memory for different types of objects, such as integers, strings, tuples, and dictionaries.\n",
        "\n",
        "[Reference Source](https://www.tutorialspoint.com/python/python_memory_management.html)"
      ]
    },
    {
      "cell_type": "markdown",
      "metadata": {
        "id": "P2PldaPmjNsj"
      },
      "source": [
        "8) What is the purpose continuing statement in python?"
      ]
    },
    {
      "cell_type": "markdown",
      "metadata": {
        "id": "WsTGMnUUugtM"
      },
      "source": [
        "ANSWER 8 -:\n",
        "\n",
        "The \"**CONTINUE**\" in a program is used when the iteration needs to continue till the end even if the condition is fulfilled in initial statements only.\n",
        "Or even if the code needs to continue running after encountering a false output."
      ]
    },
    {
      "cell_type": "markdown",
      "metadata": {
        "id": "jkHmtGNFjS5Z"
      },
      "source": [
        "9) Write python program that swap two number with temp variable and without temp variable."
      ]
    },
    {
      "cell_type": "code",
      "execution_count": 147,
      "metadata": {
        "colab": {
          "base_uri": "https://localhost:8080/"
        },
        "id": "u1i-MDaaohdW",
        "outputId": "bd0ba198-87df-49b4-c2b8-97ac0a8cd7f5"
      },
      "outputs": [
        {
          "output_type": "stream",
          "name": "stdout",
          "text": [
            "1st Option - The swapped number with using temporary variable are 18 and 99\n",
            "2nd Option - The swapped number without using temporary variable are 9 and 5\n"
          ]
        }
      ],
      "source": [
        "#ANSWER 9 -:\n",
        "\n",
        "#WITH USING TEMPORARY VARIABLES\n",
        "v1 = 99\n",
        "v2 = 18\n",
        "\n",
        "t1 = v2  #using temporary variable to swap two numbers\n",
        "t2 = v1\n",
        "\n",
        "\n",
        "print(\"1st Option - The swapped number with using temporary variable are\", t1, \"and\" ,t2)\n",
        "\n",
        "\n",
        "#WITHOUT USING TEMPORARY VARIABLES\n",
        "var1 = 5\n",
        "var2 = 9\n",
        "\n",
        "var1, var2 = var2, var1   #swapping using only the parent variables\n",
        "\n",
        "print(\"2nd Option - The swapped number without using temporary variable are\", var1, \"and\" ,var2)"
      ]
    },
    {
      "cell_type": "markdown",
      "metadata": {
        "id": "xewzOzjCjWml"
      },
      "source": [
        "\n",
        "10) Write a Python program to find whether a given number is even or odd, print out an appropriate message to the user."
      ]
    },
    {
      "cell_type": "code",
      "execution_count": 154,
      "metadata": {
        "colab": {
          "base_uri": "https://localhost:8080/"
        },
        "id": "J5M06xbwoiub",
        "outputId": "cb35f135-b961-4f7b-f01e-f488c288d488"
      },
      "outputs": [
        {
          "output_type": "stream",
          "name": "stdout",
          "text": [
            "Enter a number here : 12\n",
            "The input is an even number\n"
          ]
        }
      ],
      "source": [
        "#ANSWER 10 -:\n",
        "\n",
        "number = int(input(\"Enter a number here : \"))      #taking user input\n",
        "\n",
        "if number > 0 :       #checking for the even or odd number\n",
        "    if number %2 == 0 :\n",
        "        print(\"The input is an even number\")\n",
        "    else :\n",
        "        print(\"The input is an odd number\")\n",
        "\n",
        "elif number < 0 :       #checking for the positive or negative number\n",
        "    if number %2 == 0 :\n",
        "        print(\"The input is a negative even number\")\n",
        "    else :\n",
        "        print(\"The input is a negative odd number\")\n",
        "\n",
        "else :       #output if input is ZERO and type, even if the negative zero is provided as input\n",
        "    if number == 0 :\n",
        "        print(\"ZERO! Still an even number\")"
      ]
    },
    {
      "cell_type": "markdown",
      "metadata": {
        "id": "0DqCIjX5jacH"
      },
      "source": [
        "11) Write a Python program to test whether a passed letter is a vowel or not."
      ]
    },
    {
      "cell_type": "code",
      "execution_count": 194,
      "metadata": {
        "colab": {
          "base_uri": "https://localhost:8080/"
        },
        "id": "QCkMjGT4olJQ",
        "outputId": "ccd6684e-92ad-468f-fa4d-a3ca8a84f2cd"
      },
      "outputs": [
        {
          "output_type": "stream",
          "name": "stdout",
          "text": [
            "Enter any letter below :\n",
            "q\n",
            "The vowel is a consonant\n",
            "Enter a letter : Q\n",
            "Letter is a consonant\n",
            "Enter one letter here : #\n",
            "The input has special characters\n"
          ]
        }
      ],
      "source": [
        "#ANSWER 11 -:\n",
        "\n",
        "# 1st OPTION #\n",
        "entry = input(\"Enter any letter below :\\n\")         #taking user input\n",
        "vowels = [\"a\",\"e\",\"i\",\"o\",\"u\",\"A\",\"E\",\"I\",\"O\",\"U\"]         #making list if all vowels upper-lower case\n",
        "\n",
        "if entry in vowels and len(entry) == 1 :\n",
        "    print(\"The letter is in fact a vowel\")         #Checking for a vowel from the list\n",
        "elif len(entry) > 1 :\n",
        "  print(\"Try Again, and enter only one letter\")\n",
        "else :                                        #printing statement if not vowel\n",
        "  print(\"The vowel is a consonant\")\n",
        "\n",
        "\n",
        "# 2nd OPTION #\n",
        "l = str(input(\"Enter a letter : \"))         #taking user input\n",
        "\n",
        "if (l=='a' or  l=='e' or l=='i' or l=='o' or l=='u' or l==\"A\" or l=='E' or l=='I' or l=='O' or l==\"U\") and len(l) == 1 :         #checking for a vowel in input\n",
        "  print (\"Letter is a vowel\")\n",
        "elif len(l) > 1 :\n",
        "  print(\"Try Again, and enter only one letter\")\n",
        "elif l.isnumeric() :             #checking for numeric input\n",
        "  print (\"Input is an integer\")\n",
        "elif not l.isalpha() and not l.isnumeric() :              #checking for special characters\n",
        "  print(\"The input has special characters\")             #2nd option -: elif not l.isalnum() :\n",
        "else :\n",
        "  print (\"Letter is a consonant\")\n",
        "\n",
        "# 3rd Option #\n",
        "\n",
        "letter = input(\"Enter one letter here : \")\n",
        "\n",
        "if len(letter) == 1 and l.isalpha() and letter.lower() in \"aeiou\" :\n",
        "  print(\"The letter is vowel\")\n",
        "elif len(letter) == 1 and letter.isalpha() and letter.lower() not in 'aeiou':      #checking for consonant\n",
        "  print (\"Letter is a consonant\")\n",
        "elif len(letter) > 1 :\n",
        "  print(\"Try Again, and enter only one letter\")\n",
        "elif letter.isnumeric() :             #checking for numeric input\n",
        "  print (\"Input is an integer\")\n",
        "elif not letter.isalpha() and not letter.isnumeric() :              #checking for special characters\n",
        "  print(\"The input has special characters\")             #2nd option -: elif not l.isalnum() :\n",
        "else :\n",
        "  print(\"I'm Lost Now.\")\n",
        "\n",
        "\n",
        "#Note ::\n",
        "# 1st Option Drawback : The first method only check for the vowel in the string and doesn't check for any non-alphabetic input, considering every character except the list as consonant.\n",
        "# 2nd Option Drawback : The second code checks for almost all the possibilities from the user except the alphabets. But when uppercase consonant is provided, it doesn't identifies\n",
        "# it as a consonant, just count the lowercase as consonants.\n",
        "# 3rd option will bypas the case-sensitivity and execute code without error and with true output displayed."
      ]
    },
    {
      "cell_type": "markdown",
      "metadata": {
        "id": "ZhJ5qCoWjdo3"
      },
      "source": [
        "12) Write a Python program to sum of three given integers. However, if two values are equal sum will be zero."
      ]
    },
    {
      "cell_type": "code",
      "execution_count": 200,
      "metadata": {
        "colab": {
          "base_uri": "https://localhost:8080/"
        },
        "id": "gLykrzKaoljA",
        "outputId": "fce2ec52-84bb-4fd7-b472-974a050e8d4f"
      },
      "outputs": [
        {
          "output_type": "stream",
          "name": "stdout",
          "text": [
            "Enter the 1st integer : 22\n",
            "Enter the 2nd integer : 22\n",
            "Enter the 3rd integer : 20\n",
            "The any two numbers are same and the sum is 0\n"
          ]
        }
      ],
      "source": [
        "#ANSWER 12 -:\n",
        "\n",
        "h = int(input(\"Enter the 1st integer : \"))          #taking user input\n",
        "i = int(input(\"Enter the 2nd integer : \"))          #for\n",
        "j = int(input(\"Enter the 3rd integer : \"))          #three integers\n",
        "\n",
        "if h != i and i != j and j != h :             #checking for unique integers\n",
        "    sum = h + i + j\n",
        "    print(\"The sum of integers is\", sum)\n",
        "\n",
        "else :\n",
        "    if h == i or h == j or i == j :          #checking for two same integers\n",
        "        print(\"The any two numbers are same and the sum is\", 0)"
      ]
    },
    {
      "cell_type": "markdown",
      "metadata": {
        "id": "6Q7JMQ4zjgdW"
      },
      "source": [
        "13) Write a Python program that will return true if the two given integer values are equal or their sum or difference is 5."
      ]
    },
    {
      "cell_type": "code",
      "execution_count": 199,
      "metadata": {
        "colab": {
          "base_uri": "https://localhost:8080/"
        },
        "id": "gXCEXjncomGs",
        "outputId": "89c3d185-0043-4de8-9982-638b91354f8d"
      },
      "outputs": [
        {
          "output_type": "stream",
          "name": "stdout",
          "text": [
            "1st Number : \n",
            "2\n",
            "2nd Number : \n",
            "3\n",
            "Sum is 5 and that's 'T.R.U.E.'\n"
          ]
        }
      ],
      "source": [
        "#ANSWER 13 -:\n",
        "\n",
        "n1 = int(input(\"1st Number : \\n\"))    #user input\n",
        "n2 = int(input(\"2nd Number : \\n\"))    #user input\n",
        "\n",
        "if n1 == n2 :              #checking if two integers are same\n",
        "    print(\"The two integers are same so 'TruE'\")\n",
        "\n",
        "elif n1 != n2 :\n",
        "    if n1 - n2 == 5 :          #checking if two integers have difference of 5\n",
        "        print(\"The difference of two integers is 5 so 'TRUE'\")\n",
        "    elif n1 + n2 == 5 :         #checking if two integers have sum of 5\n",
        "        print(\"Sum is 5 and that's 'T.R.U.E.'\")\n",
        "    else :\n",
        "        print (\"None of the conditions are True so , F A L S E\")"
      ]
    },
    {
      "cell_type": "markdown",
      "metadata": {
        "id": "hB50HxEGjjeI"
      },
      "source": [
        "14) Write a python program to sum of the first n positive integers."
      ]
    },
    {
      "cell_type": "code",
      "execution_count": 201,
      "metadata": {
        "colab": {
          "base_uri": "https://localhost:8080/"
        },
        "id": "LamnHJ6Kom0A",
        "outputId": "a5a65b44-4c5e-4311-ecea-eaedcf793292"
      },
      "outputs": [
        {
          "output_type": "stream",
          "name": "stdout",
          "text": [
            "Enter a number : 320\n",
            "The sum of positive integers for 320 is 51360.0\n"
          ]
        }
      ],
      "source": [
        "#ANSWER 14 -:\n",
        "\n",
        "num = int(input(\"Enter a number : \"))          #taking user input\n",
        "\n",
        "sum = num * (num + 1)/2  #Applying the universal math formula to calculate the sum\n",
        "\n",
        "print(\"The sum of positive integers for\", num, \"is\", sum)\n",
        "\n",
        "\n",
        "## Math Formula source : https://www.cuemath.com/sum-of-natural-numbers-formula/"
      ]
    },
    {
      "cell_type": "markdown",
      "metadata": {
        "id": "VF99iHNQjl6R"
      },
      "source": [
        "15) Write a Python program to calculate the length of a string."
      ]
    },
    {
      "cell_type": "code",
      "execution_count": 202,
      "metadata": {
        "colab": {
          "base_uri": "https://localhost:8080/"
        },
        "id": "puk77MhTonii",
        "outputId": "c43dff00-863f-41cc-ad96-9923c0516f1f"
      },
      "outputs": [
        {
          "output_type": "stream",
          "name": "stdout",
          "text": [
            "Enter any string here : 123jayani1233\n",
            "The length of the input is : 13\n"
          ]
        }
      ],
      "source": [
        "#ANWER 15 -:\n",
        "\n",
        "length = input(\"Enter any string here : \")          #taking user input\n",
        "\n",
        "print(\"The length of the input is :\", len(length))      #calculating and printing the string length"
      ]
    },
    {
      "cell_type": "markdown",
      "metadata": {
        "id": "kCoNZOEHmn9Z"
      },
      "source": [
        "16) Write a Python program to count the number of characters (character frequency) in a string"
      ]
    },
    {
      "cell_type": "code",
      "execution_count": 207,
      "metadata": {
        "colab": {
          "base_uri": "https://localhost:8080/"
        },
        "id": "yBMwSBlaoo1M",
        "outputId": "adf1f59b-15be-4bba-a6c9-3727625ee62d"
      },
      "outputs": [
        {
          "output_type": "stream",
          "name": "stdout",
          "text": [
            "Select a character from the given string : life\n",
            "The character | life | appears 1 times in the given string\n"
          ]
        }
      ],
      "source": [
        "string = \"the beautiful world and a wonderul life\"\n",
        "\n",
        "char = input(\"Select a character from the given string : \")\n",
        "\n",
        "char_freq = string.count(char)   #using string method to count given character frequency in the string\n",
        "\n",
        "print(\"The character\", \"|\", char, \"|\", \"appears\", char_freq, \"times in the given string\")"
      ]
    },
    {
      "cell_type": "markdown",
      "metadata": {
        "id": "bp-XRHqTjrm9"
      },
      "source": [
        "17) What are negative indexes and why are they used?"
      ]
    },
    {
      "cell_type": "markdown",
      "metadata": {
        "id": "EV4ZXpuowRax"
      },
      "source": [
        "ANSWER 17 -:\n",
        "\n",
        "- The Negative Indexes are the positions of the data-structure starting from the end.\n",
        "- They are used when the user needs the items from the\n",
        "end of the data-structure where the length of the structure is unknown."
      ]
    },
    {
      "cell_type": "code",
      "execution_count": 223,
      "metadata": {
        "colab": {
          "base_uri": "https://localhost:8080/"
        },
        "id": "q1PuPqd-wX8I",
        "outputId": "d551661f-9f89-4c98-9aeb-91a63343a552"
      },
      "outputs": [
        {
          "output_type": "stream",
          "name": "stdout",
          "text": [
            "[31236, 39740, 79692, 74871, 62671, 98849, 34470, 69381, 95571, 70286, 11080, 88880, 28250, 79222, 99077, 34754, 57602, 11345, 68294, 5566, 51609, 41680, 49178, 44392, 75565, 37581, 78480, 56886, 53336, 13580, 63912, 48253, 66588, 30089, 34131, 68025, 58497, 8675, 67931, 85813, 14114, 71129, 1592, 24760, 12861, 17869, 8445, 70697, 77988, 1588, 74259, 45736, 39918, 46953, 76063, 17264, 7431, 72993, 80219, 63310, 44409, 17678, 96294, 81197, 56014, 90360, 15596, 89146, 30816, 2300, 91955, 90616, 86280, 87611, 42199, 74715, 31819, 14688, 10834, 17972, 84848, 91565, 84666, 50240, 57274, 56492, 27795, 92647, 51033, 44600, 26372, 61261, 29770, 3808, 87999, 71934, 29039, 20742, 83582, 70033, 35884, 64433, 10700, 29950, 22464, 18389, 89878, 37308, 13653, 35164, 83804, 65717, 22230, 61475, 83567, 57505, 60039, 53611, 46649, 11714, 56498, 24631, 92817, 85705, 57906, 87388, 77807, 4684, 96537, 32000, 62918, 407, 3147, 70312, 6624, 41984, 98046, 31394, 96165, 22319, 80175, 52439, 94624, 59698, 32813, 31059, 55612, 39040, 73493, 53824, 26874, 84030, 26824, 84723, 49886, 52785, 37998, 48329, 56066, 64819, 22361, 67482, 11927, 27439, 43548, 81662, 92964, 77503, 45529, 58991, 56203, 76976, 54950, 15368, 98522, 74516, 70274, 52705, 38429, 20155, 9601, 18466, 29147, 26431, 16030, 79352, 17521, 20482, 39945, 47316, 43146, 24795, 51660, 63450, 15250, 65858, 80284, 9317, 92292, 89429, 1002, 69033, 49962, 59919, 8846, 55193, 32432, 25071, 3759, 3929, 11916, 79024, 96609, 2686, 52563, 53799, 35205, 53941, 50380, 983, 48769, 14125, 13965, 96919, 84793, 84826, 96974, 24802, 54092, 84701, 79913, 1863, 9980, 5034, 70994, 62156, 18436, 55509, 32187, 25917, 47327, 91924, 97822, 70154, 99480, 55317, 97227, 50796, 40489, 36596, 78294, 21232, 79863, 3466, 30495, 95604, 8512, 96968, 33590, 84133, 90986, 54523, 10728, 63787, 95458, 51385, 40633, 8738, 14996, 26585, 40719, 65904, 26126, 27372, 6566, 58494, 5770, 2981, 89024, 32903, 84193, 72562, 76164, 64658, 46016, 94461, 79622, 36740, 37616, 47742, 45445, 60949, 24208, 49021, 62108, 5594, 26181, 35171, 12014, 19356, 21129, 41204, 94003, 93614, 94386, 63670, 58837, 85029, 16037, 73032, 64568, 38914, 25019, 55958, 33613, 47048, 88930, 83119, 35427, 92960, 27046, 15769, 63923, 98917, 34456, 82561, 38654, 49755, 64748, 54545, 19478, 14124, 14140, 98794, 58496, 95261, 60773, 19870, 82157, 90309, 29952, 17214, 59059, 88576, 64952, 1965, 78187, 15885, 18926, 74146, 53709, 64164, 46398, 96250, 78848, 65202, 44013, 64662, 29023, 28082, 17161, 24148, 23464, 19037, 61079, 98444, 61567, 36739, 40100, 52148, 1976, 363, 89572, 13875, 16968, 70283, 27326, 11812, 33088, 41845, 23015, 23748, 53183, 42281, 18369, 89668, 44222, 29844, 8996, 46877, 21368, 16832, 4089, 30141, 3366, 98166, 72972, 59673, 5656, 24913, 63063, 18041, 15530, 27911, 54987, 78871, 80321, 70445, 57746, 47062, 65376, 35114, 12781, 54790, 52239, 12149, 25418, 57508, 40595, 32849, 64830, 8175, 35819, 40334, 56487, 67935, 60138, 2820, 19978, 22653, 20807, 8515, 32399, 44227, 96286, 19007, 90200, 67579, 29899, 62827, 2851, 81344, 52882, 17712, 30446, 33334, 84760, 33973, 55272, 88420, 12256, 59534, 23560, 79253, 29810, 79806, 85506, 48189, 34598, 7869, 75296, 15452, 62268, 22555, 20595, 32195, 8468, 27942, 4326, 28338, 94508, 75599, 36879, 32876, 1484, 85167, 29887, 34576, 71206, 11046, 5879, 54265, 7444, 54343, 47459, 77857, 37590, 77388, 30638, 47725, 20940, 92263, 35120, 97754, 72025, 38994, 89483, 78704, 23818, 48303, 22800, 33609, 94580, 54176, 80894, 43399, 73682, 19624, 25773, 82379, 6401, 86344, 43647, 28827, 28016, 79282, 17230, 39874, 28917, 30442, 27407, 31477, 82119, 16537, 67722, 22663, 64845, 28748, 72277, 97317, 47488, 93622, 55353, 50980, 15988, 28656, 39671, 13922, 74507, 85589, 21204, 88108, 40234, 45956, 90145, 20748, 89592, 76563, 34568, 23236, 8975, 10854, 84835, 36021, 19638, 61445, 63267, 96875, 55342, 40018, 52021, 41854, 43717, 27335, 52491, 57575, 43991, 89807, 38197, 82956, 93909, 58839, 65994, 31238, 11096, 44462, 74019, 31187, 62163, 78413, 42284, 23069, 26699, 96682, 52377, 8077, 45714, 59892, 46469, 61013, 4973, 27461, 36637, 62103, 7285, 64552, 72832, 32144, 43279, 84164, 53951, 7561, 39765, 56996, 50722, 80499, 81138, 17550, 90272, 86106, 9326, 85230, 86080, 81642, 55022, 31706, 49422, 14717, 15234, 11371, 11324, 46533, 25404, 28897, 97057, 48653, 97361, 39618, 39563, 66321, 21757, 20398, 87547, 29347, 17584, 97280, 12487, 37878, 50491, 4251, 92743, 59680, 47858, 79130, 47655, 15671, 45362, 56318, 80098, 21345, 15763, 42018, 11492, 21454, 29901, 67688, 19653, 89883, 38786, 21075, 71009, 25742, 15142, 76529, 6211, 28027, 61639, 38433, 1728, 43555, 99002, 88989, 69704, 74319, 98631, 45886, 41651, 25106, 64368, 81942, 40145, 46141, 35147, 8749, 51219, 80528, 20889, 75360, 54708, 28099, 35689, 58546, 30507, 52031, 73305, 63866, 16854, 11966, 7038, 30616, 53339, 93532, 91534, 52854, 55880, 7304, 71768, 2963, 26464, 35210, 34031, 82562, 83089, 94144, 80093, 79727, 6483, 97690, 56015, 67192, 94708, 24253, 69112, 44217, 36814, 20908, 63297, 38407, 84246, 24909, 87417, 56960, 23166, 77277, 7762, 18569, 12418, 72405, 64876, 9585, 65421, 27779, 51324, 33688, 85940, 42967, 22395, 49765, 64069, 93796, 34803, 41301, 71980, 68848, 88993, 46194, 25358, 36889, 64131, 41994, 25591, 51559, 20489, 63434, 67707, 76585, 94138, 4837, 22664, 71227, 83839, 46094, 24822, 8273, 74016, 60066, 83046, 84308, 97079, 22184, 88899, 27868, 60849, 32256, 24204, 61147, 39737, 95899, 20626, 3371, 36454, 68080, 18881, 17247, 10118, 90875, 99438, 29473, 47678, 38286, 11024, 24947, 41608, 61773, 8334, 30304, 42060, 89438, 99404, 32148, 17914, 71770, 34547, 89596, 36855, 74606, 87431, 33316, 84986, 16834, 31612, 79238, 63762, 82988, 12959, 50067, 7880, 16790, 34498, 62026, 77562, 98636, 45452, 75185, 67853, 33867, 66538, 78286, 27835, 27363, 6135, 98223, 20942, 1591, 37179, 63561, 85297, 79929, 41084, 92714, 43874, 12914, 67405, 10189, 46753, 89411, 94673, 51274, 41643, 96231, 38986, 79122, 70594, 64386, 28939, 86409, 80519, 55757, 66214, 88894, 31479, 72605, 82128, 69072, 86587, 10350, 12575, 71060, 47362, 54716, 69900, 66039, 63908, 81972, 91909, 59999, 57338, 30805, 54959, 29414, 26884, 50776, 28750, 52934, 29588, 98411, 34293, 81214, 52507, 82962, 84756, 54261, 10207, 55180, 62439, 26443, 395, 79734, 90512, 56700, 18641, 84635, 16390, 19209, 96320, 24150, 21648, 50275, 31427, 1513, 79730, 96942, 17340, 12151, 46584, 52803, 2805, 32744, 23445, 54088, 43627, 6835, 3552, 17265, 1223, 64241, 86987, 16074, 94945, 85562, 23506, 77198, 19035, 32472, 5019, 10010, 76274, 42751, 19609, 7127, 7571, 23064, 35127, 41377, 96629, 37719, 60954, 87822, 81182, 42933, 51996, 34967, 84422, 27178, 72573, 4111, 58101, 4044, 15820, 64652, 39472, 56037, 57208, 92525, 99247, 93269, 81437, 26002, 9434, 99859, 45966, 84331, 95933, 69142, 43891, 76182, 75930, 16698, 91451, 95172, 86750, 66217, 22778, 16780, 84335, 36554, 39460, 24895, 28585, 86555, 35251, 28710, 9270, 97507, 63277, 95756, 38722, 16433, 4210, 37146, 76886, 34283, 84895, 49075, 76687, 57462, 34640, 82092, 75977, 42206, 85166, 86924, 98013, 85460, 30922, 20304, 4476, 54637, 65819, 79624, 49900, 82402, 57029, 52247, 32310, 61302, 96193, 97473, 45141, 94694, 72766, 95624, 67331, 41218, 39457, 84639, 55432, 13824, 86779, 65482, 78271, 6659, 1532, 3375, 65890, 38506, 30905, 3392, 17551, 39632, 29749, 36182, 59010, 51297, 46909, 22243, 23542, 35212, 45028, 26364, 54749, 59809, 38336, 86569, 33258, 36715, 97668, 3439, 21272, 58285, 17560, 20036, 17192, 58515, 15433, 35715, 81807, 16998, 18971, 40112, 16617, 93517, 59959, 5074, 27287, 18742, 56969, 88657, 60022, 13097, 18879, 6383, 84145, 30929, 80806, 92890, 44717, 14224, 11961, 51174, 71335, 59504, 52675, 18029, 30720, 82217, 4190, 88708, 76889, 23832, 16079, 99103, 62286, 12635, 30825, 66499, 96503, 16576, 37720, 71612, 83441, 11783, 60637, 54558, 71742, 70596, 95268, 65443, 31055, 26796, 30190, 62261, 87438, 34631, 48946, 23379, 56897, 38405, 61791, 29489, 28756, 27933, 45187, 54880, 48851, 2896, 90212, 53163, 86633, 80741, 12583, 68320, 49566, 52713, 68653, 84435, 65188, 47866, 61772, 95639, 29672, 60785, 15720, 4239, 18040, 98758, 25616, 48990, 70996, 3757, 90966, 3789, 82664, 23408, 98170, 94355, 14890, 56889, 79106, 45903, 28518, 26297, 41931, 14892, 95845, 2122, 2772, 85836, 4117, 3989, 55837, 60893, 67439, 99681, 57116, 11923, 3882, 44401, 76877, 98589, 30656, 40871, 68319, 10523, 70507, 97212, 80382, 43535, 15694, 27810, 48489, 57337, 34517, 65639, 42604, 59485, 51615, 99903, 68333, 33049, 80877, 40121, 70775, 38192, 26042, 39726, 25147, 80333, 49484, 35798, 99829, 44390, 74010, 47802, 2902, 6440, 70079, 77394, 47324, 75484, 44518, 14286, 34358, 6325, 14154, 7029, 10223, 13840, 92719, 57616, 52760, 44530, 40929, 82253, 37938, 52228, 95040, 66518, 37670, 92486, 56763, 5498, 27031, 30268, 36481, 12215, 13492, 52772, 40897, 1017, 59241, 30817, 49784, 43416, 36049, 93111, 40694, 37408, 14731, 76936, 48932, 90487, 10946, 36606, 87647, 71912, 49168, 61033, 63605, 91490, 37857, 86972, 46146, 44829, 71456, 16045, 55511, 63868, 99734, 50822, 14745, 91956, 32653, 18587, 77943, 44307, 61776, 23986, 94420, 69439, 46758, 27411, 85820, 33731, 82058, 99814, 22102, 37064, 90627, 98548, 93557, 6335, 21062, 88069, 83678, 49868, 98033, 57239, 81194, 5866, 16277, 76713, 40198, 18477, 5584, 87442, 96731, 9345, 40241, 79801, 45235, 84859, 48342, 47285, 7711, 1909, 68332, 16140, 99341, 25717, 36084, 12223, 52953, 49222, 68413, 63009, 82332, 52358, 6899, 35527, 79232, 59537, 12148, 85794, 89992, 6909, 24783, 97116, 11810, 23077, 49425, 82285, 95454, 7785, 11209, 72641, 4090, 47571, 81356, 53012, 6040, 26748, 68738, 27816, 89330, 64931, 60869, 21493, 73267, 65855, 75591, 85252, 44891, 86013, 32297, 16731, 30121, 26109, 40635, 31787, 46631, 49385, 80726, 4321, 47715, 47412, 78188, 53070, 75834, 69409, 13677, 60310, 42017, 87695, 23055, 96613, 33170, 90033, 4191, 98740, 24473, 17156, 83641, 92281, 85632, 39684, 1123, 97800, 3635, 64806, 15716, 43923, 73824, 8692, 12250, 58425, 16446, 44101, 98861, 12219, 70943, 83288, 453, 56694, 5811, 88184, 8786, 69353, 77695, 54455, 54598, 86465, 67440, 84709, 72666, 81218, 5876, 93940, 20400, 43854, 56645, 65970, 44571, 25771, 1259, 58695, 75207, 47839, 2955, 75534, 99868, 6088, 82738, 13389, 2752, 51699, 3195, 50123, 25362, 72325, 68794, 2503, 46975, 5044, 96177, 73073, 1790, 46365, 47391, 78032, 37524, 74710, 82336, 5239, 83572, 76801, 64090, 91841, 63564, 91865, 77043, 55906, 50988, 90771, 1982, 60294, 65111, 70135, 66029, 28168, 10682, 13182, 72138, 54928, 39399, 73104, 93594, 8104, 57043, 69196, 12150, 2360, 15848, 67436, 6489, 52686, 23099, 65433, 61106, 19255, 90232, 70376, 92044, 11704, 81877, 58423, 34829, 76777, 45424, 39061, 13794, 9161, 32697, 32878, 87604, 83042, 33501, 47919, 23373, 26725, 33070, 65167, 6551, 64900, 38682, 38087, 87697, 47377, 64155, 99222, 89205, 90521, 61941, 90357, 69340, 77745, 81026, 27199, 35946, 89301, 82627, 61278, 41832, 51638, 19658, 87680, 38046, 86748, 93330, 92735, 67399, 47473, 11781, 51759, 11835, 35051, 16162, 83624, 88128, 3395, 26018, 27248, 18640, 63015, 36373, 85960, 80838, 491, 88926, 47395, 91158, 69326, 29203, 19235, 9565, 12419, 19456, 77026, 9466, 23148, 32032, 97025, 67293, 73448, 79583, 65400, 38355, 81658, 8894, 85331, 34261, 86863, 84536, 82043, 49226, 20873, 77229, 66083, 48771, 12131, 65283, 92959, 39064, 87427, 17657, 46119, 44263, 32863, 43530, 86154, 19496, 67558, 9021, 20999, 21727, 98610, 80054, 19245, 89343, 4553, 44561, 6836, 98981, 28480, 10375, 62070, 56417, 4588, 38496, 94586, 73988, 89140, 77837, 31326, 24695, 2132, 76696, 98355, 51252, 15877, 2553, 23196, 61622, 76824, 91308, 80249, 60001, 14999, 90094, 97541, 4930, 57291, 89829, 44564, 67195, 56130, 84179, 16602, 72496, 74452, 35433, 16501, 34141, 85359, 64039, 1968, 73427, 84582, 88205, 77401, 53872, 35833, 55932, 75236, 51992, 80355, 89619, 74581, 27132, 56453, 25950, 27670, 15813, 71110, 16236, 75491, 21174, 55391, 1788, 2949, 60695, 1798, 71246, 83561, 2990, 56321, 57719, 73496, 62487, 56209, 56671, 98966, 30007, 13806, 9370, 7744, 51227, 44241, 62548, 73529, 44266, 60303, 65239, 20782, 80995, 8328, 43598, 26229, 7932, 32392, 65950, 31335, 70156, 10344, 85884, 26312, 78593, 25851, 36696, 88252, 56743, 23494, 39364, 13354, 40724, 10715, 21208, 98991, 33304, 30698, 67496, 15232, 48867, 71016, 35084, 50386, 51296, 68564, 10772, 12528, 54658, 86240, 9373, 99808, 78750, 24294, 28550, 27089, 35038, 78843, 16470, 87432, 1948, 6368, 97005, 1972, 53054, 99154, 59314, 47849, 44481, 50046, 50889, 16272, 29751, 31961, 74817, 45193, 52573, 78089, 47583, 14561, 43483, 90476, 88274, 21918, 29818, 77652, 80089, 18354, 31165, 86705, 90146, 7185, 15557, 15608, 73615, 80350, 64153, 36311, 12815, 42928, 20579, 17788, 18362, 88199, 18613, 42606, 23966, 17878, 84612, 71631, 41681, 47487, 52221, 68094, 77119, 30054, 36126, 45656, 67700, 58671, 88047, 77649, 99109, 71966, 99417, 74278, 81973, 93530, 76158, 93739, 35692, 62469, 13313, 74640, 48699, 99566, 6451, 91501, 66754, 9703, 9799, 74018, 41177, 95389, 65922, 36582, 76033, 15849, 76813, 21425, 29069, 11994, 18246, 57228, 22452, 41428, 56991, 84272, 86112, 85916, 75311, 89988, 65344, 28273, 15966, 78498, 28535, 72293, 35698, 94302, 85481, 12323, 64655, 27375, 82965, 46790, 55144, 12802, 50940, 27144, 22011, 4992, 55577, 3428, 10448, 28304, 3571, 38954, 80110, 56027, 49830, 23132, 88778, 80106, 13870, 93541, 92073, 5328, 1418, 8323, 33946, 49163, 80304, 79128, 88049, 19116, 77997, 89303, 45996, 99777, 49730, 54856, 61717, 97453, 55707, 91502, 77578, 13022, 83845, 37215, 72460, 72126, 53707, 55263, 26279, 976, 67041, 91228, 16404, 76530, 29442, 84189, 92297, 33000, 24282, 7047, 6941, 23253, 50839, 48395, 28298, 94102, 70326, 57579, 91901, 99165, 75490, 71977, 40273, 15951, 96087, 67213, 50709, 52560, 8955, 45009, 52192, 65032, 75915, 16252, 15273, 1985, 87527, 24827, 60128, 43242, 96775, 88534, 31631, 98654, 10472, 90046, 68192, 52972, 44927, 31203, 68700, 30661, 61874, 94522, 99549, 84200, 8271, 91135, 90922, 68547, 58767, 87909, 96453, 32344, 53209, 30629, 39712, 9057, 30426, 22595, 91743, 37436, 24910, 358, 65192, 14579, 81509, 45462, 48135, 20259, 98563, 55326, 27021, 55912, 69152, 43739, 626, 84304, 21336, 23885, 21358, 25465, 29083, 53443, 46902, 1277, 41548, 27029, 6711, 99989, 59263, 97724, 49392, 98439, 38721, 26633, 56042, 43568, 51607, 48502, 7808, 63074, 6966, 56638, 55974, 30697, 36899, 77632, 60518, 17646, 92115, 63315, 65231, 2447, 92887, 79469, 64192, 43521, 74322, 97111, 96054, 37083, 73130, 70196, 1042, 69306, 98147, 42202, 51171, 37731, 10075, 42890, 24963, 87163, 40191, 31516, 92675, 14486, 58278, 91560, 54000, 58463, 742, 49615, 27023, 87211, 14848, 49594, 14701, 83909, 97718, 48078, 78283, 38345, 81824, 84329, 16427, 62335, 59200, 13933, 60712, 34651, 45231, 54485, 98970, 89511, 96920, 92903, 93265, 77547, 97780, 76806, 774, 11045, 93974, 90791, 26681, 51876, 3075, 13078, 70105, 75647, 16596, 39077, 24243, 19443, 30295, 46117, 64624, 16709, 33027, 64606, 11799, 16889, 79911, 93402, 13602, 67974, 87920, 22221, 24016, 44689, 53949, 37700, 88568, 8480, 74668, 81454, 15067, 96703, 26291, 75840, 14993, 71532, 18498, 58466, 47949, 8542, 17418, 54305, 9763, 79803, 4551, 15533, 45123, 60372, 97928, 22285, 26019, 72258, 58729, 67800, 13387, 59767, 50678, 8006, 23227, 54133, 88071, 59934, 56360, 43121, 33290, 29047, 75071, 51043, 81211, 30118, 78207, 96701, 9884, 34187, 23911, 23233, 73818, 29719, 69224, 4238, 4876, 19954, 94224, 18888, 61017, 9680, 62131, 17080, 59283, 48267, 3590, 46734, 29178, 27591, 82176, 87600, 76760, 92324, 66384, 21389, 66137, 28943, 16792, 75279, 57991, 93456, 69865, 37065, 41233, 40232, 89121, 14577, 49066, 89400, 4563, 80202, 61110, 42821, 78580, 89079, 40708, 14691, 63764, 75509, 56373, 56031, 5091, 30786, 55976, 9786, 87187, 87794, 64839, 88279, 77465, 5939, 90684, 18980, 14078, 22366, 31531, 61225, 23109, 42146, 61492, 82582, 82201, 59822, 94363, 24215, 64720, 18510, 39449, 85989, 3544, 30643, 57115, 87127, 5630, 71549, 89279, 31205, 79185, 34908, 75361, 11112, 15231, 14006, 47818, 99233, 9177, 29135, 59310, 24374, 47863, 94907, 60525, 75781, 12854, 16489, 16063, 2446, 44204, 92781, 73392, 31049, 21568, 24410, 51271, 48374, 55155, 80323, 83912, 93124, 43986, 44228, 45574, 33682, 45364, 64445, 2372, 65686, 45817, 66520, 44968, 11653, 92775, 37611, 77732, 4794, 21553, 93534, 20057, 36664, 55241, 84674, 30549, 1199, 38449, 93971, 75137, 80888, 35745, 26593, 21147, 99662, 22661, 91787, 70875, 81759, 83468, 60304, 58964, 93761, 29222, 20410, 9402, 98246, 977, 53796, 62457, 51188, 97861, 5900, 6648, 27892, 44650, 12330, 38607, 82266, 29708, 63876, 991, 19758, 47178, 90734, 28703, 12890, 50384, 8481, 47650, 85143, 75549, 9678, 61310, 63895, 66965, 63559, 21072, 13003, 55340, 73370, 66427, 63669, 68935, 89419, 37621, 30320, 92338, 44248, 34701, 27036, 50975, 29001, 23555, 37395, 44423, 49202, 46509, 40398, 19374, 63601, 85117, 43193, 27582, 30711, 86489, 86552, 32089, 93262, 611, 7059, 94291, 19222, 56449, 80809, 78511, 33833, 7128, 31097, 27030, 90091, 34328, 84861, 91443, 8448, 53943, 81416, 86849, 62800, 90658, 1779, 98087, 42688, 93993, 32794, 57942, 76418, 49344, 16740, 94593, 15406, 53273, 75656, 88546, 49284, 67215, 94857, 90529, 51062, 87196, 22061, 48382, 11193, 40306, 91026, 97820, 36749, 6663, 53692, 91319, 69887, 25611, 78355, 37787, 42767, 75964, 27282, 75203, 46121, 11939, 46842, 56884, 54779, 36087, 95961, 41062, 60225, 8621, 99749, 68666, 43661, 75782, 39533, 43152, 20867, 61832, 34234, 81835, 24541, 70254, 3382, 61823, 99012, 79319, 23056, 58983, 13822, 2459, 51891, 70790, 43240, 35695, 15068, 99312, 67850, 36945, 7800, 31138, 83932, 36387, 21384, 86380, 86757, 11953, 47002, 16196, 14912, 17353, 65095, 26059, 53984, 67828, 5565, 31316, 12968, 77159, 57841, 97767, 79567, 6637, 89277, 98734, 31843, 63177, 31738, 45208, 71053, 26490, 17651, 70812, 54845, 37256, 36295, 18599, 10247, 91330, 44469, 31588, 71224, 67650, 33116, 39718, 86936, 15945, 45222, 55465, 66340, 58027, 71105, 34168, 37440, 66856, 76582, 7546, 90690, 77478, 25075, 46198, 19722, 22265, 43248, 32410, 47710, 91322, 4404, 3172, 59440, 91154, 18370, 58481, 74511, 7886, 36478, 4829, 63586, 76607, 7080, 76124, 88943, 33938, 35987, 40344, 70951, 47664, 78449, 71101, 54922, 85246, 87708, 52434, 59269, 69742, 96504, 71448, 9496, 68373, 51907, 22803, 2072, 97864, 58500, 21457, 18468, 55970, 81708, 76814, 61789, 54246, 17976, 36062, 25186, 99879, 7015, 34891, 98105, 22183, 72318, 69082, 35315, 49825, 7405, 32856, 11667, 21643, 93424, 99697, 91628, 65726, 93579, 84343, 63804, 64770, 81379, 54683, 17683, 56488, 42342, 66803, 52693, 79794, 47243, 96036, 10899, 87029, 21034, 45460, 32299, 40469, 99145, 93502, 53247, 65954, 43260, 63403, 4132, 2703, 79535, 68532, 26079, 98353, 4029, 48848, 68112, 55925, 93136, 41444, 9319, 51965, 27769, 41913, 94107, 44238, 10248, 42349, 94157, 39807, 92509, 67102, 55731, 15699, 19424, 42162, 90608, 98659, 12584, 16626, 88371, 18156, 52198, 48183, 26005, 15190, 57584, 97469, 63465, 78722, 57216, 25971, 67792, 21966, 59106, 15791, 68662, 90083, 21316, 36770, 96717, 13312, 54013, 46521, 78298, 19314, 12923, 65740, 46684, 48534, 87687, 2422, 44813, 71449, 85410, 93523, 30774, 38085, 19993, 69620, 59925, 83013, 23808, 3608, 37773, 32318, 87797, 96434, 41594, 86339, 31065, 93837, 22794, 93472, 17172, 9582, 85220, 95859, 26870, 23197, 72378, 33831, 36208, 97177, 16469, 99544, 12994, 35982, 67243, 46093, 61181, 22553, 32939, 1412, 28360, 82590, 12610, 38790, 68545, 62160, 27100, 77586, 24809, 7715, 68263, 68178, 82089, 11596, 56148, 58860, 35141, 60738, 44475, 55423, 36823, 90473, 58236, 96468, 86903, 83765, 67438, 79856, 20593, 8034, 58648, 99433, 40026, 34502, 52840, 68883, 91505, 38941, 18126, 24753, 29615, 74816, 39641, 71437, 47137, 32933, 76076, 3900, 80746, 32981, 79841, 56011, 97678, 54597, 12146, 38920, 6773, 68238, 9991, 42198, 63943, 12174, 3338, 76359, 76148, 13814, 59116, 96370, 72662, 5690, 96197, 18682, 69496, 22047, 75299, 8901, 51517, 86349, 70963, 33606, 52466, 23022, 75347, 59541, 10987, 97794, 39829, 5681, 69101, 54350, 44232, 49946, 35233, 29110, 58942, 66357, 90258, 68803, 58974, 4670, 42061, 20114, 90788, 35487, 8706, 43786, 84298, 68785, 36830, 15595, 64198, 68882, 23592, 14590, 35468, 59824, 10594, 13859, 87963, 95431, 14092, 31683, 62005, 64162, 67137, 49557, 11694, 67139, 76499, 45131, 47072, 82213, 51320, 73765, 24318, 81645, 28163, 77697, 12315, 69713, 12455, 69871, 69489, 16431, 56560, 14163, 70103, 18077, 39768, 84079, 61525, 42485, 58454, 45777, 915, 76174, 86434, 39100, 77384, 9872, 31559, 87202, 14580, 42725, 10357, 15322, 80330, 17531, 66871, 25753, 67206, 14649, 66472, 48575, 46415, 50938, 94373, 40673, 40065, 20177, 39411, 3538, 30020, 64088, 78895, 77002, 38348, 68522, 3202, 96695, 68942, 13681, 44948, 72918, 43869, 94400, 16568, 78366, 50984, 92969, 77310, 32284, 24892, 1129, 25577, 84546, 36110, 96924, 31916, 32861, 58241, 76587, 56649, 50861, 47253, 41333, 77914, 38779, 35812, 64023, 1990, 46187, 62820, 76464, 18254, 57192, 16396, 48012, 76979, 9717, 77439, 4249, 79634, 29062, 51872, 21574, 86400, 20496, 30451, 89377, 65905, 48115, 79563, 57283, 7644, 77910, 33791, 31126, 96591, 93023, 80492, 51905, 21601, 91363, 23442, 99588, 22340, 17151, 27984, 87484, 14814, 43378, 81854, 93438, 76876, 74304, 35549, 64694, 24365, 97647, 66966, 86789, 44783, 20741, 68064, 57245, 26553, 62476, 8606, 18662, 2939, 3227, 12515, 78020, 12589, 62591, 56124, 98435, 21347, 71635, 60301, 58945, 99289, 89538, 16384, 67959, 67204, 56801, 77627, 62407, 94778, 33964, 15394, 35368, 139, 88293, 27006, 34684, 13208, 64753, 90222, 56715, 26485, 59043, 61550, 46621, 94347, 55037, 21467, 57009, 98360, 90123, 70014, 29272, 84778, 12612, 56792, 23795, 69466, 60555, 27456, 27169, 58539, 14675, 57131, 82580, 25815, 21192, 64158, 32982, 52027, 87543, 19004, 73045, 70382, 88660, 30491, 22756, 80469, 15215, 56187, 39065, 55213, 81889, 77009, 91496, 32611, 61937, 4261, 62961, 15807, 4810, 32143, 80116, 8619, 42283, 73624, 2548, 11562, 95991, 33603, 96595, 62778, 74958, 3275, 85185, 42036, 93176, 20637, 15657, 97148, 14026, 96827, 86556, 32619, 62114, 82438, 90506, 2577, 53214, 58230, 1663, 9509, 92586, 80208, 33837, 37315, 84920, 50253, 96020, 36510, 68926, 48610, 10463, 18995, 2676, 15075, 46588, 6339, 35291, 36002, 71470, 58190, 37771, 54253, 12701, 43664, 11576, 45192, 79893, 11392, 78418, 40646, 17812, 70566, 10060, 26872, 97582, 56591, 40855, 15060, 42956, 34947, 4587, 17336, 68930, 43310, 94891, 42591, 93692, 63491, 79659, 33284, 95244, 88310, 84026, 65169, 39799, 12070, 2539, 92938, 20258, 54099, 26021, 54568, 24691, 76526, 26444, 28680, 90901, 95428, 59384, 91006, 550, 94464, 68812, 95303, 33393, 46409, 52038, 30005, 32659, 38651, 40879, 85092, 83688, 30768, 26262, 26158, 49803, 10206, 86905, 78998, 26644, 21445, 37356, 57431, 74599, 86233, 77539, 3451, 64435, 8731, 40557, 70885, 46177, 62534, 2069, 21750, 5043, 57798, 87204, 98699, 58692, 557, 17659, 69231, 80816, 96285, 17699, 95409, 26446, 7588, 92013, 94856, 76069, 10741, 6892, 73101, 11822, 67341, 37711, 77827, 74727, 95630, 6724, 46610, 89506, 95276, 19597, 82822, 51743, 97077, 75871, 62291, 80616, 27348, 16684, 94619, 2781, 58990, 41990, 10996, 87077, 65308, 3102, 53006, 56372, 17051, 8865, 31507, 11102, 97110, 25821, 2224, 59178, 38416, 9610, 64214, 92478, 21909, 51283, 52139, 46747, 99815, 493, 84175, 64025, 59368, 40280, 35995, 76241, 87564, 52059, 82463, 17605, 40773, 85436, 4273, 13016, 53944, 52056, 21250, 3830, 68802, 68108, 20966, 40396, 44921, 66000, 63800, 39934, 99250, 78918, 28460, 9231, 25349, 16157, 33614, 9574, 32193, 66372, 96467, 58772, 97700, 74271, 28205, 78232, 50226, 17285, 73965, 4980, 80685, 69008, 98243, 49943, 58980, 90271, 10537, 85834, 45677, 70461, 14726, 503, 52164, 29531, 36282, 45637, 10609, 69017, 36102, 49098, 21615, 99134, 99013, 92446, 39007, 33238, 77415, 10556, 77287, 36347, 80544, 51886, 5898, 85172, 50101, 50742, 41477, 95194, 9736, 63256, 44301, 18011, 47461, 88580, 14655, 97604, 62112, 39241, 54809, 37055, 24067, 8601, 20823, 25335, 79407, 80082, 51942, 90898, 55997, 54549, 69234, 35659, 33995, 96518, 76514, 5099, 75189, 37793, 62262, 1113, 29445, 14812, 47792, 30105, 78738, 75590, 75575, 91300, 61646, 19076, 58863, 8631, 20240, 58924, 9608, 81327, 56333, 39619, 21809, 46174, 93041, 65333, 58060, 908, 96061, 23163, 14784, 32120, 59816, 63304, 65616, 12880, 35526, 97710, 69815, 43436, 88931, 98598, 6139, 98657, 65828, 54655, 81224, 18779, 37989, 19491, 52795, 52714, 12690, 18732, 25029, 15984, 1651, 16065, 25337, 97014, 75938, 12176, 49727, 83939, 24582, 39805, 92355, 62169, 28903, 19676, 29377, 32041, 47968, 99385, 21398, 67789, 87933, 48948, 2615, 89900, 82434, 11920, 13663, 74027, 6381, 16946, 73826, 93558, 34999, 64649, 74429, 70716, 28693, 22315, 25472, 82456, 77838, 79030, 16581, 54802, 69059, 51966, 59544, 96288, 16219, 54990, 92655, 85114, 8325, 80906, 43034, 63185, 43672, 87455, 8782, 76850, 8228, 26888, 34143, 68791, 23886, 79958, 16745, 12629, 81754, 942, 97750, 29857, 7726, 30093, 27492, 5471, 97512, 46006, 7489, 73035, 35922, 38187, 92234, 62246, 59796, 16988, 77907, 6273, 42892, 71123, 40651, 58702, 44581, 13352, 7741, 94206, 63803, 20553, 30939, 53865, 6638, 93164, 55335, 38509, 1345, 75833, 79524, 45788, 75446, 30572, 58116, 6755, 92784, 95776, 35891, 65596, 92114, 60903, 12498, 74201, 53325, 37092, 24237, 15484, 26639, 92334, 31824, 27775, 68387, 85578, 10586, 81740, 75162, 91480, 38761, 56342, 79491, 11538, 69030, 34546, 73049, 76428, 66964, 18958, 11690, 35014, 69521, 42194, 82801, 58356, 82704, 71303, 84278, 97430, 94042, 34075, 30745, 4861, 54605, 85132, 46149, 19729, 13872, 45680, 50382, 10380, 42996, 84056, 61728, 21039, 44621, 50032, 7777, 42094, 9405, 38922, 20350, 1957, 30310, 86488, 95413, 30288, 27866, 50278, 16254, 3472, 20130, 93084, 60680, 59662, 23443, 34275, 48605, 27257, 71283, 19617, 88818, 24506, 92257, 79312, 8532, 37374, 83126, 93137, 78176, 9030, 11601, 98269, 34901, 47624, 20233, 32650, 95236, 30621, 82559, 89906, 58744, 89706, 64232, 48132, 69856, 9173, 96270, 1296, 12918, 15344, 64055, 56901, 24779, 80572, 89296, 45201, 72072, 16567, 25684, 94020, 73119, 30713, 79799, 81044, 39089, 60603, 99411, 46047, 70036, 62668, 28398, 18506, 69445, 60328, 34933, 81399, 18895, 48476, 57641, 49994, 6838, 60982, 19573, 3798, 41387, 37647, 38853, 48500, 95176, 65021, 81089, 82495, 36279, 35432, 59121, 96443, 23829, 64116, 52088, 18588, 87789, 86584, 33450, 46278, 20069, 31317, 82444, 5109, 65504, 7514, 77780, 42904, 14200, 60161, 18776, 99156, 18778, 77886, 58713, 26368, 28183, 86510, 4193, 25813, 61126, 4979, 97948, 45697, 86372, 14940, 9085, 52486, 47586, 9120, 54408, 21641, 44472, 92204, 51107, 52625, 45382, 94599, 40472, 42025, 56098, 5554, 52152, 89783, 12462, 29123, 81946, 34173, 63780, 5945, 15856, 36710, 56986, 9511, 87877, 48089, 77318, 56070, 79274, 66448, 39046, 31263, 5602, 12254, 11417, 68917, 69690, 65989, 27207, 46677, 41634, 75206, 94796, 32523, 52401, 32685, 19134, 17109, 81173, 67699, 91826, 50242, 40066, 53828, 17980, 23873, 35835, 89457, 38602, 4366, 76479, 89861, 77104, 98933, 41202, 82330, 66392, 88828, 94654, 12296, 87951, 37759, 14545, 13590, 12563, 36977, 26053, 75449, 87198, 28260, 24007, 72816, 29894, 63456, 79964, 14778, 16185, 88522, 53697, 31442, 68798, 85671, 76892, 90287, 51976, 33925, 19460, 73761, 40053, 13759, 43417, 64892, 28725, 37120, 91405, 32267, 32614, 93213, 24130, 90663, 40456, 42780, 75481, 79718, 46389, 49631, 88791, 77177, 44304, 9903, 53643, 72122, 90880, 25890, 79791, 62975, 52317, 93003, 80978, 60330, 88526, 35217, 60409, 69330, 33155, 84371, 68444, 57478, 70265, 16606, 30128, 51949, 20763, 10913, 99493, 5694, 1568, 69254, 95405, 61249, 18114, 3991, 57548, 81243, 82460, 79766, 97327, 79762, 42842, 57144, 170, 49293, 13866, 35047, 48683, 12537, 76273, 49050, 51831, 82319, 44397, 39286, 71846, 37978, 37796, 10499, 645, 4130, 44702, 31184, 52012, 7905, 54709, 9286, 584, 57195, 77696, 20648, 4742, 18082, 20450, 74143, 63492, 10505, 18740, 23996, 36754, 45456, 90155, 88697, 54048, 3755, 51192, 6697, 11956, 72494, 78419, 25412, 92869, 61530, 71103, 93403, 61038, 76968, 61650, 11358, 41684, 57728, 350, 48062, 24897, 85208, 52534, 70142, 82545, 40158, 20525, 95635, 34987, 9044, 52375, 91430, 72147, 88800, 32112, 82061, 53431, 76329, 64258, 48371, 21501, 10615, 85240, 45648, 30109, 72561, 84347, 46499, 99964, 75556, 10978, 99343, 42744, 75345, 70438, 34432, 50377, 61117, 58333, 6488, 83866, 7503, 98621, 31821, 78301, 17670, 37642, 83185, 30790, 62573, 5387, 46290, 21450, 25444, 12456, 83473, 88422, 50163, 93596, 22206, 95278, 36048, 83703, 14603, 47961, 12617, 39982, 70964, 39452, 90495, 66759, 45253, 85514, 7104, 3311, 39620, 38597, 30094, 74980, 63774, 51015, 32564, 13129, 63898, 96230, 92503, 98703, 18501, 92767, 89322, 49451, 11560, 34604, 9007, 65770, 57963, 75011, 70234, 48198, 22443, 73691, 55739, 67518, 22497, 25852, 17757, 77872, 55330, 23596, 15589, 539, 30589, 64093, 18706, 23310, 19621, 51528, 61826, 29726, 54193, 55640, 7866, 54296, 5400, 27708, 53493, 18078, 14464, 97560, 5438, 12213, 81983, 68458, 84876, 11443, 8984, 72251, 13424, 31327, 84695, 18709, 84854, 403, 5869, 73591, 7210, 29678, 2946, 64898, 50137, 48663, 3562, 3701, 43103, 72819, 33811, 58354, 68304, 48554, 3555, 61624, 43919, 77230, 23028, 6086, 35781, 46609, 23217, 94755, 91423, 63073, 18664, 88941, 36142, 22244, 2737, 16381, 39499, 10908, 43912, 28907, 4916, 97260, 37178, 37492, 86819, 29149, 15292, 31898, 5844, 59136, 41671, 25921, 65481, 48844, 91261, 97156, 16175, 82121, 61722, 26137, 8126, 48524, 38546, 57345, 19683, 71002, 7132, 84513, 30006, 99367, 90011, 56974, 88023, 13487, 54224, 73669, 66315, 39668, 15541, 41706, 2311, 22888, 31865, 83731, 8680, 27635, 63827, 63776, 31554, 82133, 31129, 890, 30877, 46210, 72271, 4952, 88013, 32087, 91833, 90386, 3850, 16097, 54434, 12406, 93868, 55453, 93118, 33395, 75795, 83114, 66317, 1834, 71598, 82890, 95206, 12481, 88659, 93777, 3107, 782, 78489, 196, 38935, 11695, 74532, 74222, 65564, 70577, 56324, 15645, 7884, 60708, 98143, 38811, 20241, 666, 80950, 27117, 42268, 53659, 38667, 4926, 81912, 42511, 96561, 43585, 20056, 23519, 27440, 45958, 8110, 37522, 80266, 4833, 75693, 83141, 41666, 78663, 1176, 11917, 43498, 64538, 81709, 97429, 85690, 57679, 13197, 49574, 58242, 14265, 97311, 49682, 12582, 23349, 88990, 94948, 92215, 64674, 2600, 36259, 24490, 51897, 69665, 75336, 57982, 18390, 98150, 82858, 14259, 2194, 84334, 44052, 79084, 50022, 10426, 32034, 53043, 23827, 78614, 32757, 63030, 76171, 38518, 57738, 96921, 96860, 50051, 76754, 50927, 96062, 3915, 17630, 37375, 38398, 22966, 81323, 17248, 41604, 885, 48270, 94271, 7531, 25780, 48671, 69474, 61872, 96887, 90793, 64520, 1884, 13716, 70780, 71787, 85609, 86111, 43959, 12833, 92737, 79850, 84840, 93207, 93801, 72332, 8026, 49860, 15353, 17523, 99292, 57458, 39244, 87792, 89853, 35066, 96104, 96989, 69397, 62864, 72735, 39662, 8804, 59193, 82753, 52603, 94013, 37094, 29656, 39812, 37099, 54881, 55516, 62297, 95395, 9620, 59287, 79884, 92523, 48026, 51588, 84485, 50666, 73411, 38105, 67813, 51215, 7053, 15213, 40200, 22281, 84219, 41362, 97032, 69428, 40632, 12643, 6247, 99027, 77568, 74425, 42901, 60598, 7791, 23987, 70542, 76717, 99617, 43849, 32319, 29693, 80005, 45816, 56134, 66641, 89123, 66042, 67522, 83408, 80842, 90657, 57206, 97790, 49550, 72166, 21439, 3266, 53107, 32096, 87020, 27161, 19310, 67097, 23507, 30399, 8428, 49983, 54995, 82404, 55946, 43412, 15335, 55435, 67011, 81281, 24598, 29093, 85936, 86438, 85142, 88169, 68077, 21025, 75758, 28820, 72418, 72216, 43716, 62443, 86665, 48912, 63955, 92873, 94481, 11171, 36687, 9028, 71989, 72197, 40485, 87683, 19326, 73077, 63376, 38656, 62470, 39269, 71972, 67065, 58666, 47133, 53862, 83975, 36788, 99431, 18798, 13949, 71567, 89093, 64963, 28599, 2388, 28344, 1562, 37010, 86286, 24387, 72456, 59369, 95723, 60921, 80064, 44799, 75366, 17401, 2437, 4076, 52464, 4374, 12651, 95009, 12114, 82072, 94245, 96268, 80650, 97825, 87205, 42847, 4120, 59821, 85507, 26260, 46292, 81144, 46396, 89750, 96359, 34716, 22055, 21078, 74601, 679, 95663, 20684, 90497, 95427, 25047, 76431, 65850, 92658, 44593, 29186, 69669, 93875, 16333, 48099, 71678, 41166, 8832, 23905, 82683, 18007, 36430, 87578, 67840, 15991, 30358, 62388, 92708, 88011, 60077, 73554, 4260, 88178, 82633, 27343, 56823, 54963, 88004, 10142, 62390, 68432, 55042, 58576, 38460, 40519, 67882, 54847, 45898, 67891, 20074, 23340, 65346, 82577, 26114, 85225, 28327, 58117, 9781, 26040, 93180, 27358, 52428, 14658, 86632, 85335, 16597, 8592, 73236, 61301, 9764, 19474, 9145, 20871, 10773, 13240, 54524, 92604, 44285, 3844, 14317, 62988, 4481, 54509, 33660, 47690, 89344, 8046, 14951, 61342, 77140, 2969, 45287, 71482, 64385, 92226, 78753, 665, 63813, 96794, 42209, 49270, 68299, 57231, 42101, 14893, 22731, 56301, 90743, 22603, 28556, 11134, 65757, 42345, 50201, 11968, 58696, 26649, 8351, 17057, 38267, 77828, 71469, 24275, 95404, 8828, 56755, 85780, 51394, 29463, 52634, 55873, 8943, 25065, 95148, 57928, 84885, 95070, 34565, 77926, 14832, 17119, 81358, 15243, 65004, 23909, 59993, 88225, 27745, 37690, 52726, 51532, 95543, 31124, 63180, 13209, 11850, 28614, 96715, 59458, 43196, 83635, 35297, 95730, 75703, 19167, 89346, 19241, 8109, 49356, 8676, 67239, 3947, 69699, 66281, 86007, 16674, 83355, 76944, 10877, 2112, 58248, 65108, 53561, 37664, 21375, 82661, 94872, 98504, 26182, 17299, 55258, 73039, 31128, 74331, 37829, 74767, 25740, 48080, 59511, 17939, 8733, 18088, 35006, 9378, 83791, 489, 28751, 65958, 23708, 7389, 6814, 53274, 87896, 73782, 16138, 70393, 21242, 40711, 40758, 50443, 5460, 13713, 67116, 27041, 86853, 71613, 89028, 59433, 49741, 93377, 60582, 74571, 7385, 52406, 66125, 6502, 5660, 39371, 93006, 18751, 92768, 59274, 42533, 87288, 80713, 9502, 1373, 66667, 15899, 46767, 22158, 14513, 6817, 13588, 45127, 79184, 18483, 61688, 89836, 61256, 88034, 64053, 64327, 16077, 49511, 83298, 74147, 63274, 95412, 29296, 43951, 93897, 45810, 91738, 780, 59515, 5330, 80819, 693, 8524, 34970, 4709, 42519, 41240, 35815, 85868, 81487, 90131, 26927, 73902, 89261, 21950, 10887, 76487, 53283, 50864, 94697, 95798, 90098, 43676, 79966, 31353, 31760, 73555, 24481, 98732, 54223, 30326, 50935, 81036, 11971, 52571, 98975, 24241, 87106, 86419, 14551, 11218, 26084, 76108, 80701, 79785, 32369, 38330, 24931, 73655, 69921, 77051, 90424, 69878, 37367, 86139, 40551, 6903, 82175, 91013, 78307, 71252, 52806, 60468, 31295, 67689, 73422, 7610, 29474, 90027, 30038, 12012, 15090]\n"
          ]
        },
        {
          "output_type": "execute_result",
          "data": {
            "text/plain": [
              "61256"
            ]
          },
          "metadata": {},
          "execution_count": 223
        }
      ],
      "source": [
        "#ANSWER 17 -:\n",
        "\n",
        "import random\n",
        "\n",
        "#the given list has random values with 5000 elements\n",
        "n_list = random.sample(range(10, 100000),5000)\n",
        "print(n_list)\n",
        "\n",
        "#All 5000 values are not visible in the output.\n",
        "#So, if we want to find out the items from last 100, negative indices are used to avoid going through all the elements\n",
        "n_index = n_list[-90]\n",
        "n_index"
      ]
    },
    {
      "cell_type": "markdown",
      "metadata": {
        "id": "QZsSJQ72jujC"
      },
      "source": [
        "18) Write a Python program to count occurrences of a substring in a string."
      ]
    },
    {
      "cell_type": "code",
      "execution_count": 224,
      "metadata": {
        "colab": {
          "base_uri": "https://localhost:8080/"
        },
        "id": "Wyw0ZT4xoqO_",
        "outputId": "9fd79ab0-9375-4ce3-9b4c-464afda74690"
      },
      "outputs": [
        {
          "output_type": "stream",
          "name": "stdout",
          "text": [
            "Enter the substring you wanna count :we\n",
            "The we occurs 0 times in the string\n"
          ]
        }
      ],
      "source": [
        "#ANSWER 18 -:\n",
        "\n",
        "string = \"This is one spoonful of sugar. In custard there are only two spoonful of sugar and not more than that.\"\n",
        "\n",
        "sub = input(\"Enter the substring you wanna count :\")        #taking input for substring frm user\n",
        "\n",
        "occurence = string.count(sub)                #counting frequency of substring in parent string\n",
        "\n",
        "print(\"The\",sub,\"occurs\",occurence,\"times in the string\")"
      ]
    },
    {
      "cell_type": "markdown",
      "metadata": {
        "id": "NbhTnvUwjx0R"
      },
      "source": [
        "19) Write a Python program to count the occurrences of each word in a given sentence"
      ]
    },
    {
      "cell_type": "code",
      "execution_count": 226,
      "metadata": {
        "colab": {
          "base_uri": "https://localhost:8080/"
        },
        "id": "UqFUoYqgoq-I",
        "outputId": "cd268d18-76b5-49db-be58-71135d61071a"
      },
      "outputs": [
        {
          "output_type": "stream",
          "name": "stdout",
          "text": [
            "The word occurence for each word in the whole sentence is\n",
            " {'The': 1, 'world': 1, 'with': 1, 'overusing': 1, 'Ghibli': 1, 'Styyle': 1, 'image': 1, 'generating': 1, 'is': 1, 'overheating': 1, 'the': 1, 'GenAI': 1, \"GPU's.\": 1}\n"
          ]
        }
      ],
      "source": [
        "#ANSWER 19 -:\n",
        "\n",
        "sentence = \"The world with overusing Ghibli Styyle image generating is overheating the GenAI GPU's.\"\n",
        "\n",
        "sen = sentence.split(\" \")        #splitting the string into words using seperator\n",
        "sen\n",
        "\n",
        "word_count = {}           #creating empty dictionary to store each word\n",
        "\n",
        "for i in sen :             #initiating the loop to count the frequency of each word\n",
        "    if i in word_count :\n",
        "        word_count[i] += 1      #couning each occurence\n",
        "    else :\n",
        "        word_count[i] = 1\n",
        "print(\"The word occurence for each word in the whole sentence is\\n\", word_count)"
      ]
    },
    {
      "cell_type": "markdown",
      "metadata": {
        "id": "dEwv-uBqj0oM"
      },
      "source": [
        "20) Write a Python program to get a single string from two given strings, separated by a space and swap the first two characters of each string."
      ]
    },
    {
      "cell_type": "code",
      "execution_count": 227,
      "metadata": {
        "colab": {
          "base_uri": "https://localhost:8080/"
        },
        "id": "QdHBDySgorqo",
        "outputId": "4feadc1b-f4be-4385-be83-eaa2279561a7"
      },
      "outputs": [
        {
          "output_type": "stream",
          "name": "stdout",
          "text": [
            "Enter a String here : hellooo\n",
            "Enter second string here : heylooo\n",
            "The single string from given inputs, with the first two characters swapped is :  heylooo hellooo\n"
          ]
        }
      ],
      "source": [
        "#ANSWER 20 -:\n",
        "\n",
        "s1 = input(\"Enter a String here : \")\n",
        "s2 = input(\"Enter second string here : \")\n",
        "\n",
        "swap_s1 = s1[:2] + s2[2:]        #extracting the first two character from first and  rest of character of second after ignoring last two chars\n",
        "swap_s2 = s2[:2] + s1[2:]        #extracting the first two character from second and rest of character of first after ignoring last two chars\n",
        "\n",
        "swap_string = swap_s1 + \" \" + swap_s2      #concatenating two swapped strings into new onek\n",
        "\n",
        "print(\"The single string from given inputs, with the first two characters swapped is : \",swap_string)"
      ]
    },
    {
      "cell_type": "markdown",
      "metadata": {
        "id": "MFO0qcgkj3ax"
      },
      "source": [
        "21) Write a Python program to add 'in' at the end of a given string (length should be at least 3). If the given string already ends with 'ing' then add 'ly' instead if the string length of the given string is less than 3, leave it unchanged."
      ]
    },
    {
      "cell_type": "code",
      "execution_count": 230,
      "metadata": {
        "colab": {
          "base_uri": "https://localhost:8080/"
        },
        "id": "ISQcozKEpGli",
        "outputId": "793d37f7-8414-44a9-971d-2a68480f9a14"
      },
      "outputs": [
        {
          "output_type": "stream",
          "name": "stdout",
          "text": [
            "Enter a word : fitting\n",
            "fittingly\n"
          ]
        }
      ],
      "source": [
        "#ANSWER 21 -:\n",
        "\n",
        "user_string = input(\"Enter a word : \")\n",
        "\n",
        "#check if the length of string is more than 3\n",
        "if len(user_string) >= 3 :\n",
        "\n",
        "  if user_string.endswith(\"ing\") :        #changing string if the condition if true using \"ENDSWITH\" method\n",
        "    print(user_string + \"ly\")\n",
        "  else :\n",
        "      print(user_string + \"in\")         #change in string if condiion is false\n",
        "else :\n",
        "  print(user_string)      #output if the string is less than 3 characters"
      ]
    },
    {
      "cell_type": "markdown",
      "metadata": {
        "id": "8NRf8Zsmj66p"
      },
      "source": [
        "\n",
        "22) Write a Python function to reverses a string if its length is a multiple of 4."
      ]
    },
    {
      "cell_type": "code",
      "execution_count": 231,
      "metadata": {
        "colab": {
          "base_uri": "https://localhost:8080/"
        },
        "id": "_dbr3fjxpHIG",
        "outputId": "a5679b55-e03e-4851-ede1-1ad6a4bc651d"
      },
      "outputs": [
        {
          "output_type": "stream",
          "name": "stdout",
          "text": [
            "Enter a string here : wowwowwwe\n",
            "The string length is not a mutliple of 4\n"
          ]
        }
      ],
      "source": [
        "# ANSWER 22 -:\n",
        "\n",
        "s = str(input(\"Enter a string here : \"))\n",
        "\n",
        "if len(s) % 4 == 0 :         #checking for string length of 4 and reversing string\n",
        "  print(\"The reversed string is\", s[:: -1])\n",
        "\n",
        "else :\n",
        "  print(\"The string length is not a mutliple of 4\")"
      ]
    },
    {
      "cell_type": "markdown",
      "metadata": {
        "id": "k_bb0JvFj9_k"
      },
      "source": [
        "  \n",
        "23) Write a Python program to get a string made of the first 2 and the last 2 chars from a given a string. If the string length is less than 2, return instead of the empty string.  "
      ]
    },
    {
      "cell_type": "code",
      "execution_count": 232,
      "metadata": {
        "colab": {
          "base_uri": "https://localhost:8080/"
        },
        "id": "aM7ZkG0wpHhI",
        "outputId": "84f72339-9d28-49fd-c74a-f472d84b7715"
      },
      "outputs": [
        {
          "output_type": "stream",
          "name": "stdout",
          "text": [
            "Enter a word here : cleptomania\n",
            "The new string is clia\n"
          ]
        }
      ],
      "source": [
        "#ANSWER 23 -:\n",
        "\n",
        "str_input = input(\"Enter a word here : \")\n",
        "\n",
        "if len(str_input) > 2 :\n",
        "  s1 = str_input[:2]\n",
        "  s2 = str_input[-2:]         #using negative indexing to extract last two characters\n",
        "  print(\"The new string is\",s1 + s2)\n",
        "else :\n",
        "  print(str_input)       #if the string is less than 2 characters"
      ]
    },
    {
      "cell_type": "markdown",
      "metadata": {
        "id": "f4KkrPW7kBRl"
      },
      "source": [
        "24) Write a Python function to insert a string in the middle of a string."
      ]
    },
    {
      "cell_type": "code",
      "execution_count": 234,
      "metadata": {
        "colab": {
          "base_uri": "https://localhost:8080/"
        },
        "id": "Do0r9ASKpH6W",
        "outputId": "a494be1f-5b86-4474-976e-4796f10cbdf1"
      },
      "outputs": [
        {
          "output_type": "stream",
          "name": "stdout",
          "text": [
            "I am Joshi Jayani\n"
          ]
        }
      ],
      "source": [
        "#ANSWER 24 -:\n",
        "\n",
        "string = \"I am Jayani\"    #predefined strings\n",
        "extra = \"Joshi\"\n",
        "\n",
        "f_string = \"I am {0} Jayani\".format(extra)    #using 'FORMAT' string method to insert the string\n",
        "f_string\n",
        "\n",
        "print(f_string)"
      ]
    },
    {
      "cell_type": "markdown",
      "metadata": {
        "id": "2PmqnoCgkD5L"
      },
      "source": [
        "25) What is List? How will you reverse a list?"
      ]
    },
    {
      "cell_type": "markdown",
      "metadata": {
        "id": "8WyVlBjnc2b-"
      },
      "source": [
        "ANSWER 25 -:\n",
        "\n",
        "The List is one of the many datatypes of python. Lists are mutable and can be altered at any point of time. The elements of the lists are represented in \" [ ] \" square brakcets.\n",
        "\n",
        "The list can be reversed using many ways, but the sure-short way is using the \"Reverse\" list method."
      ]
    },
    {
      "cell_type": "code",
      "execution_count": 235,
      "metadata": {
        "colab": {
          "base_uri": "https://localhost:8080/"
        },
        "id": "sIcDzJ-hq7Bn",
        "outputId": "791b321c-3759-4a57-ddf7-68666f83ee89"
      },
      "outputs": [
        {
          "output_type": "stream",
          "name": "stdout",
          "text": [
            "[True, 5.4, 'Hey', 23]\n"
          ]
        },
        {
          "output_type": "execute_result",
          "data": {
            "text/plain": [
              "[23, 'Hey', 5.4, True]"
            ]
          },
          "metadata": {},
          "execution_count": 235
        }
      ],
      "source": [
        "#ANSWER 25 -:\n",
        "\n",
        "given_list = [23, \"Hey\", 5.4, True]\n",
        "\n",
        "#1st Option\n",
        "given_list.reverse()        #using list method\n",
        "print(given_list)\n",
        "\n",
        "#2nd Option\n",
        "given_list[::-1]            #using reverse slicing"
      ]
    },
    {
      "cell_type": "markdown",
      "metadata": {
        "id": "Bvb_ty6jkHSg"
      },
      "source": [
        "26) How will you remove last object from a list?"
      ]
    },
    {
      "cell_type": "code",
      "execution_count": 236,
      "metadata": {
        "colab": {
          "base_uri": "https://localhost:8080/"
        },
        "id": "1z9u-qKeq7cb",
        "outputId": "550c139a-bbd9-4634-9a32-b91ab763f502"
      },
      "outputs": [
        {
          "output_type": "stream",
          "name": "stdout",
          "text": [
            "[1, 22, 333, 4444]\n",
            "[6, 77, 888, 9999]\n",
            "[2222, 333, 44]\n"
          ]
        }
      ],
      "source": [
        "#ANSWER 26 -:\n",
        "\n",
        "#OPTION 1 :\n",
        "list = [1, 22, 333, 4444, 55555]\n",
        "\n",
        "list.pop()       #by default removes the last object\n",
        "\n",
        "print(list)\n",
        "\n",
        "#OPTION2 :\n",
        "list1 = [6, 77, 888, 9999, 11111]\n",
        "\n",
        "list1.pop(-1)     #by mentioning specific position\n",
        "\n",
        "print(list1)\n",
        "\n",
        "#OPTION 3 :\n",
        "list2 = [2222, 333, 44, 5]\n",
        "del list2[-1]    #using DEL mehod\n",
        "print(list2)"
      ]
    },
    {
      "cell_type": "markdown",
      "metadata": {
        "id": "osc0G1UMkKRO"
      },
      "source": [
        "27) Suppose list1 is [2, 33, 222, 14, and 25], what is list1 [1]?"
      ]
    },
    {
      "cell_type": "markdown",
      "metadata": {
        "id": "UDnqOTzxmPYu"
      },
      "source": [
        "The Value will be 25."
      ]
    },
    {
      "cell_type": "code",
      "execution_count": 237,
      "metadata": {
        "colab": {
          "base_uri": "https://localhost:8080/"
        },
        "id": "sivoEGeUq77V",
        "outputId": "52c71dff-785e-406c-aa9a-35bf667c9996"
      },
      "outputs": [
        {
          "output_type": "execute_result",
          "data": {
            "text/plain": [
              "25"
            ]
          },
          "metadata": {},
          "execution_count": 237
        }
      ],
      "source": [
        "#ANSWER 27 -:\n",
        "\n",
        "list1=[2, 33, 222, 14, 25]\n",
        "list1[-1]"
      ]
    },
    {
      "cell_type": "markdown",
      "metadata": {
        "id": "GOkmVdVOkNV1"
      },
      "source": [
        "28) Differentiate between append () and extend () methods?  "
      ]
    },
    {
      "cell_type": "markdown",
      "metadata": {
        "id": "DH_asQe5gBJw"
      },
      "source": [
        "ANSWER 28 -:\n",
        "\n",
        "'APPEND' only allows to add one item at a time in the list while 'EXTEND' allows to add muliple items or even a whole list to an exising list."
      ]
    },
    {
      "cell_type": "code",
      "execution_count": 238,
      "metadata": {
        "colab": {
          "base_uri": "https://localhost:8080/"
        },
        "id": "BD6qKt8HgT9N",
        "outputId": "4b4df22e-8a49-4d56-fbd8-6e51bf83143b"
      },
      "outputs": [
        {
          "output_type": "stream",
          "name": "stdout",
          "text": [
            "[12, 34, 56, 89, 11, 39]\n",
            "['Joey', 'Does', 'Not', 'Share', 'Food']\n"
          ]
        }
      ],
      "source": [
        "#ANWER 28 -:\n",
        "\n",
        "app = [12,34,56,89,11]\n",
        "app.append(39)              #APPEND\n",
        "print(app)\n",
        "\n",
        "ext = [\"Joey\",\"Does\", \"Not\"]    #EXTEND\n",
        "ext.extend([\"Share\",\"Food\"])\n",
        "print(ext)"
      ]
    },
    {
      "cell_type": "markdown",
      "metadata": {
        "id": "v8Y-9mIxkPkX"
      },
      "source": [
        "29) Write a Python function to get the largest number, smallest num and sum of all from a list.   "
      ]
    },
    {
      "cell_type": "code",
      "execution_count": 1,
      "metadata": {
        "colab": {
          "base_uri": "https://localhost:8080/"
        },
        "id": "FSFRkPPcq8ua",
        "outputId": "a61a3c55-c788-41b1-ff36-06ceee58d0f7"
      },
      "outputs": [
        {
          "output_type": "stream",
          "name": "stdout",
          "text": [
            "The given list has 87 as largest number 5 as the smallest number and 290 as the sum of all items in the list\n",
            "The Largest number in the list is 5\n",
            "The Smallest number in the list is 87\n",
            "The Sum of all items in the list is 290\n"
          ]
        }
      ],
      "source": [
        "#ANSWER 29 -:\n",
        "\n",
        "lst = [23, 87, 5, 64, 39, 72]\n",
        "\n",
        "#OPTION 1 :\n",
        "\n",
        "# OPTION 2 : With one print statement\n",
        "print(\"The given list has\", max(lst), \"as largest number\", min(lst), \"as the smallest number and\", sum(lst), \"as the sum of all items in the list\")\n",
        "\n",
        "\n",
        "# OPTION 3 : USING EXPANDED CODE (SORT and SUM function)\n",
        "lst.sort()\n",
        "\n",
        "a = lst[0]\n",
        "print(\"The Largest number in the list is\", a)\n",
        "\n",
        "b = lst[-1]\n",
        "print(\"The Smallest number in the list is\", b)\n",
        "\n",
        "s = sum(lst)\n",
        "print(\"The Sum of all items in the list is\", s)"
      ]
    },
    {
      "cell_type": "markdown",
      "metadata": {
        "id": "kqxPfmGmkRqW"
      },
      "source": [
        "30) How will you compare two lists?"
      ]
    },
    {
      "cell_type": "markdown",
      "metadata": {
        "id": "D0_pcfcbmYrK"
      },
      "source": [
        "Lists can be compared in various ways but the most common way is using \"==\" operator.\n"
      ]
    },
    {
      "cell_type": "code",
      "execution_count": 2,
      "metadata": {
        "colab": {
          "base_uri": "https://localhost:8080/"
        },
        "id": "llIrBU5Oq9dx",
        "outputId": "17b7bf3f-898f-4af5-9ea2-82122c07b6e9"
      },
      "outputs": [
        {
          "output_type": "stream",
          "name": "stdout",
          "text": [
            "1st List :  [1, 2, 3, 4, 5]\n",
            "2nd List :  [4, 5, 6, 7, 8]\n",
            "Are both the lists same?\n",
            " False\n",
            "The unique values from 1st List are ::  {1, 2, 3}\n",
            "The unique values from 2nd List are ::  {8, 6, 7}\n"
          ]
        }
      ],
      "source": [
        "#ANSWER 30 -:\n",
        "\n",
        "list_a = [1, 3, 4, 2, 5]\n",
        "list_b = [4, 5, 6, 7, 8]\n",
        "\n",
        "list_a.sort()                 #Sorting the list to get a clear picture of numerical elements\n",
        "print(\"1st List : \", list_a)\n",
        "list_b.sort()\n",
        "print(\"2nd List : \", list_b)      #Printing the list\n",
        "\n",
        "# OPTION 1 - Checking by comapring the lists\n",
        "\n",
        "compare = list_a == list_b       #Checking if the lists are same with BOOLEAN output\n",
        "print(\"Are both the lists same?\\n\", compare)\n",
        "\n",
        "# OPTION 2 - Converting to Sets to get only Unique values from list\n",
        "\n",
        "compare1 = set(list_a) - set(list_b)                  #First converts the list to set and extracts the unique values\n",
        "print(\"The unique values from 1st List are :: \",compare1)        #Prints unique values from 1st list\n",
        "compare2 = set(list_b) - set(list_a)                  #and then converts again to list and gives the ouptput\n",
        "print(\"The unique values from 2nd List are :: \",compare2)        #Prints unique values from 2nd list"
      ]
    },
    {
      "cell_type": "markdown",
      "metadata": {
        "id": "6mu5X3ZbkT3Y"
      },
      "source": [
        "31) Write a Python program to count the number of strings where the string  length is 2 or more and the first and last character are same from a given list of strings.  "
      ]
    },
    {
      "cell_type": "code",
      "execution_count": 3,
      "metadata": {
        "colab": {
          "base_uri": "https://localhost:8080/"
        },
        "id": "ddSIVNO77vMX",
        "outputId": "464f6618-8f63-4a68-e2a6-872483bb1571"
      },
      "outputs": [
        {
          "output_type": "stream",
          "name": "stdout",
          "text": [
            "The total number of strings with all conditions fulfilled is 3\n"
          ]
        }
      ],
      "source": [
        "#ANSWER 31 -:\n",
        "\n",
        "#1st Condition String Length is more than 2\n",
        "#2nd Condition First and last character of string are same\n",
        "#3rd Condition Count the number of strings where 1st and 2nd are fulfilled\n",
        "\n",
        "str_list = [\"gag\", \"help\", \"fate\", \"tat\", \"tit\"]\n",
        "str_count = 0\n",
        "\n",
        "for s in str_list :                #initiating loop to check length of string as well as the first and last character of strings\n",
        "  if len(s) > 2 and s[0] == s[-1] :\n",
        "    str_count += 1\n",
        "print(\"The total number of strings with all conditions fulfilled is\",str_count)"
      ]
    },
    {
      "cell_type": "markdown",
      "metadata": {
        "id": "-jVbO14DkWc2"
      },
      "source": [
        "32) Write a Python program to remove duplicates from a list."
      ]
    },
    {
      "cell_type": "code",
      "execution_count": 4,
      "metadata": {
        "colab": {
          "base_uri": "https://localhost:8080/"
        },
        "id": "gGSTrZ1Fq-W_",
        "outputId": "ea1f5580-29d7-4a2f-9986-8beefbcdff5d"
      },
      "outputs": [
        {
          "output_type": "stream",
          "name": "stdout",
          "text": [
            "Option 1 : The 'Original list' is :\n",
            " ['Kenneth', 'Jordan', 'Jaguar', 'Kennedy', 'Kenneth'] \n",
            "and the list with 'Unique values' is\n",
            " {'Jaguar', 'Jordan', 'Kennedy', 'Kenneth'}\n",
            "\n",
            "Option 2 :The updated list after removal of duplicates using function is\n",
            " ['Kenneth', 'Jordan', 'Jaguar', 'Kennedy']\n"
          ]
        }
      ],
      "source": [
        "#ANSWER 32 -:\n",
        "\n",
        "#OPTION 1 : Using \"SET\"\n",
        "\n",
        "og_list = [\"Kenneth\", \"Jordan\", \"Jaguar\", \"Kennedy\", \"Kenneth\"]     #list containing duplicates\n",
        "\n",
        "dup_list = set(og_list)          #removing duplicates from the list using set() concept used in previous problems\n",
        "\n",
        "print(\"Option 1 : The 'Original list' is :\\n\", og_list, \"\\nand the list with 'Unique values' is\\n\", dup_list)\n",
        "\n",
        "\n",
        "#OPTION 2 : Using \"FUNCTIONS\"\n",
        "\n",
        "duplicate = []\n",
        "\n",
        "def duplicate_fn(og_list):   #Creates a function that stores all the actions perfomred in it\n",
        "\n",
        "  for i in og_list :\n",
        "    if i not in duplicate :\n",
        "      duplicate.append(i)\n",
        "  print(\"\\nOption 2 :The updated list after removal of duplicates using function is\\n\",duplicate)\n",
        "\n",
        "duplicate_fn(og_list)"
      ]
    },
    {
      "cell_type": "markdown",
      "metadata": {
        "id": "Z7SL83wCkaBM"
      },
      "source": [
        "33) Write a Python program to check a list is empty or not.  "
      ]
    },
    {
      "cell_type": "markdown",
      "metadata": {
        "id": "Dgu6y8grhOdm"
      },
      "source": [
        "ANSWER 33 -:\n",
        "\n",
        "\n",
        "To check whether the list has any contents or not -\n",
        "- Call and print the list. If the list has any items, it will be displayed, else an empty list will be displayed as output.\n",
        "- Another way to check the same is using the Case Statements."
      ]
    },
    {
      "cell_type": "code",
      "execution_count": 5,
      "metadata": {
        "colab": {
          "base_uri": "https://localhost:8080/"
        },
        "id": "vMKTVsUchO61",
        "outputId": "9001abb5-19c7-49ba-87cd-8b1b606ff475"
      },
      "outputs": [
        {
          "output_type": "stream",
          "name": "stdout",
          "text": [
            "[12, 34, 56, 78, 90]\n",
            "[]\n",
            "The list contains values\n"
          ]
        }
      ],
      "source": [
        "#ANSWER 33 -:\n",
        "\n",
        "lst = [12,34,56,78,90]    #List with items\n",
        "print(lst)\n",
        "\n",
        "#Option 1 : Calling or Printing the list\n",
        "\n",
        "lst2 = []     #Empty List\n",
        "print(lst2)\n",
        "\n",
        "\n",
        "#Option 2 : Using Case statements on list\n",
        "\n",
        "lst3 = [23,45,87]\n",
        "\n",
        "if len(lst3) > 0 :                  #using case statement to check the list\n",
        "  print(\"The list contains values\")\n",
        "else :\n",
        "  print(\"The list is empty\")"
      ]
    },
    {
      "cell_type": "markdown",
      "metadata": {
        "id": "s5gf4wUDkcYE"
      },
      "source": [
        "34) Write a Python function that takes two lists and returns true if they have at least one common member.   "
      ]
    },
    {
      "cell_type": "code",
      "execution_count": 6,
      "metadata": {
        "colab": {
          "base_uri": "https://localhost:8080/"
        },
        "id": "i3fTvZZ-q_lz",
        "outputId": "4462cc87-8a8c-40e7-837a-c74ca637916e"
      },
      "outputs": [
        {
          "output_type": "stream",
          "name": "stdout",
          "text": [
            "True,\n",
            "The list has at least one common member\n"
          ]
        }
      ],
      "source": [
        "#ANSWER 34 -:\n",
        "\n",
        "l1 = [11,22,33,44,55,66]\n",
        "l2 = [77,88,99,00,11]\n",
        "\n",
        "l = set(l1).intersection(set(l2))    #converting the list to sets and checking for any common elements\n",
        "\n",
        "if len(l) > 0 :             #checking length of the created list\n",
        "  print(\"True,\\nThe list has at least one common member\")            #print statement if condition is fulfilled\n",
        "\n",
        "else :\n",
        "  print(\"The list has all unique values\")"
      ]
    },
    {
      "cell_type": "markdown",
      "metadata": {
        "id": "Wdsjdu3LkefY"
      },
      "source": [
        "35) Write a Python program to generate and print a list of first and last 5 elements where the values are square of numbers between 1 and 30"
      ]
    },
    {
      "cell_type": "code",
      "execution_count": 7,
      "metadata": {
        "colab": {
          "base_uri": "https://localhost:8080/"
        },
        "id": "c5w69zCCrAC5",
        "outputId": "27959fd7-bb0b-44a6-b962-fc50d7e80922"
      },
      "outputs": [
        {
          "output_type": "execute_result",
          "data": {
            "text/plain": [
              "[1, 4, 9, 16, 25, 676, 729, 784, 841, 900]"
            ]
          },
          "metadata": {},
          "execution_count": 7
        }
      ],
      "source": [
        "#ANSWER 25 -:\n",
        "\n",
        "og_list = []       #creating empty list\n",
        "\n",
        "for n in range(1,31) :       #calculating squares for specified range\n",
        "  og_list.append(n**2)       #appending values to empty list\n",
        "  og_list\n",
        "\n",
        "new_list = og_list[:5] + og_list[-5:]         #exracting and storing values in new list\n",
        "new_list"
      ]
    },
    {
      "cell_type": "markdown",
      "metadata": {
        "id": "Ypg7HtJ4kg9O"
      },
      "source": [
        "36) Write a Python function that takes a list and returns a new list with unique elements of the first list.   "
      ]
    },
    {
      "cell_type": "code",
      "execution_count": 8,
      "metadata": {
        "colab": {
          "base_uri": "https://localhost:8080/"
        },
        "id": "QuXIvCJKrAhP",
        "outputId": "482d003c-ac93-485f-ef15-488e984f3e58"
      },
      "outputs": [
        {
          "output_type": "stream",
          "name": "stdout",
          "text": [
            "The new list with unique values :  {'Anthony', 'Gonsalves', 'Name', 'Is', 'My'}\n",
            "The list with removed duplicates is :  [11, 22, 33, 44, 55, 66, 77, 88, 99]\n"
          ]
        }
      ],
      "source": [
        "#ANSWER 36 -:\n",
        "\n",
        "#OPTON 1 :\n",
        "\n",
        "lst = [\"My\", \"Name\", \"Is\", \"Is\", \"Anthony\", \"Name\", \"Gonsalves\"]\n",
        "\n",
        "unique = set(lst) #converting the list to set for removing duplicates\n",
        "print(\"The new list with unique values : \",unique)\n",
        "\n",
        "\n",
        "#OPTION 2 :\n",
        "\n",
        "l1 = [11,22,33,44,55,66,77,77,88,99,99,11,22,11]\n",
        "\n",
        "l2 = []\n",
        "\n",
        "for i in l1 :       #initiating loop to check for unique values\n",
        "  if i not in l2 :\n",
        "    l2.append(i)\n",
        "print(\"The list with removed duplicates is : \",l2)"
      ]
    },
    {
      "cell_type": "markdown",
      "metadata": {
        "id": "ybSbhoa7ki9L"
      },
      "source": [
        "37) Write a Python program to convert a list of characters into a string."
      ]
    },
    {
      "cell_type": "code",
      "execution_count": 9,
      "metadata": {
        "colab": {
          "base_uri": "https://localhost:8080/"
        },
        "id": "I2yS6amMrBES",
        "outputId": "9df45fbe-d851-4ec9-9c67-aa52f3ccde92"
      },
      "outputs": [
        {
          "output_type": "stream",
          "name": "stdout",
          "text": [
            "The sring generated from list of characters is Data Analytics\n"
          ]
        }
      ],
      "source": [
        "char = [\"D\",\"a\",\"t\",\"a\",\" \",\"A\",\"n\",\"a\",\"l\",\"y\",\"t\",\"i\",\"c\",'s']\n",
        "char\n",
        "\n",
        "print (\"The sring generated from list of characters is\", \"\".join(char))      #using String method to convert characters to a string"
      ]
    },
    {
      "cell_type": "markdown",
      "metadata": {
        "id": "a0VfaWh3klZt"
      },
      "source": [
        "38) Write a Python program to select an item randomly from a list."
      ]
    },
    {
      "cell_type": "code",
      "execution_count": 10,
      "metadata": {
        "id": "2jVVYETjrB1n",
        "colab": {
          "base_uri": "https://localhost:8080/"
        },
        "outputId": "861698e7-259c-4a22-b2fc-3faa6cca12c4"
      },
      "outputs": [
        {
          "output_type": "execute_result",
          "data": {
            "text/plain": [
              "False"
            ]
          },
          "metadata": {},
          "execution_count": 10
        }
      ],
      "source": [
        "import random\n",
        "\n",
        "r_list = [1, \"hello\", 3.14, True, [1, 2, 3], (4, 5), {\"a\": 1}, None, 9, \"world\", 23, 'life', False, 99]\n",
        "ri = random.choice(r_list)       #Using CHOICE method from RANDOM module\n",
        "ri"
      ]
    },
    {
      "cell_type": "markdown",
      "metadata": {
        "id": "s08gGdo1knWj"
      },
      "source": [
        "39) Write a Python program to find the second smallest number in a list."
      ]
    },
    {
      "cell_type": "code",
      "execution_count": 11,
      "metadata": {
        "colab": {
          "base_uri": "https://localhost:8080/"
        },
        "id": "pVuQLw-RrCj-",
        "outputId": "2e563c40-3825-4407-9ce9-cb75a33950f4"
      },
      "outputs": [
        {
          "output_type": "stream",
          "name": "stdout",
          "text": [
            "The second smallest number in the list is 23\n"
          ]
        }
      ],
      "source": [
        "num = [42, 7, 89, 23, 65]\n",
        "num.sort()                  #sorting the list from smallest to largest\n",
        "num\n",
        "\n",
        "print(\"The second smallest number in the list is\",num[1])      #extracting and printing the second smallest number"
      ]
    },
    {
      "cell_type": "markdown",
      "metadata": {
        "id": "OdYpTS8Skpcr"
      },
      "source": [
        "40) Write a Python program to get unique values from a list"
      ]
    },
    {
      "cell_type": "code",
      "execution_count": 12,
      "metadata": {
        "colab": {
          "base_uri": "https://localhost:8080/"
        },
        "id": "FhDq_R4orDHb",
        "outputId": "60235775-83f5-4d0f-8cdc-d097c0deec19"
      },
      "outputs": [
        {
          "output_type": "stream",
          "name": "stdout",
          "text": [
            "57\n",
            "111\n",
            "56\n",
            "44\n",
            "21\n"
          ]
        }
      ],
      "source": [
        "#ANSWER 40 -:\n",
        "\n",
        "u_list = [12,12,33,57,111,98,98,77,56,77,44,21,33]\n",
        "\n",
        "for n in u_list :\n",
        "  if u_list.count(n) == 1 :     #checking for values with only one occurence\n",
        "    print(n)"
      ]
    },
    {
      "cell_type": "markdown",
      "metadata": {
        "id": "7uRo7zkrkrxB"
      },
      "source": [
        "41) Write a Python program to check whether a list contains a sub list"
      ]
    },
    {
      "cell_type": "code",
      "execution_count": 13,
      "metadata": {
        "colab": {
          "base_uri": "https://localhost:8080/"
        },
        "id": "069qPry1rE6k",
        "outputId": "29134f92-d00b-4590-9710-66a80048c187"
      },
      "outputs": [
        {
          "output_type": "stream",
          "name": "stdout",
          "text": [
            "False\n"
          ]
        }
      ],
      "source": [
        "liist = [\"lie\",\"true\",\"movies\",2,90,123,\"true\"]\n",
        "sub_list = [\"false\"]\n",
        "\n",
        "print(set(sub_list).issubset(set(liist)))    #check if sub list is in the paren list"
      ]
    },
    {
      "cell_type": "markdown",
      "metadata": {
        "id": "hLQwuaYdktjL"
      },
      "source": [
        "42) Write a Python program to split a list into different variables."
      ]
    },
    {
      "cell_type": "code",
      "execution_count": 14,
      "metadata": {
        "colab": {
          "base_uri": "https://localhost:8080/"
        },
        "id": "ZqMo2tnCrFge",
        "outputId": "27a296a9-0b97-4a4b-f699-693bf000b946"
      },
      "outputs": [
        {
          "output_type": "stream",
          "name": "stdout",
          "text": [
            "[1, 2, 3]\n",
            "[4, 5]\n",
            "The first variable is [1, 2, 3] and the second variable is [4, 5]\n"
          ]
        }
      ],
      "source": [
        "#ANSWER 42 -:\n",
        "\n",
        "lst_v = [1, 2, 3, 4, 5]\n",
        "\n",
        "v1 = lst_v[0:3]       #splitting by giving ratio of index\n",
        "print(v1)\n",
        "\n",
        "v2 = lst_v[3:5]\n",
        "print(v2)\n",
        "\n",
        "print(\"The first variable is\", v1, \"and the second variable is\", v2)"
      ]
    },
    {
      "cell_type": "markdown",
      "metadata": {
        "id": "dNBWINGDkvZA"
      },
      "source": [
        "43) What is tuple? Difference between list and tuple."
      ]
    },
    {
      "cell_type": "markdown",
      "metadata": {
        "id": "SkLsSmVlzZbB"
      },
      "source": [
        "Answer :\n",
        "* \"TUPLE\" is one of the type of datatypes used in python. They are immutable(cannot be changes once created). Tuples are store elements in \" () \" or round brackets.\n",
        "\n",
        "- The main difference between a TUPLE and a LIST is that, tuple are immutable while the lists are mutable and can be updates after creation. Another difference is that, list store elements in [] and tuples store in ().\n"
      ]
    },
    {
      "cell_type": "code",
      "execution_count": 15,
      "metadata": {
        "id": "NW_6wggorGPF"
      },
      "outputs": [],
      "source": [
        "t = (23,12,45,54,67,76)   #TUPLE\n",
        "\n",
        "l = [90,10,87,78,21,12]   #LIST"
      ]
    },
    {
      "cell_type": "markdown",
      "metadata": {
        "id": "EaE4uNCbk1kv"
      },
      "source": [
        "44) Write a Python program to create a tuple with different data types.  "
      ]
    },
    {
      "cell_type": "code",
      "execution_count": 16,
      "metadata": {
        "colab": {
          "base_uri": "https://localhost:8080/"
        },
        "id": "UW_RQ3KOrGsZ",
        "outputId": "24f9002d-2970-4834-cf31-b38eb681c4a0"
      },
      "outputs": [
        {
          "output_type": "stream",
          "name": "stdout",
          "text": [
            "The tuple is :  (98, 'World', False, 9.5)\n",
            "The datatype of the item in tuple is : \n",
            "98 <class 'int'>\n",
            "The datatype of the item in tuple is : \n",
            "World <class 'str'>\n",
            "The datatype of the item in tuple is : \n",
            "False <class 'bool'>\n",
            "The datatype of the item in tuple is : \n",
            "9.5 <class 'float'>\n"
          ]
        }
      ],
      "source": [
        "tup1 = (98,\"World\",False,9.5)\n",
        "\n",
        "print(\"The tuple is : \", tup1)\n",
        "\n",
        "for t in tup1 :        #looping through the tuple and classifying it's dataypes\n",
        "  print(\"The datatype of the item in tuple is : \")\n",
        "  print(t, type(t))"
      ]
    },
    {
      "cell_type": "markdown",
      "metadata": {
        "id": "gl7VYES4k35W"
      },
      "source": [
        "\n",
        "45) Write a Python program to unzip a list of tuples into individual lists."
      ]
    },
    {
      "cell_type": "code",
      "execution_count": 17,
      "metadata": {
        "colab": {
          "base_uri": "https://localhost:8080/",
          "height": 127
        },
        "id": "ZL97fwAVrHHp",
        "outputId": "a9ca1f90-0f27-4678-e162-df075819a4dc"
      },
      "outputs": [
        {
          "output_type": "stream",
          "name": "stdout",
          "text": [
            "[0, 0]\n",
            "[1, 2]\n",
            "[2, 4]\n",
            "[3, 6]\n",
            "[4, 8]\n"
          ]
        },
        {
          "output_type": "execute_result",
          "data": {
            "text/plain": [
              "\"If the code is not running, restart the session from 'RUNTIME tab' and try again.\""
            ],
            "application/vnd.google.colaboratory.intrinsic+json": {
              "type": "string"
            }
          },
          "metadata": {},
          "execution_count": 17
        }
      ],
      "source": [
        "#ANSWER 45 -:\n",
        "\n",
        "tl = [(0, 0), (1, 2), (2, 4), (3, 6), (4, 8)]\n",
        "\n",
        "for item in tl :\n",
        "  print(list(item))       #seperating the tuple lists into individual lists\n",
        "\n",
        "\n",
        "\"\"\"If the code is not running, restart the session from 'RUNTIME tab' and try again.\"\"\""
      ]
    },
    {
      "cell_type": "markdown",
      "metadata": {
        "id": "R9xL8Si6k56E"
      },
      "source": [
        "\n",
        "46) Write a Python program to convert a list of tuples into a dictionary.   "
      ]
    },
    {
      "cell_type": "code",
      "execution_count": 18,
      "metadata": {
        "colab": {
          "base_uri": "https://localhost:8080/"
        },
        "id": "hjYoPYJurIAC",
        "outputId": "cdd3ac28-d4f1-4f05-965b-370642aab28e"
      },
      "outputs": [
        {
          "output_type": "stream",
          "name": "stdout",
          "text": [
            "The created dictionary has\n",
            " dict_items([(12, 24), ('Helen', 'Geller'), ('Jhon', 89)]) items\n",
            " dict_keys([12, 'Helen', 'Jhon']) keys\n",
            " dict_values([24, 'Geller', 89]) values.\n"
          ]
        }
      ],
      "source": [
        "#ANSWER 46 -:\n",
        "\n",
        "list_tuples = [(12,24),(\"Helen\",\"Geller\"),(\"Jhon\", 89)]\n",
        "list_tuples\n",
        "\n",
        "tup_dict = dict(list_tuples)\n",
        "tup_dict\n",
        "\n",
        "print(\"The created dictionary has\\n\" , tup_dict.items(),\"items\\n\", tup_dict.keys(), \"keys\\n\", tup_dict.values(), \"values.\")"
      ]
    },
    {
      "cell_type": "markdown",
      "metadata": {
        "id": "HRQi6JZ2k8Os"
      },
      "source": [
        "47) How will you create a dictionary using tuples in python?  "
      ]
    },
    {
      "cell_type": "code",
      "execution_count": 19,
      "metadata": {
        "colab": {
          "base_uri": "https://localhost:8080/"
        },
        "id": "Vd8g5uq5rIfe",
        "outputId": "e805a7b3-2964-4ba9-efde-0be74e090bed"
      },
      "outputs": [
        {
          "output_type": "stream",
          "name": "stdout",
          "text": [
            "The newly created dictioary has\n",
            " dict_keys(['A', 'B', 'C', 'D']) keys\n",
            " and\n",
            " dict_values([12, 23, 39, 48]) values in it.\n"
          ]
        }
      ],
      "source": [
        "#ANSWER 47 -:\n",
        "\n",
        "t = ('A',12),('B',23),('C',39),('D',48)      #creating a tuples\n",
        "t\n",
        "\n",
        "d = dict(t)     #typecasting the tuple to dictionary with pairs of key & values\n",
        "d\n",
        "\n",
        "print(\"The newly created dictioary has\\n\", d.keys(),\"keys\\n and\\n\", d.values(),\"values in it.\")"
      ]
    },
    {
      "cell_type": "markdown",
      "metadata": {
        "id": "a3qxdMjQk-Zm"
      },
      "source": [
        "48) Write a Python script to sort (ascending and descending) a dictionary by value.   "
      ]
    },
    {
      "cell_type": "code",
      "execution_count": 20,
      "metadata": {
        "colab": {
          "base_uri": "https://localhost:8080/"
        },
        "id": "eIj0tfZmrI8_",
        "outputId": "2c958be3-29db-411e-83e0-db5485b92c47"
      },
      "outputs": [
        {
          "output_type": "stream",
          "name": "stdout",
          "text": [
            "OPTION 1 ::\n",
            "The dictionary sorted in ascending order by values is [54, 76, 89, 95] \n",
            " WHILE \n",
            " The dictionary sorted in descending order by values is [90, 59, 48, 39] \n",
            "\n",
            "OPTION2 ::\n",
            "The values of dictionary sorted in ascending order are [54, 76, 89, 95] \n",
            " WHILE \n",
            " The values of dictionary sorted in ascending order are [90, 59, 48, 39]\n"
          ]
        }
      ],
      "source": [
        "#ANSWER 48 -:\n",
        "\n",
        "A = {\"Jenny\": 76, \"Joe\" : 89, \"Blair\" : 95, \"Helen\" : 54}\n",
        "B = {\"George\": 59, \"Brian\" : 90, \"Joey\" : 39, \"Henry\" : 48 }\n",
        "\n",
        "##OPTION 1 ::\n",
        "print(\"OPTION 1 ::\")\n",
        "\n",
        "#Sorting in Ascending order\n",
        "asc = sorted(A.values())\n",
        "\n",
        "#Sorting in Descending Order\n",
        "dsc = sorted(B.values(), reverse = True)\n",
        "\n",
        "print(\"The dictionary sorted in ascending order by values is\", asc, \"\\n WHILE \\n\", \"The dictionary sorted in descending order by values is\", dsc, \"\\n\")\n",
        "\n",
        "\n",
        "##OPTION 2 ::\n",
        "print(\"OPTION2 ::\")\n",
        "\n",
        "#ASCENDING ORDER\n",
        "lst_asc = list(A.values())\n",
        "lst_asc.sort()\n",
        "\n",
        "#DESCENDING ORDER\n",
        "lst_dsc = list(B.values())\n",
        "lst_dsc.sort(reverse=True)\n",
        "\n",
        "print(\"The values of dictionary sorted in ascending order are\", lst_asc, \"\\n WHILE \\n\", \"The values of dictionary sorted in ascending order are\", lst_dsc)"
      ]
    },
    {
      "cell_type": "markdown",
      "metadata": {
        "id": "yEzN9kYslAxh"
      },
      "source": [
        "49) Write a Python script to concatenate following dictionaries to create a new one.  "
      ]
    },
    {
      "cell_type": "code",
      "execution_count": 21,
      "metadata": {
        "colab": {
          "base_uri": "https://localhost:8080/"
        },
        "id": "8dJ2bFbnrJbU",
        "outputId": "82c4c673-4ce7-4874-c60f-55ef50c1d3f2"
      },
      "outputs": [
        {
          "output_type": "stream",
          "name": "stdout",
          "text": [
            "The merged dictionary consists of\n",
            " dict_keys(['Hello', 'My', 'Name', 'is', 'Jayani', 'I', 'am', 'a', 'successful', 'person.']) keys,\n",
            " dict_values([1, 2, 3, 4, 5, 6, 7, 8, 9, 10]) values\n",
            " and\n",
            " dict_items([('Hello', 1), ('My', 2), ('Name', 3), ('is', 4), ('Jayani', 5), ('I', 6), ('am', 7), ('a', 8), ('successful', 9), ('person.', 10)])\n"
          ]
        }
      ],
      "source": [
        "#ANSWER 49 -:\n",
        "\n",
        "dict1 = {\"Hello\":1,\"My\":2,\"Name\":3,\"is\":4,\"Jayani\":5}\n",
        "dict2 = {\"I\":6,\"am\":7, \"a\":8, \"successful\":9, \"person.\":10}\n",
        "\n",
        "dict1.update(dict2)\n",
        "dict1\n",
        "\n",
        "print(\"The merged dictionary consists of\\n\", dict1.keys(), \"keys,\\n\", dict1.values(), \"values\\n\", \"and\\n\", dict1.items())"
      ]
    },
    {
      "cell_type": "markdown",
      "metadata": {
        "id": "RlQcU9LxlC81"
      },
      "source": [
        "50) Write a Python script to check if a given key already exists in a dictionary.   "
      ]
    },
    {
      "cell_type": "code",
      "execution_count": 25,
      "metadata": {
        "colab": {
          "base_uri": "https://localhost:8080/"
        },
        "id": "UciAT_rFrKE9",
        "outputId": "9f5d6aba-0f13-4a7d-a4b4-e67ce75ad526"
      },
      "outputs": [
        {
          "output_type": "stream",
          "name": "stdout",
          "text": [
            "The value of the key is None\n",
            "The key doesn't exists in the dictionary\n"
          ]
        }
      ],
      "source": [
        "#ANSWER 50 -:\n",
        "\n",
        "word = {\"Doll\": 23.50, \"Car\" : 13, \"Animals\" : 30.70, \"Snakes\" : 7.90}        #Creating a dictionary\n",
        "\n",
        "## OPTION 1 ::\n",
        "\n",
        "key = word.get(\"Movie\")        #Checking for exixtence of the key in a dictionary\n",
        "\n",
        "print(\"The value of the key is\", key)      #will print NONE if the key is not in the dictionary\n",
        "\n",
        "\"\"\"If the key is present in the dictionary, the assigned values will be displayed as the output, else 'NONE' would appear as the result\"\"\"\n",
        "\n",
        "## OPTION 2 ::\n",
        "\n",
        "key1 = \"Lion\"     #enter a key to check if it exists\n",
        "\n",
        "if key1 in word.keys() :           #checking if the key is in dictionary using dictionary method\n",
        "  print(\"The key is present in the dictionary\")\n",
        "else :\n",
        "  print(\"The key doesn't exists in the dictionary\")"
      ]
    },
    {
      "cell_type": "markdown",
      "metadata": {
        "id": "gE_irBN5lE5a"
      },
      "source": [
        "51) How Do You Traverse Through a Dictionary Object in Python?  "
      ]
    },
    {
      "cell_type": "markdown",
      "metadata": {
        "id": "JQEKjKZL8b6i"
      },
      "source": [
        "ANSWER 51 -:\n",
        "\n",
        "- The ditionary can be traversed in three ways. Traversing through keys, values and items.\n",
        "- This can be using loop, to iterate through each object in the dictionary or using dictionary methods"
      ]
    },
    {
      "cell_type": "code",
      "execution_count": 26,
      "metadata": {
        "colab": {
          "base_uri": "https://localhost:8080/"
        },
        "id": "b0CvKpPhrLNw",
        "outputId": "36a8dc29-e504-4dd9-9924-f9d2aaa210e2"
      },
      "outputs": [
        {
          "output_type": "stream",
          "name": "stdout",
          "text": [
            "name\n",
            "age\n",
            "city\n",
            "occupation\n",
            "student\n",
            "favorite_color\n",
            "Alice\n",
            "30\n",
            "New York\n",
            "Engineer\n",
            "False\n",
            "Blue\n",
            "('name', 'Alice')\n",
            "('age', 30)\n",
            "('city', 'New York')\n",
            "('occupation', 'Engineer')\n",
            "('student', False)\n",
            "('favorite_color', 'Blue')\n",
            "dict_keys(['name', 'age', 'city', 'occupation', 'student', 'favorite_color'])\n",
            "dict_values(['Alice', 30, 'New York', 'Engineer', False, 'Blue'])\n",
            "dict_items([('name', 'Alice'), ('age', 30), ('city', 'New York'), ('occupation', 'Engineer'), ('student', False), ('favorite_color', 'Blue')])\n"
          ]
        }
      ],
      "source": [
        "#ANSWER 51 -:\n",
        "\n",
        "d1 = {\"name\": \"Alice\", \"age\": 30, \"city\": \"New York\", \"occupation\": \"Engineer\", \"student\": False, \"favorite_color\": \"Blue\"}\n",
        "\n",
        "##OPTION 1 : Using LOOPS\n",
        "\n",
        "#KEYS\n",
        "for k in d1 :\n",
        "  print(k)\n",
        "\n",
        "\n",
        "#VALUES\n",
        "for v in d1.values() :\n",
        "  print(v)\n",
        "\n",
        "\n",
        "#ITEMS\n",
        "for i in d1.items() :\n",
        "  print(i)\n",
        "\n",
        "\n",
        "##OPTION 2 : Using Dictionary methods\n",
        "\n",
        "#Keys :\n",
        "print(d1.keys())\n",
        "\n",
        "#Values :\n",
        "print(d1.values())\n",
        "\n",
        "#Items :\n",
        "print(d1.items())"
      ]
    },
    {
      "cell_type": "markdown",
      "metadata": {
        "id": "afgzEOINlGml"
      },
      "source": [
        "52) How Do You Check the Presence of a Key in A Dictionary?   "
      ]
    },
    {
      "cell_type": "code",
      "execution_count": 28,
      "metadata": {
        "colab": {
          "base_uri": "https://localhost:8080/",
          "height": 73
        },
        "id": "dMW0oBIwrLtf",
        "outputId": "7401b578-9474-4603-8190-f1b707d521ba"
      },
      "outputs": [
        {
          "output_type": "stream",
          "name": "stdout",
          "text": [
            "dict_keys([])\n",
            "dict_keys(['A', 'B', 'C', 'D', 'E'])\n"
          ]
        },
        {
          "output_type": "execute_result",
          "data": {
            "text/plain": [
              "'This will diplay all the keys present in the dictionary, and if none then empty dictionary will be displayed as output '"
            ],
            "application/vnd.google.colaboratory.intrinsic+json": {
              "type": "string"
            }
          },
          "metadata": {},
          "execution_count": 28
        }
      ],
      "source": [
        "#ANSWER 52 -:\n",
        "\n",
        "d1 = {}     #empty dictionary\n",
        "d2 = {\"A\" : 12, \"B\" : 24, \"C\" : 36, \"D\" : 48, \"E\" : 60}    #dictionary with items\n",
        "\n",
        "#To check if the dictionary has any keys is -:\n",
        "dict_1 = print(d1.keys())    #using dictionary methods\n",
        "dict_2 = print(d2.keys())\n",
        "\n",
        "\"\"\"This will diplay all the keys present in the dictionary, and if none then empty dictionary will be displayed as output \"\"\""
      ]
    },
    {
      "cell_type": "markdown",
      "metadata": {
        "id": "XgIz_wG3lIgY"
      },
      "source": [
        "53) Write a Python script to print a dictionary where the keys are numbers between 1 and 15.  "
      ]
    },
    {
      "cell_type": "code",
      "execution_count": 29,
      "metadata": {
        "colab": {
          "base_uri": "https://localhost:8080/"
        },
        "id": "Bi4Tdc76rMnA",
        "outputId": "4d324c69-5e82-4e55-fa13-62e9c21b9dbf"
      },
      "outputs": [
        {
          "output_type": "stream",
          "name": "stdout",
          "text": [
            "{1: 1, 2: 2, 3: 3, 4: 4, 5: 5, 6: 6, 7: 7, 8: 8, 9: 9, 10: 10, 11: 11, 12: 12, 13: 13, 14: 14, 15: 15}\n"
          ]
        }
      ],
      "source": [
        "#ANSWER 53 -:\n",
        "\n",
        "d = {}\n",
        "\n",
        "for i in range(1,16) :\n",
        "  d[i] = i\n",
        "\n",
        "print(d)"
      ]
    },
    {
      "cell_type": "markdown",
      "metadata": {
        "id": "eyDqJkUQlKqB"
      },
      "source": [
        "54) Write a Python program to check multiple keys exists in a dictionary  "
      ]
    },
    {
      "cell_type": "code",
      "execution_count": 43,
      "metadata": {
        "colab": {
          "base_uri": "https://localhost:8080/"
        },
        "id": "LPtxYWwNrNI3",
        "outputId": "a8f34872-7bc4-4722-ce09-81c92a9f9834"
      },
      "outputs": [
        {
          "output_type": "stream",
          "name": "stdout",
          "text": [
            "dict_keys(['a', 'b', 'c'])\n",
            "dict_values([1, 2, 3])\n",
            "Not all keys are present in the dictionary\n"
          ]
        }
      ],
      "source": [
        "#ANSWER 54 -:\n",
        "\n",
        "my_dict = {\"a\": 1, \"b\": 2, \"c\": 3}\n",
        "print(my_dict.keys())\n",
        "print(my_dict.values())\n",
        "\n",
        "keys = [\"d\", \"b\", \"f\"]           #list of keys to check in the parent dictionary\n",
        "\n",
        "check_keys = set(keys) & set(my_dict)         #converting dictionary to set and checking using set intersection method\n",
        "\n",
        "if len(check_keys) == len(my_dict) :\n",
        "  print(\"All the keys are in the dicrionary\")\n",
        "else :\n",
        "  print(\"Not all keys are present in the dictionary\")"
      ]
    },
    {
      "cell_type": "markdown",
      "metadata": {
        "id": "7Ty9llPZlMiB"
      },
      "source": [
        "55) Write a Python script to merge two Python dictionaries"
      ]
    },
    {
      "cell_type": "code",
      "execution_count": 44,
      "metadata": {
        "colab": {
          "base_uri": "https://localhost:8080/"
        },
        "id": "SVuGtp5HrNme",
        "outputId": "a576e0b5-f58c-4e02-c9d1-d64acdc62689"
      },
      "outputs": [
        {
          "output_type": "stream",
          "name": "stdout",
          "text": [
            "The output of merged dictionary is : {'Jenny': 76, 'Blair': 69, 'Joe': 89, 'Helen': 54, 'George': 67, 'Brian': 90, 'Joey': 39, 'Henry': 48}\n"
          ]
        }
      ],
      "source": [
        "#ANSWER 55 -:\n",
        "\n",
        "A = {\"Jenny\": 76, \"Blair\" : 69, \"Joe\" : 89, \"Helen\" : 54}\n",
        "B = {\"George\": 67, \"Brian\" : 90, \"Joey\" : 39, \"Henry\" : 48 }\n",
        "\n",
        "A.update({\"George\": 67, \"Brian\" : 90, \"Joey\" : 39, \"Henry\" : 48 })   #adding the items of dic2 to dic1 and merging\n",
        "\n",
        "print(\"The output of merged dictionary is :\", A)"
      ]
    },
    {
      "cell_type": "markdown",
      "metadata": {
        "id": "A9nC1XBClTLO"
      },
      "source": [
        "56) Write a Python program to map two lists into a dictionary Sample output: Counter ({'a': 400, 'b': 400,’d’: 400, 'c': 300})."
      ]
    },
    {
      "cell_type": "code",
      "execution_count": 45,
      "metadata": {
        "colab": {
          "base_uri": "https://localhost:8080/"
        },
        "id": "MkDPNOLErOGK",
        "outputId": "7253d3ba-524b-4b16-8a47-9ba9766a7c00"
      },
      "outputs": [
        {
          "output_type": "execute_result",
          "data": {
            "text/plain": [
              "{'a': 400, 'b': 400, 'd': 400, 'c': 300}"
            ]
          },
          "metadata": {},
          "execution_count": 45
        }
      ],
      "source": [
        "#ANSWER 56 -:\n",
        "\n",
        "l1 = [\"a\",\"b\",\"d\",\"c\"]\n",
        "l2 = [400,400,400,300]\n",
        "\n",
        "d = dict(zip(l1, l2))\n",
        "d"
      ]
    },
    {
      "cell_type": "markdown",
      "metadata": {
        "id": "IWXgi7xAlVXH"
      },
      "source": [
        "57) Write a Python program to find the highest 3 values in a dictionary  "
      ]
    },
    {
      "cell_type": "code",
      "execution_count": 46,
      "metadata": {
        "colab": {
          "base_uri": "https://localhost:8080/"
        },
        "id": "96aKgvxqrPKo",
        "outputId": "340ad912-6b92-4553-9355-ae4734986d44"
      },
      "outputs": [
        {
          "output_type": "stream",
          "name": "stdout",
          "text": [
            "The top 3 values in dictionary [5, 12, 23]\n",
            "The highest 3 values in a dictionary are {76: 'm', 88: 'f', 91: 'x'}\n"
          ]
        }
      ],
      "source": [
        "#ANSWER 57 -:\n",
        "\n",
        "d = {'m': 23, 'f': 88, 'x': 12, 'b': 76, 'o': 47, 'k': 5, 's': 91}\n",
        "\n",
        "#OPTION 1 :\n",
        "sort_v = sorted(d.values())    #sorted the dictionary by values\n",
        "print(\"The top 3 values in dictionary\",sort_v[:3])\n",
        "\n",
        "#OPTION 2 : Using ZIP function\n",
        "top_3 = dict(zip(sort_v[-3:], d.keys()))       #extracting the top 3 values from sorted dictionary and combining with respective keys.\n",
        "print(\"The highest 3 values in a dictionary are\", top_3)"
      ]
    },
    {
      "cell_type": "markdown",
      "metadata": {
        "id": "yd55hJsulXSg"
      },
      "source": [
        "58) Write a Python program to combine values in python list of dictionaries. Sample data: [{'item': 'item1', 'amount': 400}, {'item': 'item2', 'amount': 300}, {'item': 'item1', 'amount': 750}] Expected Output: • Counter ({'item1': 1150, 'item2': 300})  "
      ]
    },
    {
      "cell_type": "code",
      "execution_count": 47,
      "metadata": {
        "colab": {
          "base_uri": "https://localhost:8080/"
        },
        "id": "wAD5CrwIrPxD",
        "outputId": "f6e5f2aa-c52d-44a2-feb6-3c262e3a783c"
      },
      "outputs": [
        {
          "output_type": "stream",
          "name": "stdout",
          "text": [
            "The combined values of the dictionaries is, {'item1': 1150, 'item2': 300}\n"
          ]
        }
      ],
      "source": [
        "#ANSWER 58 -:\n",
        "\n",
        "sample = [{'item': 'item1', 'amount': 400},{'item': 'item2', 'amount': 300},{'item': 'item1', 'amount': 750}]\n",
        "\n",
        "result = {}\n",
        "\n",
        "for s in sample:\n",
        "    item = s['item']\n",
        "    amount = s['amount']\n",
        "\n",
        "    if item in result:\n",
        "        result[item] += amount\n",
        "    else:\n",
        "        result[item] = amount\n",
        "\n",
        "print(\"The combined values of the dictionaries is,\", result)"
      ]
    },
    {
      "cell_type": "markdown",
      "metadata": {
        "id": "wmJGkoZilZjq"
      },
      "source": [
        "59) Write a Python program to create a dictionary from a string. Note: Track the count of the letters from the string.  "
      ]
    },
    {
      "cell_type": "code",
      "execution_count": 48,
      "metadata": {
        "colab": {
          "base_uri": "https://localhost:8080/"
        },
        "id": "Z9kYyPqDrQR1",
        "outputId": "89fbb008-b46c-499f-e9e0-aa1474184961"
      },
      "outputs": [
        {
          "output_type": "stream",
          "name": "stdout",
          "text": [
            "Enter a string here : 23fygf45\n",
            "{'2': 1, '3': 1, 'f': 2, 'y': 1, 'g': 1, '4': 1, '5': 1}\n"
          ]
        }
      ],
      "source": [
        "#ANSWER 59 -:\n",
        "\n",
        "string = input(\"Enter a string here : \")\n",
        "\n",
        "s_dict = {}\n",
        "\n",
        "for s in string :       #initiating loop to iterate through each character of string\n",
        "  if s in s_dict :\n",
        "    s_dict[s] += 1\n",
        "  else :\n",
        "    s_dict[s] = 1\n",
        "\n",
        "print(s_dict)"
      ]
    },
    {
      "cell_type": "markdown",
      "metadata": {
        "id": "7e92TFarlbaI"
      },
      "source": [
        "60) Sample string: 'w3resource' Expected output: • {'3': 1,’s’: 1, 'r': 2, 'u': 1, 'w': 1, 'c': 1, 'e': 2, 'o': 1}   "
      ]
    },
    {
      "cell_type": "code",
      "execution_count": 49,
      "metadata": {
        "colab": {
          "base_uri": "https://localhost:8080/"
        },
        "id": "ahc1tiP-rRF6",
        "outputId": "539b53b5-bc42-4970-edb9-2fb45c9507eb"
      },
      "outputs": [
        {
          "output_type": "stream",
          "name": "stdout",
          "text": [
            "{'w': 1, '3': 1, 'r': 2, 'e': 2, 's': 1, 'o': 1, 'u': 1, 'c': 1}\n"
          ]
        }
      ],
      "source": [
        "#ANSWER 60 -:\n",
        "\n",
        "dict_s = \"w3resource\"\n",
        "\n",
        "dict_o = {}\n",
        "\n",
        "for o in dict_s :       #initiating loop to iterate through each character of string\n",
        "  if o in dict_o :\n",
        "    dict_o[o] += 1\n",
        "  else :\n",
        "    dict_o[o] = 1\n",
        "\n",
        "print(dict_o)"
      ]
    },
    {
      "cell_type": "markdown",
      "metadata": {
        "id": "QboAMCn0ld3v"
      },
      "source": [
        "61) Write a Python function to calculate the factorial of a number (a nonnegative integer)  "
      ]
    },
    {
      "cell_type": "code",
      "execution_count": 50,
      "metadata": {
        "colab": {
          "base_uri": "https://localhost:8080/"
        },
        "id": "isvOEabgnCnx",
        "outputId": "0dc7bb9e-981e-4e74-c187-e2e8e0bc25b5"
      },
      "outputs": [
        {
          "output_type": "stream",
          "name": "stdout",
          "text": [
            "Enter a number here : 12\n",
            "The factorial of number is  479001600\n",
            "Enter a number : 3456\n",
            "The factorial of the input is -  inf\n"
          ]
        }
      ],
      "source": [
        "#ANSWER 61 -:\n",
        "\n",
        "#OPTION 1 :\n",
        "j = int(input(\"Enter a number here : \"))\n",
        "i = j\n",
        "factorial = 1\n",
        "\n",
        "if i > 0 :\n",
        "\n",
        "  while i > 1 :\n",
        "    factorial *= i\n",
        "    i -= 1\n",
        "  print(\"The factorial of number is \", factorial)\n",
        "\n",
        "else :\n",
        "  print(\"Invalid Input\")\n",
        "\n",
        "#OPTION 2 :      Using SciPy library\n",
        "import scipy as sp\n",
        "\n",
        "f = int(input(\"Enter a number : \"))\n",
        "print(\"The factorial of the input is - \", sp.special.factorial(f))"
      ]
    },
    {
      "cell_type": "markdown",
      "metadata": {
        "id": "hQWwkiVwlfpr"
      },
      "source": [
        "62) Write a Python function to check whether a number is in a given range  "
      ]
    },
    {
      "cell_type": "code",
      "execution_count": 53,
      "metadata": {
        "colab": {
          "base_uri": "https://localhost:8080/"
        },
        "id": "geDVzERLNq5Z",
        "outputId": "a0bb0fc5-2ff8-4305-ab6e-a12eac393c9f"
      },
      "outputs": [
        {
          "output_type": "stream",
          "name": "stdout",
          "text": [
            "Enter a number : 123\n",
            "The input is out of range\n",
            "Enter a staring number : 1112345\n",
            "Enter a ending number : 23456\n",
            "Enter any number :123\n",
            "The input is out of range\n"
          ]
        }
      ],
      "source": [
        "#ANSWER 62 -:\n",
        "\n",
        "#OPTION 1 : Pre-defined Range\n",
        "num = int(input(\"Enter a number : \"))      #user input\n",
        "\n",
        "if num in range(30,95) :             #assigning a range and checking for the input in the range\n",
        "\n",
        "  print(\"The number lies in the range\")\n",
        "\n",
        "else :\n",
        "  print(\"The input is out of range\")\n",
        "\n",
        "\n",
        "#OPTION 2 : With user-defined Range\n",
        "s_num = int(input(\"Enter a staring number : \"))\n",
        "e_num = int(input(\"Enter a ending number : \"))\n",
        "\n",
        "u_num = int(input(\"Enter any number :\"))\n",
        "\n",
        "if u_num in range(s_num,e_num + 1) :          #Checking if user-number lies in the user_input range\n",
        "  print(\"The number lies in the range\")\n",
        "\n",
        "else :\n",
        "  print(\"The input is out of range\")"
      ]
    },
    {
      "cell_type": "markdown",
      "metadata": {
        "id": "NZGEv7ZjlhsC"
      },
      "source": [
        "63) Write a Python function to check whether a number is perfect or not.  "
      ]
    },
    {
      "cell_type": "code",
      "execution_count": 54,
      "metadata": {
        "colab": {
          "base_uri": "https://localhost:8080/"
        },
        "id": "R2OLPiW1Nrbv",
        "outputId": "eb477c5a-5cf2-4520-d5b0-20bf3b79a1d2"
      },
      "outputs": [
        {
          "output_type": "stream",
          "name": "stdout",
          "text": [
            "Enter any number : 1234\n",
            "Imperfect number\n"
          ]
        }
      ],
      "source": [
        "#ANSWER 63 -:\n",
        "\n",
        "p_num = input(\"Enter any number : \")\n",
        "\n",
        "sum = 0\n",
        "\n",
        "for n in range(1, int(p_num)) :        #iterating number through loop\n",
        "  if int(p_num) % n == 0 :          #checking for divisors and no remainder\n",
        "    sum += n\n",
        "\n",
        "if sum == int(p_num) :\n",
        "  print(\"Perfect number\")\n",
        "\n",
        "else :\n",
        "  print(\"Imperfect number\")\n"
      ]
    },
    {
      "cell_type": "markdown",
      "metadata": {
        "id": "MEDXocaQlkev"
      },
      "source": [
        "64) Write a Python function that checks whether a passed string is palindrome or not"
      ]
    },
    {
      "cell_type": "code",
      "execution_count": 56,
      "metadata": {
        "colab": {
          "base_uri": "https://localhost:8080/"
        },
        "id": "qbJ1cdptNr7P",
        "outputId": "fee97496-d15a-41cc-f9ff-07da80a8ca79"
      },
      "outputs": [
        {
          "output_type": "stream",
          "name": "stdout",
          "text": [
            "Enter your string here :tit\n",
            "The string is a palindorme\n"
          ]
        }
      ],
      "source": [
        "#ANSWER 64 -:\n",
        "\n",
        "string = input(\"Enter your string here :\")      #user input\n",
        "palindrome = string[:: -1]       #assigning variable\n",
        "\n",
        "if string == palindrome :            #checking for the palindorme in the string\n",
        "  print (\"The string is a palindorme\")\n",
        "\n",
        "else :\n",
        "  print (\"The input is not a palindorme\")"
      ]
    },
    {
      "cell_type": "markdown",
      "metadata": {
        "id": "BAT7OsrulmAW"
      },
      "source": [
        "65) How Many Basic Types of Functions Are Available in Python?"
      ]
    },
    {
      "cell_type": "markdown",
      "metadata": {
        "id": "g7_YVu3nG9DA"
      },
      "source": [
        "###Answer 65 :\n",
        "- There are mainly two types of functions available in python.\n",
        "- a) Built-In Functions   \n",
        "- b) User-Defined Functions\n",
        "- The built-in function are already stored in python by th developers, and does'nt need to created and can be directly used as required.\n",
        "- The user-defined functions are created by the user as they want the functions to work in their code specifically when called. Basically, they're like the macros in MS-Excel in which the functions are recorded and saved for any future use, but created by user and not default-ones.\n",
        "\n",
        "- The other one is LAMBDA. But this is more of an expression than a function, which is used when one wants to display a multi-line code in only one line and execute it."
      ]
    },
    {
      "cell_type": "markdown",
      "metadata": {
        "id": "F858Sbwmlngm"
      },
      "source": [
        "66) How can you pick a random item from a list or tuple?"
      ]
    },
    {
      "cell_type": "code",
      "execution_count": 60,
      "metadata": {
        "colab": {
          "base_uri": "https://localhost:8080/"
        },
        "id": "p87mM1V7NtVd",
        "outputId": "517664d1-0416-4c17-cc93-4ef94f43c16e"
      },
      "outputs": [
        {
          "output_type": "stream",
          "name": "stdout",
          "text": [
            "The random element from the tuple is [42]\n",
            "The random elements from the list are  [59, 76]\n"
          ]
        }
      ],
      "source": [
        "#ANSWER 66 -:\n",
        "\n",
        "import random               #importing random module\n",
        "\n",
        "tup = (42, 17, 89, 3, 76, 54)        #tuple for reference\n",
        "\n",
        "rt = random.sample(tup,1)\n",
        "print(\"The random element from the tuple is\",rt)\n",
        "\n",
        "lst = [34, 76, 12, 59, 87, 21]         #list for reference\n",
        "\n",
        "rl = random.sample(lst,2)\n",
        "\n",
        "print(\"The random elements from the list are \",rl)"
      ]
    },
    {
      "cell_type": "markdown",
      "metadata": {
        "id": "N5IMYZbclpB6"
      },
      "source": [
        "67) How can you pick a random item from a range?"
      ]
    },
    {
      "cell_type": "code",
      "execution_count": 63,
      "metadata": {
        "colab": {
          "base_uri": "https://localhost:8080/"
        },
        "id": "8Pc8q-S0X5jd",
        "outputId": "48be76cd-88cc-4c2e-8605-cbd2976aba52"
      },
      "outputs": [
        {
          "output_type": "stream",
          "name": "stdout",
          "text": [
            "The random items from the given range are [91, 638]\n",
            "The random item from the given range is 79\n"
          ]
        }
      ],
      "source": [
        "#ANSWER 67 -:\n",
        "\n",
        "import random\n",
        "\n",
        "#OPTION 1 :: Using Random.Sample()\n",
        "\n",
        "r = random.sample(range(23,974),2)\n",
        "print(\"The random items from the given range are\", r)\n",
        "\n",
        "\n",
        "#OPION 2 :: Using Random.randit()\n",
        "\n",
        "r1 = random.randint(37,100)\n",
        "print(\"The random item from the given range is\", r1)"
      ]
    },
    {
      "cell_type": "markdown",
      "metadata": {
        "id": "D0kr4b1LlqrC"
      },
      "source": [
        "68) How can you get a random number in python?"
      ]
    },
    {
      "cell_type": "code",
      "execution_count": 64,
      "metadata": {
        "colab": {
          "base_uri": "https://localhost:8080/"
        },
        "id": "Geo5UVSjNuMr",
        "outputId": "15e0b847-ff7a-47fb-f539-1e1da6902b68"
      },
      "outputs": [
        {
          "output_type": "stream",
          "name": "stdout",
          "text": [
            "The random number is 0.8829717366804933\n"
          ]
        }
      ],
      "source": [
        "#ANSWER 68 -:\n",
        "\n",
        "import random\n",
        "\n",
        "ran = random.random()\n",
        "\n",
        "print(\"The random number is\", ran)"
      ]
    },
    {
      "cell_type": "markdown",
      "metadata": {
        "id": "5Lx3q7qRlsJg"
      },
      "source": [
        "69) How will you set the starting value in generating random numbers?"
      ]
    },
    {
      "cell_type": "markdown",
      "metadata": {
        "id": "NpLlkCy-iM0x"
      },
      "source": [
        "If we want to generate random numbers with a specific start value, then we'll use RANDINT() method from RANDOM module."
      ]
    },
    {
      "cell_type": "code",
      "execution_count": 65,
      "metadata": {
        "colab": {
          "base_uri": "https://localhost:8080/"
        },
        "id": "U1h-pqIANupA",
        "outputId": "946d2e2f-5614-4423-d729-056e72fdd263"
      },
      "outputs": [
        {
          "output_type": "execute_result",
          "data": {
            "text/plain": [
              "59796855410747972879"
            ]
          },
          "metadata": {},
          "execution_count": 65
        }
      ],
      "source": [
        "#ANSWER 69 -:\n",
        "\n",
        "import random\n",
        "\n",
        "r = random.randint(25, 1008)        #setting the start value as well as the range to generate randum numbers\n",
        "r\n",
        "\n",
        "r1 = random.randint(10,100**10)     #giving a range close to inifnity by assigning exponentiation operator\n",
        "r1"
      ]
    },
    {
      "cell_type": "markdown",
      "metadata": {
        "id": "zed7VkFjltoU"
      },
      "source": [
        "70) How will you randomize the items of a list in place?  "
      ]
    },
    {
      "cell_type": "markdown",
      "metadata": {
        "id": "Jml8SyAGrAmU"
      },
      "source": [
        "To randomize the list sequence, SHUFFLE() from RANDOM Module is used."
      ]
    },
    {
      "cell_type": "code",
      "execution_count": 67,
      "metadata": {
        "colab": {
          "base_uri": "https://localhost:8080/"
        },
        "id": "ca8Lo3XYNvIF",
        "outputId": "95ce8d58-8e6a-4370-b817-b7736c5f4a36"
      },
      "outputs": [
        {
          "output_type": "execute_result",
          "data": {
            "text/plain": [
              "[49, 39, 99, 9, 5, 64, 23, 30, 34, 87, 72, 12]"
            ]
          },
          "metadata": {},
          "execution_count": 67
        }
      ],
      "source": [
        "#ANSWER 70\n",
        "\n",
        "l = [5, 9, 12, 23, 30 ,34, 39, 49, 64, 72, 87, 99]\n",
        "\n",
        "random.shuffle(l)        #randomize the original list\n",
        "l"
      ]
    },
    {
      "cell_type": "markdown",
      "metadata": {
        "id": "fF64FZBtlv_w"
      },
      "source": [
        "71) What is File function in python? What are keywords to create and write file."
      ]
    },
    {
      "cell_type": "markdown",
      "metadata": {
        "id": "OH_-of6aaEwz"
      },
      "source": [
        "ANSWER 71 -:\n",
        "\n",
        "- File function are used to handle various types of file formats in python.\n",
        "- There are various methods to manipulate the files in python\n",
        "- The files that are not saved to the specific location and are store in temporary content folder are deleted once the session is closed or restarted.\n",
        "- Always create files when session restarts, if not sotred in the permanent sotrage\n",
        "- File handling and specifically \"CREATE\" and \"WRITE\" is done through keywords :: 'x' & 'w'\n",
        "- \"x\" is used to create a new file if not there, and replaces the if one esixts.\n",
        "- \"w\" allows to insert content into the file."
      ]
    },
    {
      "cell_type": "code",
      "execution_count": 4,
      "metadata": {
        "colab": {
          "base_uri": "https://localhost:8080/"
        },
        "id": "BpGyCexnNv3Z",
        "outputId": "fcdad8bf-b83f-48a2-dd14-8ecdcd0517eb"
      },
      "outputs": [
        {
          "output_type": "stream",
          "name": "stdout",
          "text": [
            "This is the trial file.\n",
            " All the file executions will be done in this file.\n",
            " ~Jayani Joshi\n"
          ]
        }
      ],
      "source": [
        "#ANSWER 71 -:\n",
        "\n",
        "f = open(\"trial.txt\",\"x\") #create a non-existent file OR checks for an existing file and displays error if the file already exists\n",
        "\n",
        "## Since the file is already created by me, this code will display error stating file already exists ##\n",
        "\n",
        "f = open(\"trial.txt\",\"w\")    #writing content into created file or existing file\n",
        "f.write(\"This is the trial file.\\n All the file executions will be done in this file.\\n ~Jayani Joshi\")\n",
        "\n",
        "# Always open the file in the required mode after completing previously applied mode, before execution\n",
        "f = open(\"trial.txt\",\"r\")\n",
        "print(f.read())\n",
        "\n",
        "## In the output of the write funcion, after execution, total number of character written in the code will be displayed. ##"
      ]
    },
    {
      "cell_type": "markdown",
      "metadata": {
        "id": "xvD0Rxtqlx2A"
      },
      "source": [
        "72) Write a Python program to read an entire text file."
      ]
    },
    {
      "cell_type": "code",
      "execution_count": 5,
      "metadata": {
        "colab": {
          "base_uri": "https://localhost:8080/"
        },
        "id": "rhYdqDCMNwRc",
        "outputId": "d682945b-41d4-4bbb-b1eb-9c3d40a3ff1d"
      },
      "outputs": [
        {
          "output_type": "stream",
          "name": "stdout",
          "text": [
            "This is the trial file.\n",
            " All the file executions will be done in this file.\n",
            " ~Jayani Joshi\n"
          ]
        }
      ],
      "source": [
        "f = open(\"trial.txt\", \"r\")       #assigning the keyword to handle the specified file\n",
        "print(f.read())"
      ]
    },
    {
      "cell_type": "markdown",
      "metadata": {
        "id": "ij7uRDOGl0XP"
      },
      "source": [
        "73) Write a Python program to append text to a file and display the text."
      ]
    },
    {
      "cell_type": "code",
      "execution_count": 6,
      "metadata": {
        "colab": {
          "base_uri": "https://localhost:8080/"
        },
        "id": "J330xuNONw7P",
        "outputId": "3c8d1a3b-5b9b-49d4-fbad-aa6545c7985e"
      },
      "outputs": [
        {
          "output_type": "stream",
          "name": "stdout",
          "text": [
            "This is the trial file.\n",
            " All the file executions will be done in this file.\n",
            " ~Jayani Joshi\n",
            " \t Task for Q73 - Appending texts using the append keyword 'a' for 1st Option.\n",
            "This is the trial file.\n",
            " All the file executions will be done in this file.\n",
            " ~Jayani Joshi\n",
            " \t Task for Q73 - Appending texts using the append keyword 'a' for 1st Option.\n",
            "This is done using 'WRITLINES method. Check out the result\n"
          ]
        }
      ],
      "source": [
        "#ANSWER 73 -:\n",
        "\n",
        "#OPTION 1 :: Using \"append\" method\n",
        "\n",
        "f = open(\"trial.txt\", \"a\")\n",
        "f.write(\"\\n \\t Task for Q73 - Appending texts using the append keyword 'a' for 1st Option.\")\n",
        "\n",
        "f = open(\"trial.txt\", \"r\")\n",
        "print(f.read())\n",
        "\n",
        "#OPTION 2 :: Using \"Writelines\" method\n",
        "\n",
        "f = open(\"trial.txt\", \"a\")\n",
        "f.writelines([\"\\nThis is done using 'WRITLINES method. Check out the result\"])\n",
        "\n",
        "f = open(\"trial.txt\", \"r\")\n",
        "print(f.read())"
      ]
    },
    {
      "cell_type": "markdown",
      "metadata": {
        "id": "Ni5JvVp1l12A"
      },
      "source": [
        "74) Write a Python program to read first n lines of a file."
      ]
    },
    {
      "cell_type": "code",
      "execution_count": 7,
      "metadata": {
        "colab": {
          "base_uri": "https://localhost:8080/"
        },
        "id": "abe5RZ6Ve_Vx",
        "outputId": "f2241cf1-6082-4182-dff3-a0b81aa9070b"
      },
      "outputs": [
        {
          "output_type": "stream",
          "name": "stdout",
          "text": [
            "This is the trial file.\n",
            "\n",
            " All the file executions will be done in this file.\n",
            "\n",
            " ~Jayani Joshi\n",
            "\n",
            " \t Task for Q73 - Appending texts using the append keyword 'a' for 1st Option.\n",
            "\n",
            "This is done using 'WRITLINES method. Check out the result\n"
          ]
        }
      ],
      "source": [
        "#ANSWER 74 -:\n",
        "\n",
        "fl = open(\"trial.txt\", \"r\")\n",
        "n = 5\n",
        "\n",
        "for i in range(n):\n",
        "    line = fl.readline()             #file method used to get the contents from file for specific number of lines\n",
        "    print(line)"
      ]
    },
    {
      "cell_type": "markdown",
      "metadata": {
        "id": "7kb7I4O-l4CT"
      },
      "source": [
        "75) Write a Python program to read last n lines of a file."
      ]
    },
    {
      "cell_type": "code",
      "execution_count": 9,
      "metadata": {
        "colab": {
          "base_uri": "https://localhost:8080/"
        },
        "id": "zPae2XfYNx82",
        "outputId": "48ffa71d-937a-4d83-a09a-f43d4e216d8f"
      },
      "outputs": [
        {
          "output_type": "stream",
          "name": "stdout",
          "text": [
            " \t Task for Q73 - Appending texts using the append keyword 'a' for 1st Option.\n",
            "\n",
            "This is done using 'WRITLINES method. Check out the result\n"
          ]
        }
      ],
      "source": [
        "#ANSWER 75 -:\n",
        "\n",
        "fl = open(\"trial.txt\", \"r\")\n",
        "n = 2\n",
        "\n",
        "for i in (fl.readlines() [-n:]):         #using reverse slicing with file method to get the last lines from file\n",
        "    print(i)"
      ]
    },
    {
      "cell_type": "markdown",
      "metadata": {
        "id": "Leafk76Gl53N"
      },
      "source": [
        "76) Write a Python program to read a file line by line and store it into a list"
      ]
    },
    {
      "cell_type": "code",
      "execution_count": 10,
      "metadata": {
        "colab": {
          "base_uri": "https://localhost:8080/"
        },
        "id": "h9dtFK3eNymu",
        "outputId": "869afaae-73cb-4654-de41-742916958336"
      },
      "outputs": [
        {
          "output_type": "stream",
          "name": "stdout",
          "text": [
            "['This is the trial file.\\n', ' All the file executions will be done in this file.\\n', ' ~Jayani Joshi\\n', \" \\t Task for Q73 - Appending texts using the append keyword 'a' for 1st Option.\\n\", \"This is done using 'WRITLINES method. Check out the result\"]\n"
          ]
        }
      ],
      "source": [
        "#ANSWER 76 -:\n",
        "\n",
        "f_list = open(\"trial.txt\", \"r\")\n",
        "lst = []             #creating an empty list\n",
        "\n",
        "for i in f_list:\n",
        "  lst.append(i)            #appending the file content to empty list\n",
        "\n",
        "print(lst)"
      ]
    },
    {
      "cell_type": "markdown",
      "metadata": {
        "id": "GhSFUNjwl87w"
      },
      "source": [
        "77) Write a Python program to read a file line by line store it into a variable."
      ]
    },
    {
      "cell_type": "code",
      "execution_count": 11,
      "metadata": {
        "colab": {
          "base_uri": "https://localhost:8080/"
        },
        "id": "joOAfdoyNzJB",
        "outputId": "35b6ac0b-3abe-4608-cc84-3de570b45453"
      },
      "outputs": [
        {
          "output_type": "stream",
          "name": "stdout",
          "text": [
            "This is the trial file.\n",
            " All the file executions will be done in this file.\n",
            " ~Jayani Joshi\n",
            " \t Task for Q73 - Appending texts using the append keyword 'a' for 1st Option.\n",
            "This is done using 'WRITLINES method. Check out the result\n"
          ]
        }
      ],
      "source": [
        "#ANSWER 77 -:\n",
        "\n",
        "f = open(\"trial.txt\", \"r\")\n",
        "\n",
        "fv = f.read()      #storing the file in a temp variable\n",
        "print(fv)"
      ]
    },
    {
      "cell_type": "markdown",
      "metadata": {
        "id": "N-HwthqbmBrf"
      },
      "source": [
        "78) Write a python program to find the longest words."
      ]
    },
    {
      "cell_type": "code",
      "execution_count": 12,
      "metadata": {
        "colab": {
          "base_uri": "https://localhost:8080/"
        },
        "id": "wtfcbGAIN0KO",
        "outputId": "95e40751-c5a8-41ad-8e04-0c4d2886e606"
      },
      "outputs": [
        {
          "output_type": "stream",
          "name": "stdout",
          "text": [
            "The longest word in the list is meringue\n"
          ]
        }
      ],
      "source": [
        "#ANSWER 78 -:\n",
        "\n",
        "words = [\"alpha\",\"omega\",\"up\",\"down\",\"over\",\"under\",\"purple\",\"red\",\"blue\",\"green\",\"meringue\"]\n",
        "\n",
        "length = len(words)     #extracting length of the items in the list\n",
        "length\n",
        "\n",
        "longest_word = max(words, key=len)    #checking longest word in list using 'len' parameter\n",
        "print(\"The longest word in the list is\", longest_word)"
      ]
    },
    {
      "cell_type": "markdown",
      "metadata": {
        "id": "Ntlu_LxDmGX4"
      },
      "source": [
        "79) Write a Python program to count the number of lines in a text file."
      ]
    },
    {
      "cell_type": "code",
      "execution_count": 13,
      "metadata": {
        "colab": {
          "base_uri": "https://localhost:8080/"
        },
        "id": "3z7hkEkiN0jl",
        "outputId": "beb95a12-06ea-4e39-ef5b-e742a84d14b3"
      },
      "outputs": [
        {
          "output_type": "stream",
          "name": "stdout",
          "text": [
            "The file has total 5 lines\n"
          ]
        }
      ],
      "source": [
        "#ANSWER 79 -:\n",
        "\n",
        "f = open(\"trial.txt\", \"r\")\n",
        "count = 0\n",
        "\n",
        "for i in f :       #initiating loop through the file\n",
        "  count += 1     #count the lines in the file\n",
        "\n",
        "print(\"The file has total\", count, \"lines\")\n",
        "\n",
        "## TO check if our ouput is correct for total lines, execute the code used to display the n lines of the file."
      ]
    },
    {
      "cell_type": "markdown",
      "metadata": {
        "id": "nS68zB6ymIUX"
      },
      "source": [
        "80) Write a Python program to count the frequency of words in a file."
      ]
    },
    {
      "cell_type": "code",
      "execution_count": 14,
      "metadata": {
        "colab": {
          "base_uri": "https://localhost:8080/"
        },
        "id": "sULTxyd8N05w",
        "outputId": "15467e7b-9eca-4f36-95c7-b0081de8de23"
      },
      "outputs": [
        {
          "output_type": "stream",
          "name": "stdout",
          "text": [
            "{'This': 2, 'is': 2, 'the': 4, 'trial': 1, 'file.': 2, 'All': 1, 'file': 1, 'executions': 1, 'will': 1, 'be': 1, 'done': 2, 'in': 1, 'this': 1, '~Jayani': 1, 'Joshi': 1, 'Task': 1, 'for': 2, 'Q73': 1, '-': 1, 'Appending': 1, 'texts': 1, 'using': 2, 'append': 1, 'keyword': 1, \"'a'\": 1, '1st': 1, 'Option.': 1, \"'WRITLINES\": 1, 'method.': 1, 'Check': 1, 'out': 1, 'result': 1}\n"
          ]
        }
      ],
      "source": [
        "#ANSWER 80 -:\n",
        "\n",
        "f = open(\"trial.txt\", \"r\")\n",
        "\n",
        "fd = {}     #creating empty dictionary\n",
        "\n",
        "for word in f :\n",
        "  keys = word.split()      #spliting each line word-by-word\n",
        "\n",
        "  for i in keys :   #staring loop thorugh each word\n",
        "    if i in fd :\n",
        "      fd[i] += 1    #storing each word in empty dictionary\n",
        "    else :\n",
        "      fd[i] = 1\n",
        "\n",
        "print(fd)"
      ]
    },
    {
      "cell_type": "markdown",
      "metadata": {
        "id": "Ivwx2FnVmKFZ"
      },
      "source": [
        "81) Write a Python program to write a list to a file."
      ]
    },
    {
      "cell_type": "code",
      "execution_count": 16,
      "metadata": {
        "colab": {
          "base_uri": "https://localhost:8080/"
        },
        "id": "VMzLfdHyN1oH",
        "outputId": "e26be1f7-7bc2-4bc2-bed5-138957bcb83c"
      },
      "outputs": [
        {
          "output_type": "stream",
          "name": "stdout",
          "text": [
            "File 'trial2.txt' deleted successfully.\n"
          ]
        }
      ],
      "source": [
        "#ANSWER 81 -:\n",
        "\n",
        "lst = [\"Name\", \"file\", \"for\", \"Assignment\", \"questions\"]       #creating list to append in the file\n",
        "\n",
        "f = open(\"trial.txt\", \"a\")    #assigning append keyword\n",
        "f.write(str(lst))            #converting and writing list to file (without conversion to stirng an \"ERROR\" will be displayed)\n",
        "\n",
        "f = open(\"trial.txt\", \"r\")    #reading the file\n",
        "print(f.read())\n",
        "\n",
        "#### DELETING THE FILE FROM THE MOUNT\n",
        "\"\"\"\n",
        "import os\n",
        "\n",
        "file_name = \"trial.txt\"\n",
        "\n",
        "# Delete the file in the current working directory\n",
        "os.remove(file_name)\n",
        "\n",
        "print(f\"File '{file_name}' deleted successfully.\")\n",
        "\"\"\""
      ]
    },
    {
      "cell_type": "markdown",
      "metadata": {
        "id": "9Ok91CNEmNbt"
      },
      "source": [
        "82) Write a Python program to copy the contents of a file to another file."
      ]
    },
    {
      "cell_type": "code",
      "execution_count": 17,
      "metadata": {
        "colab": {
          "base_uri": "https://localhost:8080/"
        },
        "id": "j6c0XHU7N1UC",
        "outputId": "ba77096a-306e-402c-fcff-2273440cffad"
      },
      "outputs": [
        {
          "output_type": "stream",
          "name": "stdout",
          "text": [
            "This is the copy of 'trial.txt named' file.This is the trial file.\n",
            " All the file executions will be done in this file.\n",
            " ~Jayani Joshi\n",
            " \t Task for Q73 - Appending texts using the append keyword 'a' for 1st Option.\n",
            "This is done using 'WRITLINES method. Check out the result['Name', 'file', 'for', 'Assignment', 'questions']\n"
          ]
        }
      ],
      "source": [
        "#ANSWER 82 -:\n",
        "\n",
        "f2 = open(\"trial2.txt\",\"x\")       #crating the new file to inser the content from parent file\n",
        "f2.write(\"This is the copy of 'trial.txt named' file.\")  #writing some content into new file.\n",
        "\n",
        "f = open(\"trial.txt\", \"r\")\n",
        "\n",
        "f2 = open(\"trial2.txt\", \"a\")   #assigning append action\n",
        "\n",
        "for c in f :     #starting the loop to copy content\n",
        "  f2.write(c)\n",
        "\n",
        "f2 = open(\"trial2.txt\", \"r\")\n",
        "print(f2.read())      #reading the newly created file"
      ]
    },
    {
      "cell_type": "markdown",
      "metadata": {
        "id": "B00jVkKwmPLe"
      },
      "source": [
        "83) Explain Exception handling? What is an Error in Python?"
      ]
    },
    {
      "cell_type": "markdown",
      "metadata": {
        "id": "XRn7m98WqJQM"
      },
      "source": [
        "ANSWER 83 -:\n",
        "\n",
        "♦ **ERROR** in python is a warning, that something in the program is incomplete or incorrectyl applied.\n",
        "\n",
        "**Types of Errors in Python**\n",
        "\n",
        "1. Syntax Error : Occurs when expresion is incomplete without n ending\n",
        "Missing colon in function definition\n",
        "if n > 10\n",
        "    print(n)\n",
        "\n",
        "2. Value Error : Occurs when the correct arguement is provided with wron values\n",
        "Trying to convert non-numeric string to integer\n",
        "int(\"apple\")\n",
        "\n",
        "3. Index Error : Raised when the indices are out of index range\n",
        "Accessing out-of-range index\n",
        "my_list = [1, 2, 3]\n",
        "print(my_list[5])\n",
        "\n",
        "4. Type Error : Occurs when operation if perfomed with wrong data type\n",
        "Adding string and integer\n",
        "sum = \"10\" + 5\n",
        "\n",
        "5. Name Error : Displays when the execution doesn't have assigned/defined name\n",
        "Using a variable that hasn't been defined\n",
        "print(score)\n",
        "\n",
        "6. Attribute Error : When a method is called on an object which doesn't have it.\n",
        "Trying to use an undefined method on an object\n",
        "num = 10\n",
        "num.append(5)\n",
        "\n",
        "♦ **EXCEPTION** in the code arises when the code is logically corect but it raises an error while executing. In these scenarios, the program are syntaxically correct.\n",
        "\n",
        "\n",
        "**HANDLING EXCEPTIONS**\n",
        "\n",
        "- Exception in python program are handled using *Try | Except | Else* concepts.\n",
        "- **TRY** predicts and test the possible error that can be encountered during the execution. **EXCEPT** will tackle the error expected to occur during the program. **ELSE** will allow to execute the code further and continue if there are no exceptions or error encountered.\n",
        "\n",
        "  ***PROCESS OF EXCEPTION HANDLING USING TRY-EXCEPT-ELSE***\n",
        "  1. First \"TRY\" clause will be executed in the code.\n",
        "  2. If no error occurs then only TRY run and \"EXCEPT\" won't take any action.\n",
        "  3. By chance if any exception is encountered, then *EXCEPT* statement will be executed.\n",
        "  4. If he error persists, then the *TRY* will be executed, and still not solved then the code will be stopped from proceeding further."
      ]
    },
    {
      "cell_type": "markdown",
      "metadata": {
        "id": "DbimtqC7mQwf"
      },
      "source": [
        "84) How many except statements can a try-except block have? Name Some built-in exception classes:"
      ]
    },
    {
      "cell_type": "markdown",
      "metadata": {
        "id": "mm1egMuuzPn2"
      },
      "source": [
        "ANSWER 84 -:\n",
        "\n",
        "\n",
        "- A try statement can have more than one except clause.\n",
        "\n"
      ]
    },
    {
      "cell_type": "markdown",
      "metadata": {
        "id": "oZVSeWWamS8w"
      },
      "source": [
        "85) When will the else part of try-except-else be executed?"
      ]
    },
    {
      "cell_type": "markdown",
      "metadata": {
        "id": "8M52P4_kxHXf"
      },
      "source": [
        "ANSWER 85 -:\n",
        "\n",
        "***EXECUTION OF ELSE BLOCK***\n",
        "\n",
        "**ELSE** will allow to execute the code further and continue if there are no exceptions or error encountered."
      ]
    },
    {
      "cell_type": "markdown",
      "metadata": {
        "id": "JoXJQ90TmUgv"
      },
      "source": [
        "86) Can one block of except statements handle multiple exception?"
      ]
    },
    {
      "cell_type": "markdown",
      "metadata": {
        "id": "fkREGtiOxqm8"
      },
      "source": [
        "ANSWER 86 -:\n",
        "\n",
        "Yes, The except block can have many condition, to specify handlers for different exceptions. But one handler can only tackle on exception."
      ]
    },
    {
      "cell_type": "markdown",
      "metadata": {
        "id": "84Jm_MwhmWB7"
      },
      "source": [
        "87) When is the finally block executed?"
      ]
    },
    {
      "cell_type": "markdown",
      "metadata": {
        "id": "8DEFwtUPyqCJ"
      },
      "source": [
        "ANSWER 87 -:\n",
        "\n",
        "The ***FINALLY*** block is executed when the code has passed through the TRY and EXCEPT blocks sucessfully. Or when the code is terminated even after going throught TRY and EXCEPT execution."
      ]
    },
    {
      "cell_type": "markdown",
      "metadata": {
        "id": "HFJK_HbfmXvl"
      },
      "source": [
        "88) What happens when „1‟== 1 is executed?"
      ]
    },
    {
      "cell_type": "markdown",
      "metadata": {
        "id": "MuUSynkM5FP7"
      },
      "source": [
        "ANSWER 88 -:\n",
        "\n",
        "This code would display a syntax error as the quatations are positioned in a wrong way and the code won't continue further."
      ]
    },
    {
      "cell_type": "code",
      "execution_count": 18,
      "metadata": {
        "colab": {
          "base_uri": "https://localhost:8080/",
          "height": 110
        },
        "id": "MKcOhpl5N8hC",
        "outputId": "266ce57a-ccf8-4e9c-9d85-90bae16af6c4"
      },
      "outputs": [
        {
          "output_type": "error",
          "ename": "SyntaxError",
          "evalue": "unterminated string literal (detected at line 3) (<ipython-input-18-257fceabac78>, line 3)",
          "traceback": [
            "\u001b[0;36m  File \u001b[0;32m\"<ipython-input-18-257fceabac78>\"\u001b[0;36m, line \u001b[0;32m3\u001b[0m\n\u001b[0;31m    1\"==1(\"\")(\"\")\u001b[0m\n\u001b[0m               ^\u001b[0m\n\u001b[0;31mSyntaxError\u001b[0m\u001b[0;31m:\u001b[0m unterminated string literal (detected at line 3)\n"
          ]
        }
      ],
      "source": [
        "#ANSWER 88 -:\n",
        "\n",
        ",,1\"==1\n",
        "\n",
        "\"\"\"Correct Input to get Boolean Output -:\"\"\"\n",
        "\"1\"==1     #Output : False\n",
        "\n",
        "\"1\"==\"1\"    #Output : True"
      ]
    },
    {
      "cell_type": "markdown",
      "metadata": {
        "id": "a1LHn0lnmZOZ"
      },
      "source": [
        "89) How Do You Handle Exceptions with Try/Except/Finally in Python? Explain with coding snippets."
      ]
    },
    {
      "cell_type": "code",
      "execution_count": 8,
      "metadata": {
        "colab": {
          "base_uri": "https://localhost:8080/",
          "height": 237
        },
        "id": "37SKIhX_N9Te",
        "outputId": "bb8e3a14-fe49-45f9-b925-1cd49a031080"
      },
      "outputs": [
        {
          "output_type": "stream",
          "name": "stdout",
          "text": [
            "Enter a number : 12\n",
            "Enter a divisor : 2\n",
            "Duh.....strings can't be divided.\n"
          ]
        },
        {
          "output_type": "error",
          "ename": "NameError",
          "evalue": "name 'answer' is not defined",
          "traceback": [
            "\u001b[0;31m---------------------------------------------------------------------------\u001b[0m",
            "\u001b[0;31mNameError\u001b[0m                                 Traceback (most recent call last)",
            "\u001b[0;32m<ipython-input-8-a2856f54c3e5>\u001b[0m in \u001b[0;36m<cell line: 0>\u001b[0;34m()\u001b[0m\n\u001b[1;32m     14\u001b[0m   \u001b[0mprint\u001b[0m\u001b[0;34m(\u001b[0m\u001b[0;34m\"Duh.....strings can't be divided.\"\u001b[0m\u001b[0;34m)\u001b[0m\u001b[0;34m\u001b[0m\u001b[0;34m\u001b[0m\u001b[0m\n\u001b[1;32m     15\u001b[0m \u001b[0;32mfinally\u001b[0m \u001b[0;34m:\u001b[0m\u001b[0;34m\u001b[0m\u001b[0;34m\u001b[0m\u001b[0m\n\u001b[0;32m---> 16\u001b[0;31m   \u001b[0mprint\u001b[0m\u001b[0;34m(\u001b[0m\u001b[0;34m\"Finally, The answer is\"\u001b[0m\u001b[0;34m,\u001b[0m \u001b[0manswer\u001b[0m\u001b[0;34m)\u001b[0m               \u001b[0;31m#final statement if the conditions are sorted or true in first place\u001b[0m\u001b[0;34m\u001b[0m\u001b[0;34m\u001b[0m\u001b[0m\n\u001b[0m",
            "\u001b[0;31mNameError\u001b[0m: name 'answer' is not defined"
          ]
        }
      ],
      "source": [
        "#ANSWER 89 -:\n",
        "\n",
        "\"\"\"Trying to perform the division with handlng possible exceptions.\"\"\"\n",
        "\n",
        "number = input(\"Enter a number : \")    #user input for numbers\n",
        "divisor = input(\"Enter a divisor : \")\n",
        "\n",
        "try :\n",
        "  answer = number / divisor       #passing one try code\n",
        "\n",
        "except ZeroDivisionError :                             #listing possible exceptions\n",
        "  print(\"Errrr....you're dividing the number with Zero\")\n",
        "except TypeError :                                 #due to invalid user input\n",
        "  print(\"Duh.....strings can't be divided.\")\n",
        "finally :\n",
        "  print(\"Finally, The answer is\", answer)               #final statement if the conditions are sorted or true in first place"
      ]
    },
    {
      "cell_type": "markdown",
      "metadata": {
        "id": "7iUEJPRHmbHw"
      },
      "source": [
        "90) Write python program that user to enter only odd numbers, else will raise an exception."
      ]
    },
    {
      "cell_type": "code",
      "execution_count": 7,
      "metadata": {
        "id": "m3cnjdm1N9rP",
        "colab": {
          "base_uri": "https://localhost:8080/"
        },
        "outputId": "2b555c23-e83d-4a1a-a377-dc5b8a1c6c1b"
      },
      "outputs": [
        {
          "output_type": "stream",
          "name": "stdout",
          "text": [
            "Enter an odd number : 212\n",
            "Invalid number\n"
          ]
        }
      ],
      "source": [
        "#ANSWER 90 -:\n",
        "\n",
        "u_input = int(input(\"Enter an odd number : \"))\n",
        "\n",
        "if u_input %2 != 0 :    #chekcs if the number is odd before using it\n",
        "  print(u_input)\n",
        "\n",
        "else :\n",
        "  print(\"Invalid number\")   #ends the cycle if not an odd number1"
      ]
    },
    {
      "cell_type": "markdown",
      "metadata": {
        "id": "s9t1TAVBshI-"
      },
      "source": [
        "##REFERENCES -:\n",
        "\n",
        "1. https://www.w3schools.com/python/python_ref_file.asp\n",
        "2. https://www.w3schools.com/python/python_ref_string.asp\n",
        "3. https://www.w3schools.com/python/python_ref_list.asp\n",
        "4. https://www.w3schools.com/python/python_ref_set.asp\n",
        "5. https://www.w3schools.com/python/ref_dictionary_values.asp\n",
        "6. https://www.w3schools.com/python/python_ref_tuple.asp\n",
        "7. https://www.w3schools.com/Python/module_random.asp\n",
        "8. https://www.w3schools.com/python/default.asp\n",
        "9. https://www.geeksforgeeks.org/python-programming-language-tutorial/\n",
        "10. https://docs.python.org/3/tutorial/errors.html#"
      ]
    }
  ],
  "metadata": {
    "colab": {
      "provenance": []
    },
    "kernelspec": {
      "display_name": "Python 3",
      "name": "python3"
    },
    "language_info": {
      "name": "python"
    }
  },
  "nbformat": 4,
  "nbformat_minor": 0
}